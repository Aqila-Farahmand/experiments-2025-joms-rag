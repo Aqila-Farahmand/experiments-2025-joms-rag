{
 "cells": [
  {
   "cell_type": "code",
   "id": "15156afd-3725-4cbd-b799-3566d0ace0f8",
   "metadata": {
    "tags": [],
    "ExecuteTime": {
     "end_time": "2025-04-17T15:33:35.843937Z",
     "start_time": "2025-04-17T15:33:35.121944Z"
    }
   },
   "source": "!pip install llama-index-core llama-index-readers-file llama-index-llms-ollama llama-index-embeddings-huggingface",
   "outputs": [
    {
     "name": "stdout",
     "output_type": "stream",
     "text": [
      "Requirement already satisfied: llama-index-core in /Users/aqilafarahmand/Library/Caches/pypoetry/virtualenvs/experiments-2025-joms-rag-kQVmZs0C-py3.12/lib/python3.12/site-packages (0.12.31)\r\n",
      "Requirement already satisfied: llama-index-readers-file in /Users/aqilafarahmand/Library/Caches/pypoetry/virtualenvs/experiments-2025-joms-rag-kQVmZs0C-py3.12/lib/python3.12/site-packages (0.4.7)\r\n",
      "Requirement already satisfied: llama-index-llms-ollama in /Users/aqilafarahmand/Library/Caches/pypoetry/virtualenvs/experiments-2025-joms-rag-kQVmZs0C-py3.12/lib/python3.12/site-packages (0.5.4)\r\n",
      "Requirement already satisfied: llama-index-embeddings-huggingface in /Users/aqilafarahmand/Library/Caches/pypoetry/virtualenvs/experiments-2025-joms-rag-kQVmZs0C-py3.12/lib/python3.12/site-packages (0.5.3)\r\n",
      "Requirement already satisfied: PyYAML>=6.0.1 in /Users/aqilafarahmand/Library/Caches/pypoetry/virtualenvs/experiments-2025-joms-rag-kQVmZs0C-py3.12/lib/python3.12/site-packages (from llama-index-core) (6.0.2)\r\n",
      "Requirement already satisfied: SQLAlchemy>=1.4.49 in /Users/aqilafarahmand/Library/Caches/pypoetry/virtualenvs/experiments-2025-joms-rag-kQVmZs0C-py3.12/lib/python3.12/site-packages (from SQLAlchemy[asyncio]>=1.4.49->llama-index-core) (2.0.40)\r\n",
      "Requirement already satisfied: aiohttp<4.0.0,>=3.8.6 in /Users/aqilafarahmand/Library/Caches/pypoetry/virtualenvs/experiments-2025-joms-rag-kQVmZs0C-py3.12/lib/python3.12/site-packages (from llama-index-core) (3.11.16)\r\n",
      "Requirement already satisfied: banks<3.0.0,>=2.0.0 in /Users/aqilafarahmand/Library/Caches/pypoetry/virtualenvs/experiments-2025-joms-rag-kQVmZs0C-py3.12/lib/python3.12/site-packages (from llama-index-core) (2.1.1)\r\n",
      "Requirement already satisfied: dataclasses-json in /Users/aqilafarahmand/Library/Caches/pypoetry/virtualenvs/experiments-2025-joms-rag-kQVmZs0C-py3.12/lib/python3.12/site-packages (from llama-index-core) (0.6.7)\r\n",
      "Requirement already satisfied: deprecated>=1.2.9.3 in /Users/aqilafarahmand/Library/Caches/pypoetry/virtualenvs/experiments-2025-joms-rag-kQVmZs0C-py3.12/lib/python3.12/site-packages (from llama-index-core) (1.2.18)\r\n",
      "Requirement already satisfied: dirtyjson<2.0.0,>=1.0.8 in /Users/aqilafarahmand/Library/Caches/pypoetry/virtualenvs/experiments-2025-joms-rag-kQVmZs0C-py3.12/lib/python3.12/site-packages (from llama-index-core) (1.0.8)\r\n",
      "Requirement already satisfied: filetype<2.0.0,>=1.2.0 in /Users/aqilafarahmand/Library/Caches/pypoetry/virtualenvs/experiments-2025-joms-rag-kQVmZs0C-py3.12/lib/python3.12/site-packages (from llama-index-core) (1.2.0)\r\n",
      "Requirement already satisfied: fsspec>=2023.5.0 in /Users/aqilafarahmand/Library/Caches/pypoetry/virtualenvs/experiments-2025-joms-rag-kQVmZs0C-py3.12/lib/python3.12/site-packages (from llama-index-core) (2025.3.2)\r\n",
      "Requirement already satisfied: httpx in /Users/aqilafarahmand/Library/Caches/pypoetry/virtualenvs/experiments-2025-joms-rag-kQVmZs0C-py3.12/lib/python3.12/site-packages (from llama-index-core) (0.28.1)\r\n",
      "Requirement already satisfied: nest-asyncio<2.0.0,>=1.5.8 in /Users/aqilafarahmand/Library/Caches/pypoetry/virtualenvs/experiments-2025-joms-rag-kQVmZs0C-py3.12/lib/python3.12/site-packages (from llama-index-core) (1.6.0)\r\n",
      "Requirement already satisfied: networkx>=3.0 in /Users/aqilafarahmand/Library/Caches/pypoetry/virtualenvs/experiments-2025-joms-rag-kQVmZs0C-py3.12/lib/python3.12/site-packages (from llama-index-core) (3.4.2)\r\n",
      "Requirement already satisfied: nltk>3.8.1 in /Users/aqilafarahmand/Library/Caches/pypoetry/virtualenvs/experiments-2025-joms-rag-kQVmZs0C-py3.12/lib/python3.12/site-packages (from llama-index-core) (3.9.1)\r\n",
      "Requirement already satisfied: numpy in /Users/aqilafarahmand/Library/Caches/pypoetry/virtualenvs/experiments-2025-joms-rag-kQVmZs0C-py3.12/lib/python3.12/site-packages (from llama-index-core) (2.0.2)\r\n",
      "Requirement already satisfied: pillow>=9.0.0 in /Users/aqilafarahmand/Library/Caches/pypoetry/virtualenvs/experiments-2025-joms-rag-kQVmZs0C-py3.12/lib/python3.12/site-packages (from llama-index-core) (10.4.0)\r\n",
      "Requirement already satisfied: pydantic>=2.8.0 in /Users/aqilafarahmand/Library/Caches/pypoetry/virtualenvs/experiments-2025-joms-rag-kQVmZs0C-py3.12/lib/python3.12/site-packages (from llama-index-core) (2.11.3)\r\n",
      "Requirement already satisfied: requests>=2.31.0 in /Users/aqilafarahmand/Library/Caches/pypoetry/virtualenvs/experiments-2025-joms-rag-kQVmZs0C-py3.12/lib/python3.12/site-packages (from llama-index-core) (2.32.3)\r\n",
      "Requirement already satisfied: tenacity!=8.4.0,<10.0.0,>=8.2.0 in /Users/aqilafarahmand/Library/Caches/pypoetry/virtualenvs/experiments-2025-joms-rag-kQVmZs0C-py3.12/lib/python3.12/site-packages (from llama-index-core) (9.1.2)\r\n",
      "Requirement already satisfied: tiktoken>=0.3.3 in /Users/aqilafarahmand/Library/Caches/pypoetry/virtualenvs/experiments-2025-joms-rag-kQVmZs0C-py3.12/lib/python3.12/site-packages (from llama-index-core) (0.9.0)\r\n",
      "Requirement already satisfied: tqdm<5.0.0,>=4.66.1 in /Users/aqilafarahmand/Library/Caches/pypoetry/virtualenvs/experiments-2025-joms-rag-kQVmZs0C-py3.12/lib/python3.12/site-packages (from llama-index-core) (4.67.1)\r\n",
      "Requirement already satisfied: typing-extensions>=4.5.0 in /Users/aqilafarahmand/Library/Caches/pypoetry/virtualenvs/experiments-2025-joms-rag-kQVmZs0C-py3.12/lib/python3.12/site-packages (from llama-index-core) (4.13.2)\r\n",
      "Requirement already satisfied: typing-inspect>=0.8.0 in /Users/aqilafarahmand/Library/Caches/pypoetry/virtualenvs/experiments-2025-joms-rag-kQVmZs0C-py3.12/lib/python3.12/site-packages (from llama-index-core) (0.9.0)\r\n",
      "Requirement already satisfied: wrapt in /Users/aqilafarahmand/Library/Caches/pypoetry/virtualenvs/experiments-2025-joms-rag-kQVmZs0C-py3.12/lib/python3.12/site-packages (from llama-index-core) (1.17.2)\r\n",
      "Requirement already satisfied: beautifulsoup4<5.0.0,>=4.12.3 in /Users/aqilafarahmand/Library/Caches/pypoetry/virtualenvs/experiments-2025-joms-rag-kQVmZs0C-py3.12/lib/python3.12/site-packages (from llama-index-readers-file) (4.13.4)\r\n",
      "Requirement already satisfied: pandas in /Users/aqilafarahmand/Library/Caches/pypoetry/virtualenvs/experiments-2025-joms-rag-kQVmZs0C-py3.12/lib/python3.12/site-packages (from llama-index-readers-file) (2.2.3)\r\n",
      "Requirement already satisfied: pypdf<6.0.0,>=5.1.0 in /Users/aqilafarahmand/Library/Caches/pypoetry/virtualenvs/experiments-2025-joms-rag-kQVmZs0C-py3.12/lib/python3.12/site-packages (from llama-index-readers-file) (5.4.0)\r\n",
      "Requirement already satisfied: striprtf<0.0.27,>=0.0.26 in /Users/aqilafarahmand/Library/Caches/pypoetry/virtualenvs/experiments-2025-joms-rag-kQVmZs0C-py3.12/lib/python3.12/site-packages (from llama-index-readers-file) (0.0.26)\r\n",
      "Requirement already satisfied: ollama>=0.4.3 in /Users/aqilafarahmand/Library/Caches/pypoetry/virtualenvs/experiments-2025-joms-rag-kQVmZs0C-py3.12/lib/python3.12/site-packages (from llama-index-llms-ollama) (0.4.8)\r\n",
      "Requirement already satisfied: huggingface-hub>=0.19.0 in /Users/aqilafarahmand/Library/Caches/pypoetry/virtualenvs/experiments-2025-joms-rag-kQVmZs0C-py3.12/lib/python3.12/site-packages (from huggingface-hub[inference]>=0.19.0->llama-index-embeddings-huggingface) (0.30.2)\r\n",
      "Requirement already satisfied: sentence-transformers>=2.6.1 in /Users/aqilafarahmand/Library/Caches/pypoetry/virtualenvs/experiments-2025-joms-rag-kQVmZs0C-py3.12/lib/python3.12/site-packages (from llama-index-embeddings-huggingface) (4.1.0)\r\n",
      "Requirement already satisfied: aiohappyeyeballs>=2.3.0 in /Users/aqilafarahmand/Library/Caches/pypoetry/virtualenvs/experiments-2025-joms-rag-kQVmZs0C-py3.12/lib/python3.12/site-packages (from aiohttp<4.0.0,>=3.8.6->llama-index-core) (2.6.1)\r\n",
      "Requirement already satisfied: aiosignal>=1.1.2 in /Users/aqilafarahmand/Library/Caches/pypoetry/virtualenvs/experiments-2025-joms-rag-kQVmZs0C-py3.12/lib/python3.12/site-packages (from aiohttp<4.0.0,>=3.8.6->llama-index-core) (1.3.2)\r\n",
      "Requirement already satisfied: attrs>=17.3.0 in /Users/aqilafarahmand/Library/Caches/pypoetry/virtualenvs/experiments-2025-joms-rag-kQVmZs0C-py3.12/lib/python3.12/site-packages (from aiohttp<4.0.0,>=3.8.6->llama-index-core) (25.3.0)\r\n",
      "Requirement already satisfied: frozenlist>=1.1.1 in /Users/aqilafarahmand/Library/Caches/pypoetry/virtualenvs/experiments-2025-joms-rag-kQVmZs0C-py3.12/lib/python3.12/site-packages (from aiohttp<4.0.0,>=3.8.6->llama-index-core) (1.5.0)\r\n",
      "Requirement already satisfied: multidict<7.0,>=4.5 in /Users/aqilafarahmand/Library/Caches/pypoetry/virtualenvs/experiments-2025-joms-rag-kQVmZs0C-py3.12/lib/python3.12/site-packages (from aiohttp<4.0.0,>=3.8.6->llama-index-core) (6.4.3)\r\n",
      "Requirement already satisfied: propcache>=0.2.0 in /Users/aqilafarahmand/Library/Caches/pypoetry/virtualenvs/experiments-2025-joms-rag-kQVmZs0C-py3.12/lib/python3.12/site-packages (from aiohttp<4.0.0,>=3.8.6->llama-index-core) (0.3.1)\r\n",
      "Requirement already satisfied: yarl<2.0,>=1.17.0 in /Users/aqilafarahmand/Library/Caches/pypoetry/virtualenvs/experiments-2025-joms-rag-kQVmZs0C-py3.12/lib/python3.12/site-packages (from aiohttp<4.0.0,>=3.8.6->llama-index-core) (1.20.0)\r\n",
      "Requirement already satisfied: griffe in /Users/aqilafarahmand/Library/Caches/pypoetry/virtualenvs/experiments-2025-joms-rag-kQVmZs0C-py3.12/lib/python3.12/site-packages (from banks<3.0.0,>=2.0.0->llama-index-core) (1.7.2)\r\n",
      "Requirement already satisfied: jinja2 in /Users/aqilafarahmand/Library/Caches/pypoetry/virtualenvs/experiments-2025-joms-rag-kQVmZs0C-py3.12/lib/python3.12/site-packages (from banks<3.0.0,>=2.0.0->llama-index-core) (3.1.6)\r\n",
      "Requirement already satisfied: platformdirs in /Users/aqilafarahmand/Library/Caches/pypoetry/virtualenvs/experiments-2025-joms-rag-kQVmZs0C-py3.12/lib/python3.12/site-packages (from banks<3.0.0,>=2.0.0->llama-index-core) (4.3.7)\r\n",
      "Requirement already satisfied: soupsieve>1.2 in /Users/aqilafarahmand/Library/Caches/pypoetry/virtualenvs/experiments-2025-joms-rag-kQVmZs0C-py3.12/lib/python3.12/site-packages (from beautifulsoup4<5.0.0,>=4.12.3->llama-index-readers-file) (2.6)\r\n",
      "Requirement already satisfied: filelock in /Users/aqilafarahmand/Library/Caches/pypoetry/virtualenvs/experiments-2025-joms-rag-kQVmZs0C-py3.12/lib/python3.12/site-packages (from huggingface-hub>=0.19.0->huggingface-hub[inference]>=0.19.0->llama-index-embeddings-huggingface) (3.18.0)\r\n",
      "Requirement already satisfied: packaging>=20.9 in /Users/aqilafarahmand/Library/Caches/pypoetry/virtualenvs/experiments-2025-joms-rag-kQVmZs0C-py3.12/lib/python3.12/site-packages (from huggingface-hub>=0.19.0->huggingface-hub[inference]>=0.19.0->llama-index-embeddings-huggingface) (24.2)\r\n",
      "Requirement already satisfied: click in /Users/aqilafarahmand/Library/Caches/pypoetry/virtualenvs/experiments-2025-joms-rag-kQVmZs0C-py3.12/lib/python3.12/site-packages (from nltk>3.8.1->llama-index-core) (8.1.8)\r\n",
      "Requirement already satisfied: joblib in /Users/aqilafarahmand/Library/Caches/pypoetry/virtualenvs/experiments-2025-joms-rag-kQVmZs0C-py3.12/lib/python3.12/site-packages (from nltk>3.8.1->llama-index-core) (1.4.2)\r\n",
      "Requirement already satisfied: regex>=2021.8.3 in /Users/aqilafarahmand/Library/Caches/pypoetry/virtualenvs/experiments-2025-joms-rag-kQVmZs0C-py3.12/lib/python3.12/site-packages (from nltk>3.8.1->llama-index-core) (2024.11.6)\r\n",
      "Requirement already satisfied: anyio in /Users/aqilafarahmand/Library/Caches/pypoetry/virtualenvs/experiments-2025-joms-rag-kQVmZs0C-py3.12/lib/python3.12/site-packages (from httpx->llama-index-core) (4.9.0)\r\n",
      "Requirement already satisfied: certifi in /Users/aqilafarahmand/Library/Caches/pypoetry/virtualenvs/experiments-2025-joms-rag-kQVmZs0C-py3.12/lib/python3.12/site-packages (from httpx->llama-index-core) (2025.1.31)\r\n",
      "Requirement already satisfied: httpcore==1.* in /Users/aqilafarahmand/Library/Caches/pypoetry/virtualenvs/experiments-2025-joms-rag-kQVmZs0C-py3.12/lib/python3.12/site-packages (from httpx->llama-index-core) (1.0.8)\r\n",
      "Requirement already satisfied: idna in /Users/aqilafarahmand/Library/Caches/pypoetry/virtualenvs/experiments-2025-joms-rag-kQVmZs0C-py3.12/lib/python3.12/site-packages (from httpx->llama-index-core) (3.10)\r\n",
      "Requirement already satisfied: h11<0.15,>=0.13 in /Users/aqilafarahmand/Library/Caches/pypoetry/virtualenvs/experiments-2025-joms-rag-kQVmZs0C-py3.12/lib/python3.12/site-packages (from httpcore==1.*->httpx->llama-index-core) (0.14.0)\r\n",
      "Requirement already satisfied: annotated-types>=0.6.0 in /Users/aqilafarahmand/Library/Caches/pypoetry/virtualenvs/experiments-2025-joms-rag-kQVmZs0C-py3.12/lib/python3.12/site-packages (from pydantic>=2.8.0->llama-index-core) (0.7.0)\r\n",
      "Requirement already satisfied: pydantic-core==2.33.1 in /Users/aqilafarahmand/Library/Caches/pypoetry/virtualenvs/experiments-2025-joms-rag-kQVmZs0C-py3.12/lib/python3.12/site-packages (from pydantic>=2.8.0->llama-index-core) (2.33.1)\r\n",
      "Requirement already satisfied: typing-inspection>=0.4.0 in /Users/aqilafarahmand/Library/Caches/pypoetry/virtualenvs/experiments-2025-joms-rag-kQVmZs0C-py3.12/lib/python3.12/site-packages (from pydantic>=2.8.0->llama-index-core) (0.4.0)\r\n",
      "Requirement already satisfied: charset-normalizer<4,>=2 in /Users/aqilafarahmand/Library/Caches/pypoetry/virtualenvs/experiments-2025-joms-rag-kQVmZs0C-py3.12/lib/python3.12/site-packages (from requests>=2.31.0->llama-index-core) (3.4.1)\r\n",
      "Requirement already satisfied: urllib3<3,>=1.21.1 in /Users/aqilafarahmand/Library/Caches/pypoetry/virtualenvs/experiments-2025-joms-rag-kQVmZs0C-py3.12/lib/python3.12/site-packages (from requests>=2.31.0->llama-index-core) (2.4.0)\r\n",
      "Requirement already satisfied: transformers<5.0.0,>=4.41.0 in /Users/aqilafarahmand/Library/Caches/pypoetry/virtualenvs/experiments-2025-joms-rag-kQVmZs0C-py3.12/lib/python3.12/site-packages (from sentence-transformers>=2.6.1->llama-index-embeddings-huggingface) (4.51.3)\r\n",
      "Requirement already satisfied: torch>=1.11.0 in /Users/aqilafarahmand/Library/Caches/pypoetry/virtualenvs/experiments-2025-joms-rag-kQVmZs0C-py3.12/lib/python3.12/site-packages (from sentence-transformers>=2.6.1->llama-index-embeddings-huggingface) (2.6.0)\r\n",
      "Requirement already satisfied: scikit-learn in /Users/aqilafarahmand/Library/Caches/pypoetry/virtualenvs/experiments-2025-joms-rag-kQVmZs0C-py3.12/lib/python3.12/site-packages (from sentence-transformers>=2.6.1->llama-index-embeddings-huggingface) (1.6.1)\r\n",
      "Requirement already satisfied: scipy in /Users/aqilafarahmand/Library/Caches/pypoetry/virtualenvs/experiments-2025-joms-rag-kQVmZs0C-py3.12/lib/python3.12/site-packages (from sentence-transformers>=2.6.1->llama-index-embeddings-huggingface) (1.15.2)\r\n",
      "Requirement already satisfied: greenlet>=1 in /Users/aqilafarahmand/Library/Caches/pypoetry/virtualenvs/experiments-2025-joms-rag-kQVmZs0C-py3.12/lib/python3.12/site-packages (from SQLAlchemy[asyncio]>=1.4.49->llama-index-core) (3.2.0)\r\n",
      "Requirement already satisfied: mypy-extensions>=0.3.0 in /Users/aqilafarahmand/Library/Caches/pypoetry/virtualenvs/experiments-2025-joms-rag-kQVmZs0C-py3.12/lib/python3.12/site-packages (from typing-inspect>=0.8.0->llama-index-core) (1.0.0)\r\n",
      "Requirement already satisfied: marshmallow<4.0.0,>=3.18.0 in /Users/aqilafarahmand/Library/Caches/pypoetry/virtualenvs/experiments-2025-joms-rag-kQVmZs0C-py3.12/lib/python3.12/site-packages (from dataclasses-json->llama-index-core) (3.26.1)\r\n",
      "Requirement already satisfied: python-dateutil>=2.8.2 in /Users/aqilafarahmand/Library/Caches/pypoetry/virtualenvs/experiments-2025-joms-rag-kQVmZs0C-py3.12/lib/python3.12/site-packages (from pandas->llama-index-readers-file) (2.9.0.post0)\r\n",
      "Requirement already satisfied: pytz>=2020.1 in /Users/aqilafarahmand/Library/Caches/pypoetry/virtualenvs/experiments-2025-joms-rag-kQVmZs0C-py3.12/lib/python3.12/site-packages (from pandas->llama-index-readers-file) (2025.2)\r\n",
      "Requirement already satisfied: tzdata>=2022.7 in /Users/aqilafarahmand/Library/Caches/pypoetry/virtualenvs/experiments-2025-joms-rag-kQVmZs0C-py3.12/lib/python3.12/site-packages (from pandas->llama-index-readers-file) (2025.2)\r\n",
      "Requirement already satisfied: six>=1.5 in /Users/aqilafarahmand/Library/Caches/pypoetry/virtualenvs/experiments-2025-joms-rag-kQVmZs0C-py3.12/lib/python3.12/site-packages (from python-dateutil>=2.8.2->pandas->llama-index-readers-file) (1.17.0)\r\n",
      "Requirement already satisfied: setuptools in /Users/aqilafarahmand/Library/Caches/pypoetry/virtualenvs/experiments-2025-joms-rag-kQVmZs0C-py3.12/lib/python3.12/site-packages (from torch>=1.11.0->sentence-transformers>=2.6.1->llama-index-embeddings-huggingface) (78.1.0)\r\n",
      "Requirement already satisfied: sympy==1.13.1 in /Users/aqilafarahmand/Library/Caches/pypoetry/virtualenvs/experiments-2025-joms-rag-kQVmZs0C-py3.12/lib/python3.12/site-packages (from torch>=1.11.0->sentence-transformers>=2.6.1->llama-index-embeddings-huggingface) (1.13.1)\r\n",
      "Requirement already satisfied: mpmath<1.4,>=1.1.0 in /Users/aqilafarahmand/Library/Caches/pypoetry/virtualenvs/experiments-2025-joms-rag-kQVmZs0C-py3.12/lib/python3.12/site-packages (from sympy==1.13.1->torch>=1.11.0->sentence-transformers>=2.6.1->llama-index-embeddings-huggingface) (1.3.0)\r\n",
      "Requirement already satisfied: tokenizers<0.22,>=0.21 in /Users/aqilafarahmand/Library/Caches/pypoetry/virtualenvs/experiments-2025-joms-rag-kQVmZs0C-py3.12/lib/python3.12/site-packages (from transformers<5.0.0,>=4.41.0->sentence-transformers>=2.6.1->llama-index-embeddings-huggingface) (0.21.1)\r\n",
      "Requirement already satisfied: safetensors>=0.4.3 in /Users/aqilafarahmand/Library/Caches/pypoetry/virtualenvs/experiments-2025-joms-rag-kQVmZs0C-py3.12/lib/python3.12/site-packages (from transformers<5.0.0,>=4.41.0->sentence-transformers>=2.6.1->llama-index-embeddings-huggingface) (0.5.3)\r\n",
      "Requirement already satisfied: sniffio>=1.1 in /Users/aqilafarahmand/Library/Caches/pypoetry/virtualenvs/experiments-2025-joms-rag-kQVmZs0C-py3.12/lib/python3.12/site-packages (from anyio->httpx->llama-index-core) (1.3.1)\r\n",
      "Requirement already satisfied: colorama>=0.4 in /Users/aqilafarahmand/Library/Caches/pypoetry/virtualenvs/experiments-2025-joms-rag-kQVmZs0C-py3.12/lib/python3.12/site-packages (from griffe->banks<3.0.0,>=2.0.0->llama-index-core) (0.4.6)\r\n",
      "Requirement already satisfied: MarkupSafe>=2.0 in /Users/aqilafarahmand/Library/Caches/pypoetry/virtualenvs/experiments-2025-joms-rag-kQVmZs0C-py3.12/lib/python3.12/site-packages (from jinja2->banks<3.0.0,>=2.0.0->llama-index-core) (3.0.2)\r\n",
      "Requirement already satisfied: threadpoolctl>=3.1.0 in /Users/aqilafarahmand/Library/Caches/pypoetry/virtualenvs/experiments-2025-joms-rag-kQVmZs0C-py3.12/lib/python3.12/site-packages (from scikit-learn->sentence-transformers>=2.6.1->llama-index-embeddings-huggingface) (3.6.0)\r\n"
     ]
    }
   ],
   "execution_count": 1
  },
  {
   "cell_type": "code",
   "id": "6a4e3442-fdfa-444f-b37e-416b541417b3",
   "metadata": {
    "tags": [],
    "ExecuteTime": {
     "end_time": "2025-04-17T15:33:36.533523Z",
     "start_time": "2025-04-17T15:33:35.845509Z"
    }
   },
   "source": "!pip install llama_index",
   "outputs": [
    {
     "name": "stdout",
     "output_type": "stream",
     "text": [
      "Requirement already satisfied: llama_index in /Users/aqilafarahmand/Library/Caches/pypoetry/virtualenvs/experiments-2025-joms-rag-kQVmZs0C-py3.12/lib/python3.12/site-packages (0.12.31)\r\n",
      "Requirement already satisfied: llama-index-agent-openai<0.5.0,>=0.4.0 in /Users/aqilafarahmand/Library/Caches/pypoetry/virtualenvs/experiments-2025-joms-rag-kQVmZs0C-py3.12/lib/python3.12/site-packages (from llama_index) (0.4.6)\r\n",
      "Requirement already satisfied: llama-index-cli<0.5.0,>=0.4.1 in /Users/aqilafarahmand/Library/Caches/pypoetry/virtualenvs/experiments-2025-joms-rag-kQVmZs0C-py3.12/lib/python3.12/site-packages (from llama_index) (0.4.1)\r\n",
      "Requirement already satisfied: llama-index-core<0.13.0,>=0.12.31 in /Users/aqilafarahmand/Library/Caches/pypoetry/virtualenvs/experiments-2025-joms-rag-kQVmZs0C-py3.12/lib/python3.12/site-packages (from llama_index) (0.12.31)\r\n",
      "Requirement already satisfied: llama-index-embeddings-openai<0.4.0,>=0.3.0 in /Users/aqilafarahmand/Library/Caches/pypoetry/virtualenvs/experiments-2025-joms-rag-kQVmZs0C-py3.12/lib/python3.12/site-packages (from llama_index) (0.3.1)\r\n",
      "Requirement already satisfied: llama-index-indices-managed-llama-cloud>=0.4.0 in /Users/aqilafarahmand/Library/Caches/pypoetry/virtualenvs/experiments-2025-joms-rag-kQVmZs0C-py3.12/lib/python3.12/site-packages (from llama_index) (0.6.11)\r\n",
      "Requirement already satisfied: llama-index-llms-openai<0.4.0,>=0.3.0 in /Users/aqilafarahmand/Library/Caches/pypoetry/virtualenvs/experiments-2025-joms-rag-kQVmZs0C-py3.12/lib/python3.12/site-packages (from llama_index) (0.3.37)\r\n",
      "Requirement already satisfied: llama-index-multi-modal-llms-openai<0.5.0,>=0.4.0 in /Users/aqilafarahmand/Library/Caches/pypoetry/virtualenvs/experiments-2025-joms-rag-kQVmZs0C-py3.12/lib/python3.12/site-packages (from llama_index) (0.4.3)\r\n",
      "Requirement already satisfied: llama-index-program-openai<0.4.0,>=0.3.0 in /Users/aqilafarahmand/Library/Caches/pypoetry/virtualenvs/experiments-2025-joms-rag-kQVmZs0C-py3.12/lib/python3.12/site-packages (from llama_index) (0.3.1)\r\n",
      "Requirement already satisfied: llama-index-question-gen-openai<0.4.0,>=0.3.0 in /Users/aqilafarahmand/Library/Caches/pypoetry/virtualenvs/experiments-2025-joms-rag-kQVmZs0C-py3.12/lib/python3.12/site-packages (from llama_index) (0.3.0)\r\n",
      "Requirement already satisfied: llama-index-readers-file<0.5.0,>=0.4.0 in /Users/aqilafarahmand/Library/Caches/pypoetry/virtualenvs/experiments-2025-joms-rag-kQVmZs0C-py3.12/lib/python3.12/site-packages (from llama_index) (0.4.7)\r\n",
      "Requirement already satisfied: llama-index-readers-llama-parse>=0.4.0 in /Users/aqilafarahmand/Library/Caches/pypoetry/virtualenvs/experiments-2025-joms-rag-kQVmZs0C-py3.12/lib/python3.12/site-packages (from llama_index) (0.4.0)\r\n",
      "Requirement already satisfied: nltk>3.8.1 in /Users/aqilafarahmand/Library/Caches/pypoetry/virtualenvs/experiments-2025-joms-rag-kQVmZs0C-py3.12/lib/python3.12/site-packages (from llama_index) (3.9.1)\r\n",
      "Requirement already satisfied: openai>=1.14.0 in /Users/aqilafarahmand/Library/Caches/pypoetry/virtualenvs/experiments-2025-joms-rag-kQVmZs0C-py3.12/lib/python3.12/site-packages (from llama-index-agent-openai<0.5.0,>=0.4.0->llama_index) (1.75.0)\r\n",
      "Requirement already satisfied: PyYAML>=6.0.1 in /Users/aqilafarahmand/Library/Caches/pypoetry/virtualenvs/experiments-2025-joms-rag-kQVmZs0C-py3.12/lib/python3.12/site-packages (from llama-index-core<0.13.0,>=0.12.31->llama_index) (6.0.2)\r\n",
      "Requirement already satisfied: SQLAlchemy>=1.4.49 in /Users/aqilafarahmand/Library/Caches/pypoetry/virtualenvs/experiments-2025-joms-rag-kQVmZs0C-py3.12/lib/python3.12/site-packages (from SQLAlchemy[asyncio]>=1.4.49->llama-index-core<0.13.0,>=0.12.31->llama_index) (2.0.40)\r\n",
      "Requirement already satisfied: aiohttp<4.0.0,>=3.8.6 in /Users/aqilafarahmand/Library/Caches/pypoetry/virtualenvs/experiments-2025-joms-rag-kQVmZs0C-py3.12/lib/python3.12/site-packages (from llama-index-core<0.13.0,>=0.12.31->llama_index) (3.11.16)\r\n",
      "Requirement already satisfied: banks<3.0.0,>=2.0.0 in /Users/aqilafarahmand/Library/Caches/pypoetry/virtualenvs/experiments-2025-joms-rag-kQVmZs0C-py3.12/lib/python3.12/site-packages (from llama-index-core<0.13.0,>=0.12.31->llama_index) (2.1.1)\r\n",
      "Requirement already satisfied: dataclasses-json in /Users/aqilafarahmand/Library/Caches/pypoetry/virtualenvs/experiments-2025-joms-rag-kQVmZs0C-py3.12/lib/python3.12/site-packages (from llama-index-core<0.13.0,>=0.12.31->llama_index) (0.6.7)\r\n",
      "Requirement already satisfied: deprecated>=1.2.9.3 in /Users/aqilafarahmand/Library/Caches/pypoetry/virtualenvs/experiments-2025-joms-rag-kQVmZs0C-py3.12/lib/python3.12/site-packages (from llama-index-core<0.13.0,>=0.12.31->llama_index) (1.2.18)\r\n",
      "Requirement already satisfied: dirtyjson<2.0.0,>=1.0.8 in /Users/aqilafarahmand/Library/Caches/pypoetry/virtualenvs/experiments-2025-joms-rag-kQVmZs0C-py3.12/lib/python3.12/site-packages (from llama-index-core<0.13.0,>=0.12.31->llama_index) (1.0.8)\r\n",
      "Requirement already satisfied: filetype<2.0.0,>=1.2.0 in /Users/aqilafarahmand/Library/Caches/pypoetry/virtualenvs/experiments-2025-joms-rag-kQVmZs0C-py3.12/lib/python3.12/site-packages (from llama-index-core<0.13.0,>=0.12.31->llama_index) (1.2.0)\r\n",
      "Requirement already satisfied: fsspec>=2023.5.0 in /Users/aqilafarahmand/Library/Caches/pypoetry/virtualenvs/experiments-2025-joms-rag-kQVmZs0C-py3.12/lib/python3.12/site-packages (from llama-index-core<0.13.0,>=0.12.31->llama_index) (2025.3.2)\r\n",
      "Requirement already satisfied: httpx in /Users/aqilafarahmand/Library/Caches/pypoetry/virtualenvs/experiments-2025-joms-rag-kQVmZs0C-py3.12/lib/python3.12/site-packages (from llama-index-core<0.13.0,>=0.12.31->llama_index) (0.28.1)\r\n",
      "Requirement already satisfied: nest-asyncio<2.0.0,>=1.5.8 in /Users/aqilafarahmand/Library/Caches/pypoetry/virtualenvs/experiments-2025-joms-rag-kQVmZs0C-py3.12/lib/python3.12/site-packages (from llama-index-core<0.13.0,>=0.12.31->llama_index) (1.6.0)\r\n",
      "Requirement already satisfied: networkx>=3.0 in /Users/aqilafarahmand/Library/Caches/pypoetry/virtualenvs/experiments-2025-joms-rag-kQVmZs0C-py3.12/lib/python3.12/site-packages (from llama-index-core<0.13.0,>=0.12.31->llama_index) (3.4.2)\r\n",
      "Requirement already satisfied: numpy in /Users/aqilafarahmand/Library/Caches/pypoetry/virtualenvs/experiments-2025-joms-rag-kQVmZs0C-py3.12/lib/python3.12/site-packages (from llama-index-core<0.13.0,>=0.12.31->llama_index) (2.0.2)\r\n",
      "Requirement already satisfied: pillow>=9.0.0 in /Users/aqilafarahmand/Library/Caches/pypoetry/virtualenvs/experiments-2025-joms-rag-kQVmZs0C-py3.12/lib/python3.12/site-packages (from llama-index-core<0.13.0,>=0.12.31->llama_index) (10.4.0)\r\n",
      "Requirement already satisfied: pydantic>=2.8.0 in /Users/aqilafarahmand/Library/Caches/pypoetry/virtualenvs/experiments-2025-joms-rag-kQVmZs0C-py3.12/lib/python3.12/site-packages (from llama-index-core<0.13.0,>=0.12.31->llama_index) (2.11.3)\r\n",
      "Requirement already satisfied: requests>=2.31.0 in /Users/aqilafarahmand/Library/Caches/pypoetry/virtualenvs/experiments-2025-joms-rag-kQVmZs0C-py3.12/lib/python3.12/site-packages (from llama-index-core<0.13.0,>=0.12.31->llama_index) (2.32.3)\r\n",
      "Requirement already satisfied: tenacity!=8.4.0,<10.0.0,>=8.2.0 in /Users/aqilafarahmand/Library/Caches/pypoetry/virtualenvs/experiments-2025-joms-rag-kQVmZs0C-py3.12/lib/python3.12/site-packages (from llama-index-core<0.13.0,>=0.12.31->llama_index) (9.1.2)\r\n",
      "Requirement already satisfied: tiktoken>=0.3.3 in /Users/aqilafarahmand/Library/Caches/pypoetry/virtualenvs/experiments-2025-joms-rag-kQVmZs0C-py3.12/lib/python3.12/site-packages (from llama-index-core<0.13.0,>=0.12.31->llama_index) (0.9.0)\r\n",
      "Requirement already satisfied: tqdm<5.0.0,>=4.66.1 in /Users/aqilafarahmand/Library/Caches/pypoetry/virtualenvs/experiments-2025-joms-rag-kQVmZs0C-py3.12/lib/python3.12/site-packages (from llama-index-core<0.13.0,>=0.12.31->llama_index) (4.67.1)\r\n",
      "Requirement already satisfied: typing-extensions>=4.5.0 in /Users/aqilafarahmand/Library/Caches/pypoetry/virtualenvs/experiments-2025-joms-rag-kQVmZs0C-py3.12/lib/python3.12/site-packages (from llama-index-core<0.13.0,>=0.12.31->llama_index) (4.13.2)\r\n",
      "Requirement already satisfied: typing-inspect>=0.8.0 in /Users/aqilafarahmand/Library/Caches/pypoetry/virtualenvs/experiments-2025-joms-rag-kQVmZs0C-py3.12/lib/python3.12/site-packages (from llama-index-core<0.13.0,>=0.12.31->llama_index) (0.9.0)\r\n",
      "Requirement already satisfied: wrapt in /Users/aqilafarahmand/Library/Caches/pypoetry/virtualenvs/experiments-2025-joms-rag-kQVmZs0C-py3.12/lib/python3.12/site-packages (from llama-index-core<0.13.0,>=0.12.31->llama_index) (1.17.2)\r\n",
      "Requirement already satisfied: llama-cloud<0.2.0,>=0.1.13 in /Users/aqilafarahmand/Library/Caches/pypoetry/virtualenvs/experiments-2025-joms-rag-kQVmZs0C-py3.12/lib/python3.12/site-packages (from llama-index-indices-managed-llama-cloud>=0.4.0->llama_index) (0.1.18)\r\n",
      "Requirement already satisfied: beautifulsoup4<5.0.0,>=4.12.3 in /Users/aqilafarahmand/Library/Caches/pypoetry/virtualenvs/experiments-2025-joms-rag-kQVmZs0C-py3.12/lib/python3.12/site-packages (from llama-index-readers-file<0.5.0,>=0.4.0->llama_index) (4.13.4)\r\n",
      "Requirement already satisfied: pandas in /Users/aqilafarahmand/Library/Caches/pypoetry/virtualenvs/experiments-2025-joms-rag-kQVmZs0C-py3.12/lib/python3.12/site-packages (from llama-index-readers-file<0.5.0,>=0.4.0->llama_index) (2.2.3)\r\n",
      "Requirement already satisfied: pypdf<6.0.0,>=5.1.0 in /Users/aqilafarahmand/Library/Caches/pypoetry/virtualenvs/experiments-2025-joms-rag-kQVmZs0C-py3.12/lib/python3.12/site-packages (from llama-index-readers-file<0.5.0,>=0.4.0->llama_index) (5.4.0)\r\n",
      "Requirement already satisfied: striprtf<0.0.27,>=0.0.26 in /Users/aqilafarahmand/Library/Caches/pypoetry/virtualenvs/experiments-2025-joms-rag-kQVmZs0C-py3.12/lib/python3.12/site-packages (from llama-index-readers-file<0.5.0,>=0.4.0->llama_index) (0.0.26)\r\n",
      "Requirement already satisfied: llama-parse>=0.5.0 in /Users/aqilafarahmand/Library/Caches/pypoetry/virtualenvs/experiments-2025-joms-rag-kQVmZs0C-py3.12/lib/python3.12/site-packages (from llama-index-readers-llama-parse>=0.4.0->llama_index) (0.6.12)\r\n",
      "Requirement already satisfied: click in /Users/aqilafarahmand/Library/Caches/pypoetry/virtualenvs/experiments-2025-joms-rag-kQVmZs0C-py3.12/lib/python3.12/site-packages (from nltk>3.8.1->llama_index) (8.1.8)\r\n",
      "Requirement already satisfied: joblib in /Users/aqilafarahmand/Library/Caches/pypoetry/virtualenvs/experiments-2025-joms-rag-kQVmZs0C-py3.12/lib/python3.12/site-packages (from nltk>3.8.1->llama_index) (1.4.2)\r\n",
      "Requirement already satisfied: regex>=2021.8.3 in /Users/aqilafarahmand/Library/Caches/pypoetry/virtualenvs/experiments-2025-joms-rag-kQVmZs0C-py3.12/lib/python3.12/site-packages (from nltk>3.8.1->llama_index) (2024.11.6)\r\n",
      "Requirement already satisfied: aiohappyeyeballs>=2.3.0 in /Users/aqilafarahmand/Library/Caches/pypoetry/virtualenvs/experiments-2025-joms-rag-kQVmZs0C-py3.12/lib/python3.12/site-packages (from aiohttp<4.0.0,>=3.8.6->llama-index-core<0.13.0,>=0.12.31->llama_index) (2.6.1)\r\n",
      "Requirement already satisfied: aiosignal>=1.1.2 in /Users/aqilafarahmand/Library/Caches/pypoetry/virtualenvs/experiments-2025-joms-rag-kQVmZs0C-py3.12/lib/python3.12/site-packages (from aiohttp<4.0.0,>=3.8.6->llama-index-core<0.13.0,>=0.12.31->llama_index) (1.3.2)\r\n",
      "Requirement already satisfied: attrs>=17.3.0 in /Users/aqilafarahmand/Library/Caches/pypoetry/virtualenvs/experiments-2025-joms-rag-kQVmZs0C-py3.12/lib/python3.12/site-packages (from aiohttp<4.0.0,>=3.8.6->llama-index-core<0.13.0,>=0.12.31->llama_index) (25.3.0)\r\n",
      "Requirement already satisfied: frozenlist>=1.1.1 in /Users/aqilafarahmand/Library/Caches/pypoetry/virtualenvs/experiments-2025-joms-rag-kQVmZs0C-py3.12/lib/python3.12/site-packages (from aiohttp<4.0.0,>=3.8.6->llama-index-core<0.13.0,>=0.12.31->llama_index) (1.5.0)\r\n",
      "Requirement already satisfied: multidict<7.0,>=4.5 in /Users/aqilafarahmand/Library/Caches/pypoetry/virtualenvs/experiments-2025-joms-rag-kQVmZs0C-py3.12/lib/python3.12/site-packages (from aiohttp<4.0.0,>=3.8.6->llama-index-core<0.13.0,>=0.12.31->llama_index) (6.4.3)\r\n",
      "Requirement already satisfied: propcache>=0.2.0 in /Users/aqilafarahmand/Library/Caches/pypoetry/virtualenvs/experiments-2025-joms-rag-kQVmZs0C-py3.12/lib/python3.12/site-packages (from aiohttp<4.0.0,>=3.8.6->llama-index-core<0.13.0,>=0.12.31->llama_index) (0.3.1)\r\n",
      "Requirement already satisfied: yarl<2.0,>=1.17.0 in /Users/aqilafarahmand/Library/Caches/pypoetry/virtualenvs/experiments-2025-joms-rag-kQVmZs0C-py3.12/lib/python3.12/site-packages (from aiohttp<4.0.0,>=3.8.6->llama-index-core<0.13.0,>=0.12.31->llama_index) (1.20.0)\r\n",
      "Requirement already satisfied: griffe in /Users/aqilafarahmand/Library/Caches/pypoetry/virtualenvs/experiments-2025-joms-rag-kQVmZs0C-py3.12/lib/python3.12/site-packages (from banks<3.0.0,>=2.0.0->llama-index-core<0.13.0,>=0.12.31->llama_index) (1.7.2)\r\n",
      "Requirement already satisfied: jinja2 in /Users/aqilafarahmand/Library/Caches/pypoetry/virtualenvs/experiments-2025-joms-rag-kQVmZs0C-py3.12/lib/python3.12/site-packages (from banks<3.0.0,>=2.0.0->llama-index-core<0.13.0,>=0.12.31->llama_index) (3.1.6)\r\n",
      "Requirement already satisfied: platformdirs in /Users/aqilafarahmand/Library/Caches/pypoetry/virtualenvs/experiments-2025-joms-rag-kQVmZs0C-py3.12/lib/python3.12/site-packages (from banks<3.0.0,>=2.0.0->llama-index-core<0.13.0,>=0.12.31->llama_index) (4.3.7)\r\n",
      "Requirement already satisfied: soupsieve>1.2 in /Users/aqilafarahmand/Library/Caches/pypoetry/virtualenvs/experiments-2025-joms-rag-kQVmZs0C-py3.12/lib/python3.12/site-packages (from beautifulsoup4<5.0.0,>=4.12.3->llama-index-readers-file<0.5.0,>=0.4.0->llama_index) (2.6)\r\n",
      "Requirement already satisfied: certifi>=2024.7.4 in /Users/aqilafarahmand/Library/Caches/pypoetry/virtualenvs/experiments-2025-joms-rag-kQVmZs0C-py3.12/lib/python3.12/site-packages (from llama-cloud<0.2.0,>=0.1.13->llama-index-indices-managed-llama-cloud>=0.4.0->llama_index) (2025.1.31)\r\n",
      "Requirement already satisfied: anyio in /Users/aqilafarahmand/Library/Caches/pypoetry/virtualenvs/experiments-2025-joms-rag-kQVmZs0C-py3.12/lib/python3.12/site-packages (from httpx->llama-index-core<0.13.0,>=0.12.31->llama_index) (4.9.0)\r\n",
      "Requirement already satisfied: httpcore==1.* in /Users/aqilafarahmand/Library/Caches/pypoetry/virtualenvs/experiments-2025-joms-rag-kQVmZs0C-py3.12/lib/python3.12/site-packages (from httpx->llama-index-core<0.13.0,>=0.12.31->llama_index) (1.0.8)\r\n",
      "Requirement already satisfied: idna in /Users/aqilafarahmand/Library/Caches/pypoetry/virtualenvs/experiments-2025-joms-rag-kQVmZs0C-py3.12/lib/python3.12/site-packages (from httpx->llama-index-core<0.13.0,>=0.12.31->llama_index) (3.10)\r\n",
      "Requirement already satisfied: h11<0.15,>=0.13 in /Users/aqilafarahmand/Library/Caches/pypoetry/virtualenvs/experiments-2025-joms-rag-kQVmZs0C-py3.12/lib/python3.12/site-packages (from httpcore==1.*->httpx->llama-index-core<0.13.0,>=0.12.31->llama_index) (0.14.0)\r\n",
      "Requirement already satisfied: llama-cloud-services>=0.6.12 in /Users/aqilafarahmand/Library/Caches/pypoetry/virtualenvs/experiments-2025-joms-rag-kQVmZs0C-py3.12/lib/python3.12/site-packages (from llama-parse>=0.5.0->llama-index-readers-llama-parse>=0.4.0->llama_index) (0.6.12)\r\n",
      "Requirement already satisfied: distro<2,>=1.7.0 in /Users/aqilafarahmand/Library/Caches/pypoetry/virtualenvs/experiments-2025-joms-rag-kQVmZs0C-py3.12/lib/python3.12/site-packages (from openai>=1.14.0->llama-index-agent-openai<0.5.0,>=0.4.0->llama_index) (1.9.0)\r\n",
      "Requirement already satisfied: jiter<1,>=0.4.0 in /Users/aqilafarahmand/Library/Caches/pypoetry/virtualenvs/experiments-2025-joms-rag-kQVmZs0C-py3.12/lib/python3.12/site-packages (from openai>=1.14.0->llama-index-agent-openai<0.5.0,>=0.4.0->llama_index) (0.9.0)\r\n",
      "Requirement already satisfied: sniffio in /Users/aqilafarahmand/Library/Caches/pypoetry/virtualenvs/experiments-2025-joms-rag-kQVmZs0C-py3.12/lib/python3.12/site-packages (from openai>=1.14.0->llama-index-agent-openai<0.5.0,>=0.4.0->llama_index) (1.3.1)\r\n",
      "Requirement already satisfied: annotated-types>=0.6.0 in /Users/aqilafarahmand/Library/Caches/pypoetry/virtualenvs/experiments-2025-joms-rag-kQVmZs0C-py3.12/lib/python3.12/site-packages (from pydantic>=2.8.0->llama-index-core<0.13.0,>=0.12.31->llama_index) (0.7.0)\r\n",
      "Requirement already satisfied: pydantic-core==2.33.1 in /Users/aqilafarahmand/Library/Caches/pypoetry/virtualenvs/experiments-2025-joms-rag-kQVmZs0C-py3.12/lib/python3.12/site-packages (from pydantic>=2.8.0->llama-index-core<0.13.0,>=0.12.31->llama_index) (2.33.1)\r\n",
      "Requirement already satisfied: typing-inspection>=0.4.0 in /Users/aqilafarahmand/Library/Caches/pypoetry/virtualenvs/experiments-2025-joms-rag-kQVmZs0C-py3.12/lib/python3.12/site-packages (from pydantic>=2.8.0->llama-index-core<0.13.0,>=0.12.31->llama_index) (0.4.0)\r\n",
      "Requirement already satisfied: charset-normalizer<4,>=2 in /Users/aqilafarahmand/Library/Caches/pypoetry/virtualenvs/experiments-2025-joms-rag-kQVmZs0C-py3.12/lib/python3.12/site-packages (from requests>=2.31.0->llama-index-core<0.13.0,>=0.12.31->llama_index) (3.4.1)\r\n",
      "Requirement already satisfied: urllib3<3,>=1.21.1 in /Users/aqilafarahmand/Library/Caches/pypoetry/virtualenvs/experiments-2025-joms-rag-kQVmZs0C-py3.12/lib/python3.12/site-packages (from requests>=2.31.0->llama-index-core<0.13.0,>=0.12.31->llama_index) (2.4.0)\r\n",
      "Requirement already satisfied: greenlet>=1 in /Users/aqilafarahmand/Library/Caches/pypoetry/virtualenvs/experiments-2025-joms-rag-kQVmZs0C-py3.12/lib/python3.12/site-packages (from SQLAlchemy[asyncio]>=1.4.49->llama-index-core<0.13.0,>=0.12.31->llama_index) (3.2.0)\r\n",
      "Requirement already satisfied: mypy-extensions>=0.3.0 in /Users/aqilafarahmand/Library/Caches/pypoetry/virtualenvs/experiments-2025-joms-rag-kQVmZs0C-py3.12/lib/python3.12/site-packages (from typing-inspect>=0.8.0->llama-index-core<0.13.0,>=0.12.31->llama_index) (1.0.0)\r\n",
      "Requirement already satisfied: marshmallow<4.0.0,>=3.18.0 in /Users/aqilafarahmand/Library/Caches/pypoetry/virtualenvs/experiments-2025-joms-rag-kQVmZs0C-py3.12/lib/python3.12/site-packages (from dataclasses-json->llama-index-core<0.13.0,>=0.12.31->llama_index) (3.26.1)\r\n",
      "Requirement already satisfied: python-dateutil>=2.8.2 in /Users/aqilafarahmand/Library/Caches/pypoetry/virtualenvs/experiments-2025-joms-rag-kQVmZs0C-py3.12/lib/python3.12/site-packages (from pandas->llama-index-readers-file<0.5.0,>=0.4.0->llama_index) (2.9.0.post0)\r\n",
      "Requirement already satisfied: pytz>=2020.1 in /Users/aqilafarahmand/Library/Caches/pypoetry/virtualenvs/experiments-2025-joms-rag-kQVmZs0C-py3.12/lib/python3.12/site-packages (from pandas->llama-index-readers-file<0.5.0,>=0.4.0->llama_index) (2025.2)\r\n",
      "Requirement already satisfied: tzdata>=2022.7 in /Users/aqilafarahmand/Library/Caches/pypoetry/virtualenvs/experiments-2025-joms-rag-kQVmZs0C-py3.12/lib/python3.12/site-packages (from pandas->llama-index-readers-file<0.5.0,>=0.4.0->llama_index) (2025.2)\r\n",
      "Requirement already satisfied: python-dotenv<2.0.0,>=1.0.1 in /Users/aqilafarahmand/Library/Caches/pypoetry/virtualenvs/experiments-2025-joms-rag-kQVmZs0C-py3.12/lib/python3.12/site-packages (from llama-cloud-services>=0.6.12->llama-parse>=0.5.0->llama-index-readers-llama-parse>=0.4.0->llama_index) (1.1.0)\r\n",
      "Requirement already satisfied: packaging>=17.0 in /Users/aqilafarahmand/Library/Caches/pypoetry/virtualenvs/experiments-2025-joms-rag-kQVmZs0C-py3.12/lib/python3.12/site-packages (from marshmallow<4.0.0,>=3.18.0->dataclasses-json->llama-index-core<0.13.0,>=0.12.31->llama_index) (24.2)\r\n",
      "Requirement already satisfied: six>=1.5 in /Users/aqilafarahmand/Library/Caches/pypoetry/virtualenvs/experiments-2025-joms-rag-kQVmZs0C-py3.12/lib/python3.12/site-packages (from python-dateutil>=2.8.2->pandas->llama-index-readers-file<0.5.0,>=0.4.0->llama_index) (1.17.0)\r\n",
      "Requirement already satisfied: colorama>=0.4 in /Users/aqilafarahmand/Library/Caches/pypoetry/virtualenvs/experiments-2025-joms-rag-kQVmZs0C-py3.12/lib/python3.12/site-packages (from griffe->banks<3.0.0,>=2.0.0->llama-index-core<0.13.0,>=0.12.31->llama_index) (0.4.6)\r\n",
      "Requirement already satisfied: MarkupSafe>=2.0 in /Users/aqilafarahmand/Library/Caches/pypoetry/virtualenvs/experiments-2025-joms-rag-kQVmZs0C-py3.12/lib/python3.12/site-packages (from jinja2->banks<3.0.0,>=2.0.0->llama-index-core<0.13.0,>=0.12.31->llama_index) (3.0.2)\r\n"
     ]
    }
   ],
   "execution_count": 2
  },
  {
   "cell_type": "code",
   "id": "a58cf2a2-4ad8-4597-919e-57e1476fea9c",
   "metadata": {
    "tags": [],
    "ExecuteTime": {
     "end_time": "2025-04-17T15:33:37.156223Z",
     "start_time": "2025-04-17T15:33:36.534310Z"
    }
   },
   "source": "!pip install llama-index-embeddings-ollama",
   "outputs": [
    {
     "name": "stdout",
     "output_type": "stream",
     "text": [
      "Requirement already satisfied: llama-index-embeddings-ollama in /Users/aqilafarahmand/Library/Caches/pypoetry/virtualenvs/experiments-2025-joms-rag-kQVmZs0C-py3.12/lib/python3.12/site-packages (0.6.0)\r\n",
      "Requirement already satisfied: llama-index-core<0.13.0,>=0.12.0 in /Users/aqilafarahmand/Library/Caches/pypoetry/virtualenvs/experiments-2025-joms-rag-kQVmZs0C-py3.12/lib/python3.12/site-packages (from llama-index-embeddings-ollama) (0.12.31)\r\n",
      "Requirement already satisfied: ollama>=0.3.1 in /Users/aqilafarahmand/Library/Caches/pypoetry/virtualenvs/experiments-2025-joms-rag-kQVmZs0C-py3.12/lib/python3.12/site-packages (from llama-index-embeddings-ollama) (0.4.8)\r\n",
      "Requirement already satisfied: PyYAML>=6.0.1 in /Users/aqilafarahmand/Library/Caches/pypoetry/virtualenvs/experiments-2025-joms-rag-kQVmZs0C-py3.12/lib/python3.12/site-packages (from llama-index-core<0.13.0,>=0.12.0->llama-index-embeddings-ollama) (6.0.2)\r\n",
      "Requirement already satisfied: SQLAlchemy>=1.4.49 in /Users/aqilafarahmand/Library/Caches/pypoetry/virtualenvs/experiments-2025-joms-rag-kQVmZs0C-py3.12/lib/python3.12/site-packages (from SQLAlchemy[asyncio]>=1.4.49->llama-index-core<0.13.0,>=0.12.0->llama-index-embeddings-ollama) (2.0.40)\r\n",
      "Requirement already satisfied: aiohttp<4.0.0,>=3.8.6 in /Users/aqilafarahmand/Library/Caches/pypoetry/virtualenvs/experiments-2025-joms-rag-kQVmZs0C-py3.12/lib/python3.12/site-packages (from llama-index-core<0.13.0,>=0.12.0->llama-index-embeddings-ollama) (3.11.16)\r\n",
      "Requirement already satisfied: banks<3.0.0,>=2.0.0 in /Users/aqilafarahmand/Library/Caches/pypoetry/virtualenvs/experiments-2025-joms-rag-kQVmZs0C-py3.12/lib/python3.12/site-packages (from llama-index-core<0.13.0,>=0.12.0->llama-index-embeddings-ollama) (2.1.1)\r\n",
      "Requirement already satisfied: dataclasses-json in /Users/aqilafarahmand/Library/Caches/pypoetry/virtualenvs/experiments-2025-joms-rag-kQVmZs0C-py3.12/lib/python3.12/site-packages (from llama-index-core<0.13.0,>=0.12.0->llama-index-embeddings-ollama) (0.6.7)\r\n",
      "Requirement already satisfied: deprecated>=1.2.9.3 in /Users/aqilafarahmand/Library/Caches/pypoetry/virtualenvs/experiments-2025-joms-rag-kQVmZs0C-py3.12/lib/python3.12/site-packages (from llama-index-core<0.13.0,>=0.12.0->llama-index-embeddings-ollama) (1.2.18)\r\n",
      "Requirement already satisfied: dirtyjson<2.0.0,>=1.0.8 in /Users/aqilafarahmand/Library/Caches/pypoetry/virtualenvs/experiments-2025-joms-rag-kQVmZs0C-py3.12/lib/python3.12/site-packages (from llama-index-core<0.13.0,>=0.12.0->llama-index-embeddings-ollama) (1.0.8)\r\n",
      "Requirement already satisfied: filetype<2.0.0,>=1.2.0 in /Users/aqilafarahmand/Library/Caches/pypoetry/virtualenvs/experiments-2025-joms-rag-kQVmZs0C-py3.12/lib/python3.12/site-packages (from llama-index-core<0.13.0,>=0.12.0->llama-index-embeddings-ollama) (1.2.0)\r\n",
      "Requirement already satisfied: fsspec>=2023.5.0 in /Users/aqilafarahmand/Library/Caches/pypoetry/virtualenvs/experiments-2025-joms-rag-kQVmZs0C-py3.12/lib/python3.12/site-packages (from llama-index-core<0.13.0,>=0.12.0->llama-index-embeddings-ollama) (2025.3.2)\r\n",
      "Requirement already satisfied: httpx in /Users/aqilafarahmand/Library/Caches/pypoetry/virtualenvs/experiments-2025-joms-rag-kQVmZs0C-py3.12/lib/python3.12/site-packages (from llama-index-core<0.13.0,>=0.12.0->llama-index-embeddings-ollama) (0.28.1)\r\n",
      "Requirement already satisfied: nest-asyncio<2.0.0,>=1.5.8 in /Users/aqilafarahmand/Library/Caches/pypoetry/virtualenvs/experiments-2025-joms-rag-kQVmZs0C-py3.12/lib/python3.12/site-packages (from llama-index-core<0.13.0,>=0.12.0->llama-index-embeddings-ollama) (1.6.0)\r\n",
      "Requirement already satisfied: networkx>=3.0 in /Users/aqilafarahmand/Library/Caches/pypoetry/virtualenvs/experiments-2025-joms-rag-kQVmZs0C-py3.12/lib/python3.12/site-packages (from llama-index-core<0.13.0,>=0.12.0->llama-index-embeddings-ollama) (3.4.2)\r\n",
      "Requirement already satisfied: nltk>3.8.1 in /Users/aqilafarahmand/Library/Caches/pypoetry/virtualenvs/experiments-2025-joms-rag-kQVmZs0C-py3.12/lib/python3.12/site-packages (from llama-index-core<0.13.0,>=0.12.0->llama-index-embeddings-ollama) (3.9.1)\r\n",
      "Requirement already satisfied: numpy in /Users/aqilafarahmand/Library/Caches/pypoetry/virtualenvs/experiments-2025-joms-rag-kQVmZs0C-py3.12/lib/python3.12/site-packages (from llama-index-core<0.13.0,>=0.12.0->llama-index-embeddings-ollama) (2.0.2)\r\n",
      "Requirement already satisfied: pillow>=9.0.0 in /Users/aqilafarahmand/Library/Caches/pypoetry/virtualenvs/experiments-2025-joms-rag-kQVmZs0C-py3.12/lib/python3.12/site-packages (from llama-index-core<0.13.0,>=0.12.0->llama-index-embeddings-ollama) (10.4.0)\r\n",
      "Requirement already satisfied: pydantic>=2.8.0 in /Users/aqilafarahmand/Library/Caches/pypoetry/virtualenvs/experiments-2025-joms-rag-kQVmZs0C-py3.12/lib/python3.12/site-packages (from llama-index-core<0.13.0,>=0.12.0->llama-index-embeddings-ollama) (2.11.3)\r\n",
      "Requirement already satisfied: requests>=2.31.0 in /Users/aqilafarahmand/Library/Caches/pypoetry/virtualenvs/experiments-2025-joms-rag-kQVmZs0C-py3.12/lib/python3.12/site-packages (from llama-index-core<0.13.0,>=0.12.0->llama-index-embeddings-ollama) (2.32.3)\r\n",
      "Requirement already satisfied: tenacity!=8.4.0,<10.0.0,>=8.2.0 in /Users/aqilafarahmand/Library/Caches/pypoetry/virtualenvs/experiments-2025-joms-rag-kQVmZs0C-py3.12/lib/python3.12/site-packages (from llama-index-core<0.13.0,>=0.12.0->llama-index-embeddings-ollama) (9.1.2)\r\n",
      "Requirement already satisfied: tiktoken>=0.3.3 in /Users/aqilafarahmand/Library/Caches/pypoetry/virtualenvs/experiments-2025-joms-rag-kQVmZs0C-py3.12/lib/python3.12/site-packages (from llama-index-core<0.13.0,>=0.12.0->llama-index-embeddings-ollama) (0.9.0)\r\n",
      "Requirement already satisfied: tqdm<5.0.0,>=4.66.1 in /Users/aqilafarahmand/Library/Caches/pypoetry/virtualenvs/experiments-2025-joms-rag-kQVmZs0C-py3.12/lib/python3.12/site-packages (from llama-index-core<0.13.0,>=0.12.0->llama-index-embeddings-ollama) (4.67.1)\r\n",
      "Requirement already satisfied: typing-extensions>=4.5.0 in /Users/aqilafarahmand/Library/Caches/pypoetry/virtualenvs/experiments-2025-joms-rag-kQVmZs0C-py3.12/lib/python3.12/site-packages (from llama-index-core<0.13.0,>=0.12.0->llama-index-embeddings-ollama) (4.13.2)\r\n",
      "Requirement already satisfied: typing-inspect>=0.8.0 in /Users/aqilafarahmand/Library/Caches/pypoetry/virtualenvs/experiments-2025-joms-rag-kQVmZs0C-py3.12/lib/python3.12/site-packages (from llama-index-core<0.13.0,>=0.12.0->llama-index-embeddings-ollama) (0.9.0)\r\n",
      "Requirement already satisfied: wrapt in /Users/aqilafarahmand/Library/Caches/pypoetry/virtualenvs/experiments-2025-joms-rag-kQVmZs0C-py3.12/lib/python3.12/site-packages (from llama-index-core<0.13.0,>=0.12.0->llama-index-embeddings-ollama) (1.17.2)\r\n",
      "Requirement already satisfied: aiohappyeyeballs>=2.3.0 in /Users/aqilafarahmand/Library/Caches/pypoetry/virtualenvs/experiments-2025-joms-rag-kQVmZs0C-py3.12/lib/python3.12/site-packages (from aiohttp<4.0.0,>=3.8.6->llama-index-core<0.13.0,>=0.12.0->llama-index-embeddings-ollama) (2.6.1)\r\n",
      "Requirement already satisfied: aiosignal>=1.1.2 in /Users/aqilafarahmand/Library/Caches/pypoetry/virtualenvs/experiments-2025-joms-rag-kQVmZs0C-py3.12/lib/python3.12/site-packages (from aiohttp<4.0.0,>=3.8.6->llama-index-core<0.13.0,>=0.12.0->llama-index-embeddings-ollama) (1.3.2)\r\n",
      "Requirement already satisfied: attrs>=17.3.0 in /Users/aqilafarahmand/Library/Caches/pypoetry/virtualenvs/experiments-2025-joms-rag-kQVmZs0C-py3.12/lib/python3.12/site-packages (from aiohttp<4.0.0,>=3.8.6->llama-index-core<0.13.0,>=0.12.0->llama-index-embeddings-ollama) (25.3.0)\r\n",
      "Requirement already satisfied: frozenlist>=1.1.1 in /Users/aqilafarahmand/Library/Caches/pypoetry/virtualenvs/experiments-2025-joms-rag-kQVmZs0C-py3.12/lib/python3.12/site-packages (from aiohttp<4.0.0,>=3.8.6->llama-index-core<0.13.0,>=0.12.0->llama-index-embeddings-ollama) (1.5.0)\r\n",
      "Requirement already satisfied: multidict<7.0,>=4.5 in /Users/aqilafarahmand/Library/Caches/pypoetry/virtualenvs/experiments-2025-joms-rag-kQVmZs0C-py3.12/lib/python3.12/site-packages (from aiohttp<4.0.0,>=3.8.6->llama-index-core<0.13.0,>=0.12.0->llama-index-embeddings-ollama) (6.4.3)\r\n",
      "Requirement already satisfied: propcache>=0.2.0 in /Users/aqilafarahmand/Library/Caches/pypoetry/virtualenvs/experiments-2025-joms-rag-kQVmZs0C-py3.12/lib/python3.12/site-packages (from aiohttp<4.0.0,>=3.8.6->llama-index-core<0.13.0,>=0.12.0->llama-index-embeddings-ollama) (0.3.1)\r\n",
      "Requirement already satisfied: yarl<2.0,>=1.17.0 in /Users/aqilafarahmand/Library/Caches/pypoetry/virtualenvs/experiments-2025-joms-rag-kQVmZs0C-py3.12/lib/python3.12/site-packages (from aiohttp<4.0.0,>=3.8.6->llama-index-core<0.13.0,>=0.12.0->llama-index-embeddings-ollama) (1.20.0)\r\n",
      "Requirement already satisfied: griffe in /Users/aqilafarahmand/Library/Caches/pypoetry/virtualenvs/experiments-2025-joms-rag-kQVmZs0C-py3.12/lib/python3.12/site-packages (from banks<3.0.0,>=2.0.0->llama-index-core<0.13.0,>=0.12.0->llama-index-embeddings-ollama) (1.7.2)\r\n",
      "Requirement already satisfied: jinja2 in /Users/aqilafarahmand/Library/Caches/pypoetry/virtualenvs/experiments-2025-joms-rag-kQVmZs0C-py3.12/lib/python3.12/site-packages (from banks<3.0.0,>=2.0.0->llama-index-core<0.13.0,>=0.12.0->llama-index-embeddings-ollama) (3.1.6)\r\n",
      "Requirement already satisfied: platformdirs in /Users/aqilafarahmand/Library/Caches/pypoetry/virtualenvs/experiments-2025-joms-rag-kQVmZs0C-py3.12/lib/python3.12/site-packages (from banks<3.0.0,>=2.0.0->llama-index-core<0.13.0,>=0.12.0->llama-index-embeddings-ollama) (4.3.7)\r\n",
      "Requirement already satisfied: anyio in /Users/aqilafarahmand/Library/Caches/pypoetry/virtualenvs/experiments-2025-joms-rag-kQVmZs0C-py3.12/lib/python3.12/site-packages (from httpx->llama-index-core<0.13.0,>=0.12.0->llama-index-embeddings-ollama) (4.9.0)\r\n",
      "Requirement already satisfied: certifi in /Users/aqilafarahmand/Library/Caches/pypoetry/virtualenvs/experiments-2025-joms-rag-kQVmZs0C-py3.12/lib/python3.12/site-packages (from httpx->llama-index-core<0.13.0,>=0.12.0->llama-index-embeddings-ollama) (2025.1.31)\r\n",
      "Requirement already satisfied: httpcore==1.* in /Users/aqilafarahmand/Library/Caches/pypoetry/virtualenvs/experiments-2025-joms-rag-kQVmZs0C-py3.12/lib/python3.12/site-packages (from httpx->llama-index-core<0.13.0,>=0.12.0->llama-index-embeddings-ollama) (1.0.8)\r\n",
      "Requirement already satisfied: idna in /Users/aqilafarahmand/Library/Caches/pypoetry/virtualenvs/experiments-2025-joms-rag-kQVmZs0C-py3.12/lib/python3.12/site-packages (from httpx->llama-index-core<0.13.0,>=0.12.0->llama-index-embeddings-ollama) (3.10)\r\n",
      "Requirement already satisfied: h11<0.15,>=0.13 in /Users/aqilafarahmand/Library/Caches/pypoetry/virtualenvs/experiments-2025-joms-rag-kQVmZs0C-py3.12/lib/python3.12/site-packages (from httpcore==1.*->httpx->llama-index-core<0.13.0,>=0.12.0->llama-index-embeddings-ollama) (0.14.0)\r\n",
      "Requirement already satisfied: click in /Users/aqilafarahmand/Library/Caches/pypoetry/virtualenvs/experiments-2025-joms-rag-kQVmZs0C-py3.12/lib/python3.12/site-packages (from nltk>3.8.1->llama-index-core<0.13.0,>=0.12.0->llama-index-embeddings-ollama) (8.1.8)\r\n",
      "Requirement already satisfied: joblib in /Users/aqilafarahmand/Library/Caches/pypoetry/virtualenvs/experiments-2025-joms-rag-kQVmZs0C-py3.12/lib/python3.12/site-packages (from nltk>3.8.1->llama-index-core<0.13.0,>=0.12.0->llama-index-embeddings-ollama) (1.4.2)\r\n",
      "Requirement already satisfied: regex>=2021.8.3 in /Users/aqilafarahmand/Library/Caches/pypoetry/virtualenvs/experiments-2025-joms-rag-kQVmZs0C-py3.12/lib/python3.12/site-packages (from nltk>3.8.1->llama-index-core<0.13.0,>=0.12.0->llama-index-embeddings-ollama) (2024.11.6)\r\n",
      "Requirement already satisfied: annotated-types>=0.6.0 in /Users/aqilafarahmand/Library/Caches/pypoetry/virtualenvs/experiments-2025-joms-rag-kQVmZs0C-py3.12/lib/python3.12/site-packages (from pydantic>=2.8.0->llama-index-core<0.13.0,>=0.12.0->llama-index-embeddings-ollama) (0.7.0)\r\n",
      "Requirement already satisfied: pydantic-core==2.33.1 in /Users/aqilafarahmand/Library/Caches/pypoetry/virtualenvs/experiments-2025-joms-rag-kQVmZs0C-py3.12/lib/python3.12/site-packages (from pydantic>=2.8.0->llama-index-core<0.13.0,>=0.12.0->llama-index-embeddings-ollama) (2.33.1)\r\n",
      "Requirement already satisfied: typing-inspection>=0.4.0 in /Users/aqilafarahmand/Library/Caches/pypoetry/virtualenvs/experiments-2025-joms-rag-kQVmZs0C-py3.12/lib/python3.12/site-packages (from pydantic>=2.8.0->llama-index-core<0.13.0,>=0.12.0->llama-index-embeddings-ollama) (0.4.0)\r\n",
      "Requirement already satisfied: charset-normalizer<4,>=2 in /Users/aqilafarahmand/Library/Caches/pypoetry/virtualenvs/experiments-2025-joms-rag-kQVmZs0C-py3.12/lib/python3.12/site-packages (from requests>=2.31.0->llama-index-core<0.13.0,>=0.12.0->llama-index-embeddings-ollama) (3.4.1)\r\n",
      "Requirement already satisfied: urllib3<3,>=1.21.1 in /Users/aqilafarahmand/Library/Caches/pypoetry/virtualenvs/experiments-2025-joms-rag-kQVmZs0C-py3.12/lib/python3.12/site-packages (from requests>=2.31.0->llama-index-core<0.13.0,>=0.12.0->llama-index-embeddings-ollama) (2.4.0)\r\n",
      "Requirement already satisfied: greenlet>=1 in /Users/aqilafarahmand/Library/Caches/pypoetry/virtualenvs/experiments-2025-joms-rag-kQVmZs0C-py3.12/lib/python3.12/site-packages (from SQLAlchemy[asyncio]>=1.4.49->llama-index-core<0.13.0,>=0.12.0->llama-index-embeddings-ollama) (3.2.0)\r\n",
      "Requirement already satisfied: mypy-extensions>=0.3.0 in /Users/aqilafarahmand/Library/Caches/pypoetry/virtualenvs/experiments-2025-joms-rag-kQVmZs0C-py3.12/lib/python3.12/site-packages (from typing-inspect>=0.8.0->llama-index-core<0.13.0,>=0.12.0->llama-index-embeddings-ollama) (1.0.0)\r\n",
      "Requirement already satisfied: marshmallow<4.0.0,>=3.18.0 in /Users/aqilafarahmand/Library/Caches/pypoetry/virtualenvs/experiments-2025-joms-rag-kQVmZs0C-py3.12/lib/python3.12/site-packages (from dataclasses-json->llama-index-core<0.13.0,>=0.12.0->llama-index-embeddings-ollama) (3.26.1)\r\n",
      "Requirement already satisfied: packaging>=17.0 in /Users/aqilafarahmand/Library/Caches/pypoetry/virtualenvs/experiments-2025-joms-rag-kQVmZs0C-py3.12/lib/python3.12/site-packages (from marshmallow<4.0.0,>=3.18.0->dataclasses-json->llama-index-core<0.13.0,>=0.12.0->llama-index-embeddings-ollama) (24.2)\r\n",
      "Requirement already satisfied: sniffio>=1.1 in /Users/aqilafarahmand/Library/Caches/pypoetry/virtualenvs/experiments-2025-joms-rag-kQVmZs0C-py3.12/lib/python3.12/site-packages (from anyio->httpx->llama-index-core<0.13.0,>=0.12.0->llama-index-embeddings-ollama) (1.3.1)\r\n",
      "Requirement already satisfied: colorama>=0.4 in /Users/aqilafarahmand/Library/Caches/pypoetry/virtualenvs/experiments-2025-joms-rag-kQVmZs0C-py3.12/lib/python3.12/site-packages (from griffe->banks<3.0.0,>=2.0.0->llama-index-core<0.13.0,>=0.12.0->llama-index-embeddings-ollama) (0.4.6)\r\n",
      "Requirement already satisfied: MarkupSafe>=2.0 in /Users/aqilafarahmand/Library/Caches/pypoetry/virtualenvs/experiments-2025-joms-rag-kQVmZs0C-py3.12/lib/python3.12/site-packages (from jinja2->banks<3.0.0,>=2.0.0->llama-index-core<0.13.0,>=0.12.0->llama-index-embeddings-ollama) (3.0.2)\r\n"
     ]
    }
   ],
   "execution_count": 3
  },
  {
   "cell_type": "code",
   "id": "df58b8b5-609c-41cb-8759-372e50fc8e5e",
   "metadata": {
    "tags": [],
    "ExecuteTime": {
     "end_time": "2025-04-17T15:33:37.763383Z",
     "start_time": "2025-04-17T15:33:37.157386Z"
    }
   },
   "source": "!pip install spacy",
   "outputs": [
    {
     "name": "stdout",
     "output_type": "stream",
     "text": [
      "Requirement already satisfied: spacy in /Users/aqilafarahmand/Library/Caches/pypoetry/virtualenvs/experiments-2025-joms-rag-kQVmZs0C-py3.12/lib/python3.12/site-packages (3.8.2)\r\n",
      "Requirement already satisfied: spacy-legacy<3.1.0,>=3.0.11 in /Users/aqilafarahmand/Library/Caches/pypoetry/virtualenvs/experiments-2025-joms-rag-kQVmZs0C-py3.12/lib/python3.12/site-packages (from spacy) (3.0.12)\r\n",
      "Requirement already satisfied: spacy-loggers<2.0.0,>=1.0.0 in /Users/aqilafarahmand/Library/Caches/pypoetry/virtualenvs/experiments-2025-joms-rag-kQVmZs0C-py3.12/lib/python3.12/site-packages (from spacy) (1.0.5)\r\n",
      "Requirement already satisfied: murmurhash<1.1.0,>=0.28.0 in /Users/aqilafarahmand/Library/Caches/pypoetry/virtualenvs/experiments-2025-joms-rag-kQVmZs0C-py3.12/lib/python3.12/site-packages (from spacy) (1.0.12)\r\n",
      "Requirement already satisfied: cymem<2.1.0,>=2.0.2 in /Users/aqilafarahmand/Library/Caches/pypoetry/virtualenvs/experiments-2025-joms-rag-kQVmZs0C-py3.12/lib/python3.12/site-packages (from spacy) (2.0.11)\r\n",
      "Requirement already satisfied: preshed<3.1.0,>=3.0.2 in /Users/aqilafarahmand/Library/Caches/pypoetry/virtualenvs/experiments-2025-joms-rag-kQVmZs0C-py3.12/lib/python3.12/site-packages (from spacy) (3.0.9)\r\n",
      "Requirement already satisfied: thinc<8.4.0,>=8.3.0 in /Users/aqilafarahmand/Library/Caches/pypoetry/virtualenvs/experiments-2025-joms-rag-kQVmZs0C-py3.12/lib/python3.12/site-packages (from spacy) (8.3.2)\r\n",
      "Requirement already satisfied: wasabi<1.2.0,>=0.9.1 in /Users/aqilafarahmand/Library/Caches/pypoetry/virtualenvs/experiments-2025-joms-rag-kQVmZs0C-py3.12/lib/python3.12/site-packages (from spacy) (1.1.3)\r\n",
      "Requirement already satisfied: srsly<3.0.0,>=2.4.3 in /Users/aqilafarahmand/Library/Caches/pypoetry/virtualenvs/experiments-2025-joms-rag-kQVmZs0C-py3.12/lib/python3.12/site-packages (from spacy) (2.4.8)\r\n",
      "Requirement already satisfied: catalogue<2.1.0,>=2.0.6 in /Users/aqilafarahmand/Library/Caches/pypoetry/virtualenvs/experiments-2025-joms-rag-kQVmZs0C-py3.12/lib/python3.12/site-packages (from spacy) (2.0.10)\r\n",
      "Requirement already satisfied: weasel<0.5.0,>=0.1.0 in /Users/aqilafarahmand/Library/Caches/pypoetry/virtualenvs/experiments-2025-joms-rag-kQVmZs0C-py3.12/lib/python3.12/site-packages (from spacy) (0.4.1)\r\n",
      "Requirement already satisfied: typer<1.0.0,>=0.3.0 in /Users/aqilafarahmand/Library/Caches/pypoetry/virtualenvs/experiments-2025-joms-rag-kQVmZs0C-py3.12/lib/python3.12/site-packages (from spacy) (0.15.2)\r\n",
      "Requirement already satisfied: tqdm<5.0.0,>=4.38.0 in /Users/aqilafarahmand/Library/Caches/pypoetry/virtualenvs/experiments-2025-joms-rag-kQVmZs0C-py3.12/lib/python3.12/site-packages (from spacy) (4.67.1)\r\n",
      "Requirement already satisfied: requests<3.0.0,>=2.13.0 in /Users/aqilafarahmand/Library/Caches/pypoetry/virtualenvs/experiments-2025-joms-rag-kQVmZs0C-py3.12/lib/python3.12/site-packages (from spacy) (2.32.3)\r\n",
      "Requirement already satisfied: pydantic!=1.8,!=1.8.1,<3.0.0,>=1.7.4 in /Users/aqilafarahmand/Library/Caches/pypoetry/virtualenvs/experiments-2025-joms-rag-kQVmZs0C-py3.12/lib/python3.12/site-packages (from spacy) (2.11.3)\r\n",
      "Requirement already satisfied: jinja2 in /Users/aqilafarahmand/Library/Caches/pypoetry/virtualenvs/experiments-2025-joms-rag-kQVmZs0C-py3.12/lib/python3.12/site-packages (from spacy) (3.1.6)\r\n",
      "Requirement already satisfied: setuptools in /Users/aqilafarahmand/Library/Caches/pypoetry/virtualenvs/experiments-2025-joms-rag-kQVmZs0C-py3.12/lib/python3.12/site-packages (from spacy) (78.1.0)\r\n",
      "Requirement already satisfied: packaging>=20.0 in /Users/aqilafarahmand/Library/Caches/pypoetry/virtualenvs/experiments-2025-joms-rag-kQVmZs0C-py3.12/lib/python3.12/site-packages (from spacy) (24.2)\r\n",
      "Requirement already satisfied: langcodes<4.0.0,>=3.2.0 in /Users/aqilafarahmand/Library/Caches/pypoetry/virtualenvs/experiments-2025-joms-rag-kQVmZs0C-py3.12/lib/python3.12/site-packages (from spacy) (3.5.0)\r\n",
      "Requirement already satisfied: numpy>=1.19.0 in /Users/aqilafarahmand/Library/Caches/pypoetry/virtualenvs/experiments-2025-joms-rag-kQVmZs0C-py3.12/lib/python3.12/site-packages (from spacy) (2.0.2)\r\n",
      "Requirement already satisfied: language-data>=1.2 in /Users/aqilafarahmand/Library/Caches/pypoetry/virtualenvs/experiments-2025-joms-rag-kQVmZs0C-py3.12/lib/python3.12/site-packages (from langcodes<4.0.0,>=3.2.0->spacy) (1.3.0)\r\n",
      "Requirement already satisfied: annotated-types>=0.6.0 in /Users/aqilafarahmand/Library/Caches/pypoetry/virtualenvs/experiments-2025-joms-rag-kQVmZs0C-py3.12/lib/python3.12/site-packages (from pydantic!=1.8,!=1.8.1,<3.0.0,>=1.7.4->spacy) (0.7.0)\r\n",
      "Requirement already satisfied: pydantic-core==2.33.1 in /Users/aqilafarahmand/Library/Caches/pypoetry/virtualenvs/experiments-2025-joms-rag-kQVmZs0C-py3.12/lib/python3.12/site-packages (from pydantic!=1.8,!=1.8.1,<3.0.0,>=1.7.4->spacy) (2.33.1)\r\n",
      "Requirement already satisfied: typing-extensions>=4.12.2 in /Users/aqilafarahmand/Library/Caches/pypoetry/virtualenvs/experiments-2025-joms-rag-kQVmZs0C-py3.12/lib/python3.12/site-packages (from pydantic!=1.8,!=1.8.1,<3.0.0,>=1.7.4->spacy) (4.13.2)\r\n",
      "Requirement already satisfied: typing-inspection>=0.4.0 in /Users/aqilafarahmand/Library/Caches/pypoetry/virtualenvs/experiments-2025-joms-rag-kQVmZs0C-py3.12/lib/python3.12/site-packages (from pydantic!=1.8,!=1.8.1,<3.0.0,>=1.7.4->spacy) (0.4.0)\r\n",
      "Requirement already satisfied: charset-normalizer<4,>=2 in /Users/aqilafarahmand/Library/Caches/pypoetry/virtualenvs/experiments-2025-joms-rag-kQVmZs0C-py3.12/lib/python3.12/site-packages (from requests<3.0.0,>=2.13.0->spacy) (3.4.1)\r\n",
      "Requirement already satisfied: idna<4,>=2.5 in /Users/aqilafarahmand/Library/Caches/pypoetry/virtualenvs/experiments-2025-joms-rag-kQVmZs0C-py3.12/lib/python3.12/site-packages (from requests<3.0.0,>=2.13.0->spacy) (3.10)\r\n",
      "Requirement already satisfied: urllib3<3,>=1.21.1 in /Users/aqilafarahmand/Library/Caches/pypoetry/virtualenvs/experiments-2025-joms-rag-kQVmZs0C-py3.12/lib/python3.12/site-packages (from requests<3.0.0,>=2.13.0->spacy) (2.4.0)\r\n",
      "Requirement already satisfied: certifi>=2017.4.17 in /Users/aqilafarahmand/Library/Caches/pypoetry/virtualenvs/experiments-2025-joms-rag-kQVmZs0C-py3.12/lib/python3.12/site-packages (from requests<3.0.0,>=2.13.0->spacy) (2025.1.31)\r\n",
      "Requirement already satisfied: blis<1.1.0,>=1.0.0 in /Users/aqilafarahmand/Library/Caches/pypoetry/virtualenvs/experiments-2025-joms-rag-kQVmZs0C-py3.12/lib/python3.12/site-packages (from thinc<8.4.0,>=8.3.0->spacy) (1.0.2)\r\n",
      "Requirement already satisfied: confection<1.0.0,>=0.0.1 in /Users/aqilafarahmand/Library/Caches/pypoetry/virtualenvs/experiments-2025-joms-rag-kQVmZs0C-py3.12/lib/python3.12/site-packages (from thinc<8.4.0,>=8.3.0->spacy) (0.1.5)\r\n",
      "Requirement already satisfied: click>=8.0.0 in /Users/aqilafarahmand/Library/Caches/pypoetry/virtualenvs/experiments-2025-joms-rag-kQVmZs0C-py3.12/lib/python3.12/site-packages (from typer<1.0.0,>=0.3.0->spacy) (8.1.8)\r\n",
      "Requirement already satisfied: shellingham>=1.3.0 in /Users/aqilafarahmand/Library/Caches/pypoetry/virtualenvs/experiments-2025-joms-rag-kQVmZs0C-py3.12/lib/python3.12/site-packages (from typer<1.0.0,>=0.3.0->spacy) (1.5.4)\r\n",
      "Requirement already satisfied: rich>=10.11.0 in /Users/aqilafarahmand/Library/Caches/pypoetry/virtualenvs/experiments-2025-joms-rag-kQVmZs0C-py3.12/lib/python3.12/site-packages (from typer<1.0.0,>=0.3.0->spacy) (14.0.0)\r\n",
      "Requirement already satisfied: cloudpathlib<1.0.0,>=0.7.0 in /Users/aqilafarahmand/Library/Caches/pypoetry/virtualenvs/experiments-2025-joms-rag-kQVmZs0C-py3.12/lib/python3.12/site-packages (from weasel<0.5.0,>=0.1.0->spacy) (0.21.0)\r\n",
      "Requirement already satisfied: smart-open<8.0.0,>=5.2.1 in /Users/aqilafarahmand/Library/Caches/pypoetry/virtualenvs/experiments-2025-joms-rag-kQVmZs0C-py3.12/lib/python3.12/site-packages (from weasel<0.5.0,>=0.1.0->spacy) (7.1.0)\r\n",
      "Requirement already satisfied: MarkupSafe>=2.0 in /Users/aqilafarahmand/Library/Caches/pypoetry/virtualenvs/experiments-2025-joms-rag-kQVmZs0C-py3.12/lib/python3.12/site-packages (from jinja2->spacy) (3.0.2)\r\n",
      "Requirement already satisfied: marisa-trie>=1.1.0 in /Users/aqilafarahmand/Library/Caches/pypoetry/virtualenvs/experiments-2025-joms-rag-kQVmZs0C-py3.12/lib/python3.12/site-packages (from language-data>=1.2->langcodes<4.0.0,>=3.2.0->spacy) (1.2.1)\r\n",
      "Requirement already satisfied: markdown-it-py>=2.2.0 in /Users/aqilafarahmand/Library/Caches/pypoetry/virtualenvs/experiments-2025-joms-rag-kQVmZs0C-py3.12/lib/python3.12/site-packages (from rich>=10.11.0->typer<1.0.0,>=0.3.0->spacy) (3.0.0)\r\n",
      "Requirement already satisfied: pygments<3.0.0,>=2.13.0 in /Users/aqilafarahmand/Library/Caches/pypoetry/virtualenvs/experiments-2025-joms-rag-kQVmZs0C-py3.12/lib/python3.12/site-packages (from rich>=10.11.0->typer<1.0.0,>=0.3.0->spacy) (2.19.1)\r\n",
      "Requirement already satisfied: wrapt in /Users/aqilafarahmand/Library/Caches/pypoetry/virtualenvs/experiments-2025-joms-rag-kQVmZs0C-py3.12/lib/python3.12/site-packages (from smart-open<8.0.0,>=5.2.1->weasel<0.5.0,>=0.1.0->spacy) (1.17.2)\r\n",
      "Requirement already satisfied: mdurl~=0.1 in /Users/aqilafarahmand/Library/Caches/pypoetry/virtualenvs/experiments-2025-joms-rag-kQVmZs0C-py3.12/lib/python3.12/site-packages (from markdown-it-py>=2.2.0->rich>=10.11.0->typer<1.0.0,>=0.3.0->spacy) (0.1.2)\r\n"
     ]
    }
   ],
   "execution_count": 4
  },
  {
   "cell_type": "code",
   "id": "92685af5-6b37-45a8-b93d-b4ea057b5c53",
   "metadata": {
    "tags": [],
    "ExecuteTime": {
     "end_time": "2025-04-17T15:33:38.414555Z",
     "start_time": "2025-04-17T15:33:37.765975Z"
    }
   },
   "source": [
    "!pip install llama-index-llms-langchain"
   ],
   "outputs": [
    {
     "name": "stdout",
     "output_type": "stream",
     "text": [
      "Requirement already satisfied: llama-index-llms-langchain in /Users/aqilafarahmand/Library/Caches/pypoetry/virtualenvs/experiments-2025-joms-rag-kQVmZs0C-py3.12/lib/python3.12/site-packages (0.6.1)\r\n",
      "Requirement already satisfied: langchain>=0.1.7 in /Users/aqilafarahmand/Library/Caches/pypoetry/virtualenvs/experiments-2025-joms-rag-kQVmZs0C-py3.12/lib/python3.12/site-packages (from llama-index-llms-langchain) (0.3.23)\r\n",
      "Requirement already satisfied: llama-index-core<0.13.0,>=0.12.0 in /Users/aqilafarahmand/Library/Caches/pypoetry/virtualenvs/experiments-2025-joms-rag-kQVmZs0C-py3.12/lib/python3.12/site-packages (from llama-index-llms-langchain) (0.12.31)\r\n",
      "Requirement already satisfied: langchain-core<1.0.0,>=0.3.51 in /Users/aqilafarahmand/Library/Caches/pypoetry/virtualenvs/experiments-2025-joms-rag-kQVmZs0C-py3.12/lib/python3.12/site-packages (from langchain>=0.1.7->llama-index-llms-langchain) (0.3.53)\r\n",
      "Requirement already satisfied: langchain-text-splitters<1.0.0,>=0.3.8 in /Users/aqilafarahmand/Library/Caches/pypoetry/virtualenvs/experiments-2025-joms-rag-kQVmZs0C-py3.12/lib/python3.12/site-packages (from langchain>=0.1.7->llama-index-llms-langchain) (0.3.8)\r\n",
      "Requirement already satisfied: langsmith<0.4,>=0.1.17 in /Users/aqilafarahmand/Library/Caches/pypoetry/virtualenvs/experiments-2025-joms-rag-kQVmZs0C-py3.12/lib/python3.12/site-packages (from langchain>=0.1.7->llama-index-llms-langchain) (0.3.31)\r\n",
      "Requirement already satisfied: pydantic<3.0.0,>=2.7.4 in /Users/aqilafarahmand/Library/Caches/pypoetry/virtualenvs/experiments-2025-joms-rag-kQVmZs0C-py3.12/lib/python3.12/site-packages (from langchain>=0.1.7->llama-index-llms-langchain) (2.11.3)\r\n",
      "Requirement already satisfied: SQLAlchemy<3,>=1.4 in /Users/aqilafarahmand/Library/Caches/pypoetry/virtualenvs/experiments-2025-joms-rag-kQVmZs0C-py3.12/lib/python3.12/site-packages (from langchain>=0.1.7->llama-index-llms-langchain) (2.0.40)\r\n",
      "Requirement already satisfied: requests<3,>=2 in /Users/aqilafarahmand/Library/Caches/pypoetry/virtualenvs/experiments-2025-joms-rag-kQVmZs0C-py3.12/lib/python3.12/site-packages (from langchain>=0.1.7->llama-index-llms-langchain) (2.32.3)\r\n",
      "Requirement already satisfied: PyYAML>=5.3 in /Users/aqilafarahmand/Library/Caches/pypoetry/virtualenvs/experiments-2025-joms-rag-kQVmZs0C-py3.12/lib/python3.12/site-packages (from langchain>=0.1.7->llama-index-llms-langchain) (6.0.2)\r\n",
      "Requirement already satisfied: aiohttp<4.0.0,>=3.8.6 in /Users/aqilafarahmand/Library/Caches/pypoetry/virtualenvs/experiments-2025-joms-rag-kQVmZs0C-py3.12/lib/python3.12/site-packages (from llama-index-core<0.13.0,>=0.12.0->llama-index-llms-langchain) (3.11.16)\r\n",
      "Requirement already satisfied: banks<3.0.0,>=2.0.0 in /Users/aqilafarahmand/Library/Caches/pypoetry/virtualenvs/experiments-2025-joms-rag-kQVmZs0C-py3.12/lib/python3.12/site-packages (from llama-index-core<0.13.0,>=0.12.0->llama-index-llms-langchain) (2.1.1)\r\n",
      "Requirement already satisfied: dataclasses-json in /Users/aqilafarahmand/Library/Caches/pypoetry/virtualenvs/experiments-2025-joms-rag-kQVmZs0C-py3.12/lib/python3.12/site-packages (from llama-index-core<0.13.0,>=0.12.0->llama-index-llms-langchain) (0.6.7)\r\n",
      "Requirement already satisfied: deprecated>=1.2.9.3 in /Users/aqilafarahmand/Library/Caches/pypoetry/virtualenvs/experiments-2025-joms-rag-kQVmZs0C-py3.12/lib/python3.12/site-packages (from llama-index-core<0.13.0,>=0.12.0->llama-index-llms-langchain) (1.2.18)\r\n",
      "Requirement already satisfied: dirtyjson<2.0.0,>=1.0.8 in /Users/aqilafarahmand/Library/Caches/pypoetry/virtualenvs/experiments-2025-joms-rag-kQVmZs0C-py3.12/lib/python3.12/site-packages (from llama-index-core<0.13.0,>=0.12.0->llama-index-llms-langchain) (1.0.8)\r\n",
      "Requirement already satisfied: filetype<2.0.0,>=1.2.0 in /Users/aqilafarahmand/Library/Caches/pypoetry/virtualenvs/experiments-2025-joms-rag-kQVmZs0C-py3.12/lib/python3.12/site-packages (from llama-index-core<0.13.0,>=0.12.0->llama-index-llms-langchain) (1.2.0)\r\n",
      "Requirement already satisfied: fsspec>=2023.5.0 in /Users/aqilafarahmand/Library/Caches/pypoetry/virtualenvs/experiments-2025-joms-rag-kQVmZs0C-py3.12/lib/python3.12/site-packages (from llama-index-core<0.13.0,>=0.12.0->llama-index-llms-langchain) (2025.3.2)\r\n",
      "Requirement already satisfied: httpx in /Users/aqilafarahmand/Library/Caches/pypoetry/virtualenvs/experiments-2025-joms-rag-kQVmZs0C-py3.12/lib/python3.12/site-packages (from llama-index-core<0.13.0,>=0.12.0->llama-index-llms-langchain) (0.28.1)\r\n",
      "Requirement already satisfied: nest-asyncio<2.0.0,>=1.5.8 in /Users/aqilafarahmand/Library/Caches/pypoetry/virtualenvs/experiments-2025-joms-rag-kQVmZs0C-py3.12/lib/python3.12/site-packages (from llama-index-core<0.13.0,>=0.12.0->llama-index-llms-langchain) (1.6.0)\r\n",
      "Requirement already satisfied: networkx>=3.0 in /Users/aqilafarahmand/Library/Caches/pypoetry/virtualenvs/experiments-2025-joms-rag-kQVmZs0C-py3.12/lib/python3.12/site-packages (from llama-index-core<0.13.0,>=0.12.0->llama-index-llms-langchain) (3.4.2)\r\n",
      "Requirement already satisfied: nltk>3.8.1 in /Users/aqilafarahmand/Library/Caches/pypoetry/virtualenvs/experiments-2025-joms-rag-kQVmZs0C-py3.12/lib/python3.12/site-packages (from llama-index-core<0.13.0,>=0.12.0->llama-index-llms-langchain) (3.9.1)\r\n",
      "Requirement already satisfied: numpy in /Users/aqilafarahmand/Library/Caches/pypoetry/virtualenvs/experiments-2025-joms-rag-kQVmZs0C-py3.12/lib/python3.12/site-packages (from llama-index-core<0.13.0,>=0.12.0->llama-index-llms-langchain) (2.0.2)\r\n",
      "Requirement already satisfied: pillow>=9.0.0 in /Users/aqilafarahmand/Library/Caches/pypoetry/virtualenvs/experiments-2025-joms-rag-kQVmZs0C-py3.12/lib/python3.12/site-packages (from llama-index-core<0.13.0,>=0.12.0->llama-index-llms-langchain) (10.4.0)\r\n",
      "Requirement already satisfied: tenacity!=8.4.0,<10.0.0,>=8.2.0 in /Users/aqilafarahmand/Library/Caches/pypoetry/virtualenvs/experiments-2025-joms-rag-kQVmZs0C-py3.12/lib/python3.12/site-packages (from llama-index-core<0.13.0,>=0.12.0->llama-index-llms-langchain) (9.1.2)\r\n",
      "Requirement already satisfied: tiktoken>=0.3.3 in /Users/aqilafarahmand/Library/Caches/pypoetry/virtualenvs/experiments-2025-joms-rag-kQVmZs0C-py3.12/lib/python3.12/site-packages (from llama-index-core<0.13.0,>=0.12.0->llama-index-llms-langchain) (0.9.0)\r\n",
      "Requirement already satisfied: tqdm<5.0.0,>=4.66.1 in /Users/aqilafarahmand/Library/Caches/pypoetry/virtualenvs/experiments-2025-joms-rag-kQVmZs0C-py3.12/lib/python3.12/site-packages (from llama-index-core<0.13.0,>=0.12.0->llama-index-llms-langchain) (4.67.1)\r\n",
      "Requirement already satisfied: typing-extensions>=4.5.0 in /Users/aqilafarahmand/Library/Caches/pypoetry/virtualenvs/experiments-2025-joms-rag-kQVmZs0C-py3.12/lib/python3.12/site-packages (from llama-index-core<0.13.0,>=0.12.0->llama-index-llms-langchain) (4.13.2)\r\n",
      "Requirement already satisfied: typing-inspect>=0.8.0 in /Users/aqilafarahmand/Library/Caches/pypoetry/virtualenvs/experiments-2025-joms-rag-kQVmZs0C-py3.12/lib/python3.12/site-packages (from llama-index-core<0.13.0,>=0.12.0->llama-index-llms-langchain) (0.9.0)\r\n",
      "Requirement already satisfied: wrapt in /Users/aqilafarahmand/Library/Caches/pypoetry/virtualenvs/experiments-2025-joms-rag-kQVmZs0C-py3.12/lib/python3.12/site-packages (from llama-index-core<0.13.0,>=0.12.0->llama-index-llms-langchain) (1.17.2)\r\n",
      "Requirement already satisfied: aiohappyeyeballs>=2.3.0 in /Users/aqilafarahmand/Library/Caches/pypoetry/virtualenvs/experiments-2025-joms-rag-kQVmZs0C-py3.12/lib/python3.12/site-packages (from aiohttp<4.0.0,>=3.8.6->llama-index-core<0.13.0,>=0.12.0->llama-index-llms-langchain) (2.6.1)\r\n",
      "Requirement already satisfied: aiosignal>=1.1.2 in /Users/aqilafarahmand/Library/Caches/pypoetry/virtualenvs/experiments-2025-joms-rag-kQVmZs0C-py3.12/lib/python3.12/site-packages (from aiohttp<4.0.0,>=3.8.6->llama-index-core<0.13.0,>=0.12.0->llama-index-llms-langchain) (1.3.2)\r\n",
      "Requirement already satisfied: attrs>=17.3.0 in /Users/aqilafarahmand/Library/Caches/pypoetry/virtualenvs/experiments-2025-joms-rag-kQVmZs0C-py3.12/lib/python3.12/site-packages (from aiohttp<4.0.0,>=3.8.6->llama-index-core<0.13.0,>=0.12.0->llama-index-llms-langchain) (25.3.0)\r\n",
      "Requirement already satisfied: frozenlist>=1.1.1 in /Users/aqilafarahmand/Library/Caches/pypoetry/virtualenvs/experiments-2025-joms-rag-kQVmZs0C-py3.12/lib/python3.12/site-packages (from aiohttp<4.0.0,>=3.8.6->llama-index-core<0.13.0,>=0.12.0->llama-index-llms-langchain) (1.5.0)\r\n",
      "Requirement already satisfied: multidict<7.0,>=4.5 in /Users/aqilafarahmand/Library/Caches/pypoetry/virtualenvs/experiments-2025-joms-rag-kQVmZs0C-py3.12/lib/python3.12/site-packages (from aiohttp<4.0.0,>=3.8.6->llama-index-core<0.13.0,>=0.12.0->llama-index-llms-langchain) (6.4.3)\r\n",
      "Requirement already satisfied: propcache>=0.2.0 in /Users/aqilafarahmand/Library/Caches/pypoetry/virtualenvs/experiments-2025-joms-rag-kQVmZs0C-py3.12/lib/python3.12/site-packages (from aiohttp<4.0.0,>=3.8.6->llama-index-core<0.13.0,>=0.12.0->llama-index-llms-langchain) (0.3.1)\r\n",
      "Requirement already satisfied: yarl<2.0,>=1.17.0 in /Users/aqilafarahmand/Library/Caches/pypoetry/virtualenvs/experiments-2025-joms-rag-kQVmZs0C-py3.12/lib/python3.12/site-packages (from aiohttp<4.0.0,>=3.8.6->llama-index-core<0.13.0,>=0.12.0->llama-index-llms-langchain) (1.20.0)\r\n",
      "Requirement already satisfied: griffe in /Users/aqilafarahmand/Library/Caches/pypoetry/virtualenvs/experiments-2025-joms-rag-kQVmZs0C-py3.12/lib/python3.12/site-packages (from banks<3.0.0,>=2.0.0->llama-index-core<0.13.0,>=0.12.0->llama-index-llms-langchain) (1.7.2)\r\n",
      "Requirement already satisfied: jinja2 in /Users/aqilafarahmand/Library/Caches/pypoetry/virtualenvs/experiments-2025-joms-rag-kQVmZs0C-py3.12/lib/python3.12/site-packages (from banks<3.0.0,>=2.0.0->llama-index-core<0.13.0,>=0.12.0->llama-index-llms-langchain) (3.1.6)\r\n",
      "Requirement already satisfied: platformdirs in /Users/aqilafarahmand/Library/Caches/pypoetry/virtualenvs/experiments-2025-joms-rag-kQVmZs0C-py3.12/lib/python3.12/site-packages (from banks<3.0.0,>=2.0.0->llama-index-core<0.13.0,>=0.12.0->llama-index-llms-langchain) (4.3.7)\r\n",
      "Requirement already satisfied: jsonpatch<2.0,>=1.33 in /Users/aqilafarahmand/Library/Caches/pypoetry/virtualenvs/experiments-2025-joms-rag-kQVmZs0C-py3.12/lib/python3.12/site-packages (from langchain-core<1.0.0,>=0.3.51->langchain>=0.1.7->llama-index-llms-langchain) (1.33)\r\n",
      "Requirement already satisfied: packaging<25,>=23.2 in /Users/aqilafarahmand/Library/Caches/pypoetry/virtualenvs/experiments-2025-joms-rag-kQVmZs0C-py3.12/lib/python3.12/site-packages (from langchain-core<1.0.0,>=0.3.51->langchain>=0.1.7->llama-index-llms-langchain) (24.2)\r\n",
      "Requirement already satisfied: orjson<4.0.0,>=3.9.14 in /Users/aqilafarahmand/Library/Caches/pypoetry/virtualenvs/experiments-2025-joms-rag-kQVmZs0C-py3.12/lib/python3.12/site-packages (from langsmith<0.4,>=0.1.17->langchain>=0.1.7->llama-index-llms-langchain) (3.10.16)\r\n",
      "Requirement already satisfied: requests-toolbelt<2.0.0,>=1.0.0 in /Users/aqilafarahmand/Library/Caches/pypoetry/virtualenvs/experiments-2025-joms-rag-kQVmZs0C-py3.12/lib/python3.12/site-packages (from langsmith<0.4,>=0.1.17->langchain>=0.1.7->llama-index-llms-langchain) (1.0.0)\r\n",
      "Requirement already satisfied: zstandard<0.24.0,>=0.23.0 in /Users/aqilafarahmand/Library/Caches/pypoetry/virtualenvs/experiments-2025-joms-rag-kQVmZs0C-py3.12/lib/python3.12/site-packages (from langsmith<0.4,>=0.1.17->langchain>=0.1.7->llama-index-llms-langchain) (0.23.0)\r\n",
      "Requirement already satisfied: anyio in /Users/aqilafarahmand/Library/Caches/pypoetry/virtualenvs/experiments-2025-joms-rag-kQVmZs0C-py3.12/lib/python3.12/site-packages (from httpx->llama-index-core<0.13.0,>=0.12.0->llama-index-llms-langchain) (4.9.0)\r\n",
      "Requirement already satisfied: certifi in /Users/aqilafarahmand/Library/Caches/pypoetry/virtualenvs/experiments-2025-joms-rag-kQVmZs0C-py3.12/lib/python3.12/site-packages (from httpx->llama-index-core<0.13.0,>=0.12.0->llama-index-llms-langchain) (2025.1.31)\r\n",
      "Requirement already satisfied: httpcore==1.* in /Users/aqilafarahmand/Library/Caches/pypoetry/virtualenvs/experiments-2025-joms-rag-kQVmZs0C-py3.12/lib/python3.12/site-packages (from httpx->llama-index-core<0.13.0,>=0.12.0->llama-index-llms-langchain) (1.0.8)\r\n",
      "Requirement already satisfied: idna in /Users/aqilafarahmand/Library/Caches/pypoetry/virtualenvs/experiments-2025-joms-rag-kQVmZs0C-py3.12/lib/python3.12/site-packages (from httpx->llama-index-core<0.13.0,>=0.12.0->llama-index-llms-langchain) (3.10)\r\n",
      "Requirement already satisfied: h11<0.15,>=0.13 in /Users/aqilafarahmand/Library/Caches/pypoetry/virtualenvs/experiments-2025-joms-rag-kQVmZs0C-py3.12/lib/python3.12/site-packages (from httpcore==1.*->httpx->llama-index-core<0.13.0,>=0.12.0->llama-index-llms-langchain) (0.14.0)\r\n",
      "Requirement already satisfied: click in /Users/aqilafarahmand/Library/Caches/pypoetry/virtualenvs/experiments-2025-joms-rag-kQVmZs0C-py3.12/lib/python3.12/site-packages (from nltk>3.8.1->llama-index-core<0.13.0,>=0.12.0->llama-index-llms-langchain) (8.1.8)\r\n",
      "Requirement already satisfied: joblib in /Users/aqilafarahmand/Library/Caches/pypoetry/virtualenvs/experiments-2025-joms-rag-kQVmZs0C-py3.12/lib/python3.12/site-packages (from nltk>3.8.1->llama-index-core<0.13.0,>=0.12.0->llama-index-llms-langchain) (1.4.2)\r\n",
      "Requirement already satisfied: regex>=2021.8.3 in /Users/aqilafarahmand/Library/Caches/pypoetry/virtualenvs/experiments-2025-joms-rag-kQVmZs0C-py3.12/lib/python3.12/site-packages (from nltk>3.8.1->llama-index-core<0.13.0,>=0.12.0->llama-index-llms-langchain) (2024.11.6)\r\n",
      "Requirement already satisfied: annotated-types>=0.6.0 in /Users/aqilafarahmand/Library/Caches/pypoetry/virtualenvs/experiments-2025-joms-rag-kQVmZs0C-py3.12/lib/python3.12/site-packages (from pydantic<3.0.0,>=2.7.4->langchain>=0.1.7->llama-index-llms-langchain) (0.7.0)\r\n",
      "Requirement already satisfied: pydantic-core==2.33.1 in /Users/aqilafarahmand/Library/Caches/pypoetry/virtualenvs/experiments-2025-joms-rag-kQVmZs0C-py3.12/lib/python3.12/site-packages (from pydantic<3.0.0,>=2.7.4->langchain>=0.1.7->llama-index-llms-langchain) (2.33.1)\r\n",
      "Requirement already satisfied: typing-inspection>=0.4.0 in /Users/aqilafarahmand/Library/Caches/pypoetry/virtualenvs/experiments-2025-joms-rag-kQVmZs0C-py3.12/lib/python3.12/site-packages (from pydantic<3.0.0,>=2.7.4->langchain>=0.1.7->llama-index-llms-langchain) (0.4.0)\r\n",
      "Requirement already satisfied: charset-normalizer<4,>=2 in /Users/aqilafarahmand/Library/Caches/pypoetry/virtualenvs/experiments-2025-joms-rag-kQVmZs0C-py3.12/lib/python3.12/site-packages (from requests<3,>=2->langchain>=0.1.7->llama-index-llms-langchain) (3.4.1)\r\n",
      "Requirement already satisfied: urllib3<3,>=1.21.1 in /Users/aqilafarahmand/Library/Caches/pypoetry/virtualenvs/experiments-2025-joms-rag-kQVmZs0C-py3.12/lib/python3.12/site-packages (from requests<3,>=2->langchain>=0.1.7->llama-index-llms-langchain) (2.4.0)\r\n",
      "Requirement already satisfied: greenlet>=1 in /Users/aqilafarahmand/Library/Caches/pypoetry/virtualenvs/experiments-2025-joms-rag-kQVmZs0C-py3.12/lib/python3.12/site-packages (from SQLAlchemy[asyncio]>=1.4.49->llama-index-core<0.13.0,>=0.12.0->llama-index-llms-langchain) (3.2.0)\r\n",
      "Requirement already satisfied: mypy-extensions>=0.3.0 in /Users/aqilafarahmand/Library/Caches/pypoetry/virtualenvs/experiments-2025-joms-rag-kQVmZs0C-py3.12/lib/python3.12/site-packages (from typing-inspect>=0.8.0->llama-index-core<0.13.0,>=0.12.0->llama-index-llms-langchain) (1.0.0)\r\n",
      "Requirement already satisfied: marshmallow<4.0.0,>=3.18.0 in /Users/aqilafarahmand/Library/Caches/pypoetry/virtualenvs/experiments-2025-joms-rag-kQVmZs0C-py3.12/lib/python3.12/site-packages (from dataclasses-json->llama-index-core<0.13.0,>=0.12.0->llama-index-llms-langchain) (3.26.1)\r\n",
      "Requirement already satisfied: jsonpointer>=1.9 in /Users/aqilafarahmand/Library/Caches/pypoetry/virtualenvs/experiments-2025-joms-rag-kQVmZs0C-py3.12/lib/python3.12/site-packages (from jsonpatch<2.0,>=1.33->langchain-core<1.0.0,>=0.3.51->langchain>=0.1.7->llama-index-llms-langchain) (3.0.0)\r\n",
      "Requirement already satisfied: sniffio>=1.1 in /Users/aqilafarahmand/Library/Caches/pypoetry/virtualenvs/experiments-2025-joms-rag-kQVmZs0C-py3.12/lib/python3.12/site-packages (from anyio->httpx->llama-index-core<0.13.0,>=0.12.0->llama-index-llms-langchain) (1.3.1)\r\n",
      "Requirement already satisfied: colorama>=0.4 in /Users/aqilafarahmand/Library/Caches/pypoetry/virtualenvs/experiments-2025-joms-rag-kQVmZs0C-py3.12/lib/python3.12/site-packages (from griffe->banks<3.0.0,>=2.0.0->llama-index-core<0.13.0,>=0.12.0->llama-index-llms-langchain) (0.4.6)\r\n",
      "Requirement already satisfied: MarkupSafe>=2.0 in /Users/aqilafarahmand/Library/Caches/pypoetry/virtualenvs/experiments-2025-joms-rag-kQVmZs0C-py3.12/lib/python3.12/site-packages (from jinja2->banks<3.0.0,>=2.0.0->llama-index-core<0.13.0,>=0.12.0->llama-index-llms-langchain) (3.0.2)\r\n"
     ]
    }
   ],
   "execution_count": 5
  },
  {
   "cell_type": "code",
   "id": "b7cde393-75bd-48ac-8a38-971ec956bbe8",
   "metadata": {
    "tags": [],
    "ExecuteTime": {
     "end_time": "2025-04-17T15:33:39.033720Z",
     "start_time": "2025-04-17T15:33:38.415718Z"
    }
   },
   "source": [
    "!pip install llama-index-embeddings-langchain"
   ],
   "outputs": [
    {
     "name": "stdout",
     "output_type": "stream",
     "text": [
      "Requirement already satisfied: llama-index-embeddings-langchain in /Users/aqilafarahmand/Library/Caches/pypoetry/virtualenvs/experiments-2025-joms-rag-kQVmZs0C-py3.12/lib/python3.12/site-packages (0.3.0)\r\n",
      "Requirement already satisfied: llama-index-core<0.13.0,>=0.12.0 in /Users/aqilafarahmand/Library/Caches/pypoetry/virtualenvs/experiments-2025-joms-rag-kQVmZs0C-py3.12/lib/python3.12/site-packages (from llama-index-embeddings-langchain) (0.12.31)\r\n",
      "Requirement already satisfied: PyYAML>=6.0.1 in /Users/aqilafarahmand/Library/Caches/pypoetry/virtualenvs/experiments-2025-joms-rag-kQVmZs0C-py3.12/lib/python3.12/site-packages (from llama-index-core<0.13.0,>=0.12.0->llama-index-embeddings-langchain) (6.0.2)\r\n",
      "Requirement already satisfied: SQLAlchemy>=1.4.49 in /Users/aqilafarahmand/Library/Caches/pypoetry/virtualenvs/experiments-2025-joms-rag-kQVmZs0C-py3.12/lib/python3.12/site-packages (from SQLAlchemy[asyncio]>=1.4.49->llama-index-core<0.13.0,>=0.12.0->llama-index-embeddings-langchain) (2.0.40)\r\n",
      "Requirement already satisfied: aiohttp<4.0.0,>=3.8.6 in /Users/aqilafarahmand/Library/Caches/pypoetry/virtualenvs/experiments-2025-joms-rag-kQVmZs0C-py3.12/lib/python3.12/site-packages (from llama-index-core<0.13.0,>=0.12.0->llama-index-embeddings-langchain) (3.11.16)\r\n",
      "Requirement already satisfied: banks<3.0.0,>=2.0.0 in /Users/aqilafarahmand/Library/Caches/pypoetry/virtualenvs/experiments-2025-joms-rag-kQVmZs0C-py3.12/lib/python3.12/site-packages (from llama-index-core<0.13.0,>=0.12.0->llama-index-embeddings-langchain) (2.1.1)\r\n",
      "Requirement already satisfied: dataclasses-json in /Users/aqilafarahmand/Library/Caches/pypoetry/virtualenvs/experiments-2025-joms-rag-kQVmZs0C-py3.12/lib/python3.12/site-packages (from llama-index-core<0.13.0,>=0.12.0->llama-index-embeddings-langchain) (0.6.7)\r\n",
      "Requirement already satisfied: deprecated>=1.2.9.3 in /Users/aqilafarahmand/Library/Caches/pypoetry/virtualenvs/experiments-2025-joms-rag-kQVmZs0C-py3.12/lib/python3.12/site-packages (from llama-index-core<0.13.0,>=0.12.0->llama-index-embeddings-langchain) (1.2.18)\r\n",
      "Requirement already satisfied: dirtyjson<2.0.0,>=1.0.8 in /Users/aqilafarahmand/Library/Caches/pypoetry/virtualenvs/experiments-2025-joms-rag-kQVmZs0C-py3.12/lib/python3.12/site-packages (from llama-index-core<0.13.0,>=0.12.0->llama-index-embeddings-langchain) (1.0.8)\r\n",
      "Requirement already satisfied: filetype<2.0.0,>=1.2.0 in /Users/aqilafarahmand/Library/Caches/pypoetry/virtualenvs/experiments-2025-joms-rag-kQVmZs0C-py3.12/lib/python3.12/site-packages (from llama-index-core<0.13.0,>=0.12.0->llama-index-embeddings-langchain) (1.2.0)\r\n",
      "Requirement already satisfied: fsspec>=2023.5.0 in /Users/aqilafarahmand/Library/Caches/pypoetry/virtualenvs/experiments-2025-joms-rag-kQVmZs0C-py3.12/lib/python3.12/site-packages (from llama-index-core<0.13.0,>=0.12.0->llama-index-embeddings-langchain) (2025.3.2)\r\n",
      "Requirement already satisfied: httpx in /Users/aqilafarahmand/Library/Caches/pypoetry/virtualenvs/experiments-2025-joms-rag-kQVmZs0C-py3.12/lib/python3.12/site-packages (from llama-index-core<0.13.0,>=0.12.0->llama-index-embeddings-langchain) (0.28.1)\r\n",
      "Requirement already satisfied: nest-asyncio<2.0.0,>=1.5.8 in /Users/aqilafarahmand/Library/Caches/pypoetry/virtualenvs/experiments-2025-joms-rag-kQVmZs0C-py3.12/lib/python3.12/site-packages (from llama-index-core<0.13.0,>=0.12.0->llama-index-embeddings-langchain) (1.6.0)\r\n",
      "Requirement already satisfied: networkx>=3.0 in /Users/aqilafarahmand/Library/Caches/pypoetry/virtualenvs/experiments-2025-joms-rag-kQVmZs0C-py3.12/lib/python3.12/site-packages (from llama-index-core<0.13.0,>=0.12.0->llama-index-embeddings-langchain) (3.4.2)\r\n",
      "Requirement already satisfied: nltk>3.8.1 in /Users/aqilafarahmand/Library/Caches/pypoetry/virtualenvs/experiments-2025-joms-rag-kQVmZs0C-py3.12/lib/python3.12/site-packages (from llama-index-core<0.13.0,>=0.12.0->llama-index-embeddings-langchain) (3.9.1)\r\n",
      "Requirement already satisfied: numpy in /Users/aqilafarahmand/Library/Caches/pypoetry/virtualenvs/experiments-2025-joms-rag-kQVmZs0C-py3.12/lib/python3.12/site-packages (from llama-index-core<0.13.0,>=0.12.0->llama-index-embeddings-langchain) (2.0.2)\r\n",
      "Requirement already satisfied: pillow>=9.0.0 in /Users/aqilafarahmand/Library/Caches/pypoetry/virtualenvs/experiments-2025-joms-rag-kQVmZs0C-py3.12/lib/python3.12/site-packages (from llama-index-core<0.13.0,>=0.12.0->llama-index-embeddings-langchain) (10.4.0)\r\n",
      "Requirement already satisfied: pydantic>=2.8.0 in /Users/aqilafarahmand/Library/Caches/pypoetry/virtualenvs/experiments-2025-joms-rag-kQVmZs0C-py3.12/lib/python3.12/site-packages (from llama-index-core<0.13.0,>=0.12.0->llama-index-embeddings-langchain) (2.11.3)\r\n",
      "Requirement already satisfied: requests>=2.31.0 in /Users/aqilafarahmand/Library/Caches/pypoetry/virtualenvs/experiments-2025-joms-rag-kQVmZs0C-py3.12/lib/python3.12/site-packages (from llama-index-core<0.13.0,>=0.12.0->llama-index-embeddings-langchain) (2.32.3)\r\n",
      "Requirement already satisfied: tenacity!=8.4.0,<10.0.0,>=8.2.0 in /Users/aqilafarahmand/Library/Caches/pypoetry/virtualenvs/experiments-2025-joms-rag-kQVmZs0C-py3.12/lib/python3.12/site-packages (from llama-index-core<0.13.0,>=0.12.0->llama-index-embeddings-langchain) (9.1.2)\r\n",
      "Requirement already satisfied: tiktoken>=0.3.3 in /Users/aqilafarahmand/Library/Caches/pypoetry/virtualenvs/experiments-2025-joms-rag-kQVmZs0C-py3.12/lib/python3.12/site-packages (from llama-index-core<0.13.0,>=0.12.0->llama-index-embeddings-langchain) (0.9.0)\r\n",
      "Requirement already satisfied: tqdm<5.0.0,>=4.66.1 in /Users/aqilafarahmand/Library/Caches/pypoetry/virtualenvs/experiments-2025-joms-rag-kQVmZs0C-py3.12/lib/python3.12/site-packages (from llama-index-core<0.13.0,>=0.12.0->llama-index-embeddings-langchain) (4.67.1)\r\n",
      "Requirement already satisfied: typing-extensions>=4.5.0 in /Users/aqilafarahmand/Library/Caches/pypoetry/virtualenvs/experiments-2025-joms-rag-kQVmZs0C-py3.12/lib/python3.12/site-packages (from llama-index-core<0.13.0,>=0.12.0->llama-index-embeddings-langchain) (4.13.2)\r\n",
      "Requirement already satisfied: typing-inspect>=0.8.0 in /Users/aqilafarahmand/Library/Caches/pypoetry/virtualenvs/experiments-2025-joms-rag-kQVmZs0C-py3.12/lib/python3.12/site-packages (from llama-index-core<0.13.0,>=0.12.0->llama-index-embeddings-langchain) (0.9.0)\r\n",
      "Requirement already satisfied: wrapt in /Users/aqilafarahmand/Library/Caches/pypoetry/virtualenvs/experiments-2025-joms-rag-kQVmZs0C-py3.12/lib/python3.12/site-packages (from llama-index-core<0.13.0,>=0.12.0->llama-index-embeddings-langchain) (1.17.2)\r\n",
      "Requirement already satisfied: aiohappyeyeballs>=2.3.0 in /Users/aqilafarahmand/Library/Caches/pypoetry/virtualenvs/experiments-2025-joms-rag-kQVmZs0C-py3.12/lib/python3.12/site-packages (from aiohttp<4.0.0,>=3.8.6->llama-index-core<0.13.0,>=0.12.0->llama-index-embeddings-langchain) (2.6.1)\r\n",
      "Requirement already satisfied: aiosignal>=1.1.2 in /Users/aqilafarahmand/Library/Caches/pypoetry/virtualenvs/experiments-2025-joms-rag-kQVmZs0C-py3.12/lib/python3.12/site-packages (from aiohttp<4.0.0,>=3.8.6->llama-index-core<0.13.0,>=0.12.0->llama-index-embeddings-langchain) (1.3.2)\r\n",
      "Requirement already satisfied: attrs>=17.3.0 in /Users/aqilafarahmand/Library/Caches/pypoetry/virtualenvs/experiments-2025-joms-rag-kQVmZs0C-py3.12/lib/python3.12/site-packages (from aiohttp<4.0.0,>=3.8.6->llama-index-core<0.13.0,>=0.12.0->llama-index-embeddings-langchain) (25.3.0)\r\n",
      "Requirement already satisfied: frozenlist>=1.1.1 in /Users/aqilafarahmand/Library/Caches/pypoetry/virtualenvs/experiments-2025-joms-rag-kQVmZs0C-py3.12/lib/python3.12/site-packages (from aiohttp<4.0.0,>=3.8.6->llama-index-core<0.13.0,>=0.12.0->llama-index-embeddings-langchain) (1.5.0)\r\n",
      "Requirement already satisfied: multidict<7.0,>=4.5 in /Users/aqilafarahmand/Library/Caches/pypoetry/virtualenvs/experiments-2025-joms-rag-kQVmZs0C-py3.12/lib/python3.12/site-packages (from aiohttp<4.0.0,>=3.8.6->llama-index-core<0.13.0,>=0.12.0->llama-index-embeddings-langchain) (6.4.3)\r\n",
      "Requirement already satisfied: propcache>=0.2.0 in /Users/aqilafarahmand/Library/Caches/pypoetry/virtualenvs/experiments-2025-joms-rag-kQVmZs0C-py3.12/lib/python3.12/site-packages (from aiohttp<4.0.0,>=3.8.6->llama-index-core<0.13.0,>=0.12.0->llama-index-embeddings-langchain) (0.3.1)\r\n",
      "Requirement already satisfied: yarl<2.0,>=1.17.0 in /Users/aqilafarahmand/Library/Caches/pypoetry/virtualenvs/experiments-2025-joms-rag-kQVmZs0C-py3.12/lib/python3.12/site-packages (from aiohttp<4.0.0,>=3.8.6->llama-index-core<0.13.0,>=0.12.0->llama-index-embeddings-langchain) (1.20.0)\r\n",
      "Requirement already satisfied: griffe in /Users/aqilafarahmand/Library/Caches/pypoetry/virtualenvs/experiments-2025-joms-rag-kQVmZs0C-py3.12/lib/python3.12/site-packages (from banks<3.0.0,>=2.0.0->llama-index-core<0.13.0,>=0.12.0->llama-index-embeddings-langchain) (1.7.2)\r\n",
      "Requirement already satisfied: jinja2 in /Users/aqilafarahmand/Library/Caches/pypoetry/virtualenvs/experiments-2025-joms-rag-kQVmZs0C-py3.12/lib/python3.12/site-packages (from banks<3.0.0,>=2.0.0->llama-index-core<0.13.0,>=0.12.0->llama-index-embeddings-langchain) (3.1.6)\r\n",
      "Requirement already satisfied: platformdirs in /Users/aqilafarahmand/Library/Caches/pypoetry/virtualenvs/experiments-2025-joms-rag-kQVmZs0C-py3.12/lib/python3.12/site-packages (from banks<3.0.0,>=2.0.0->llama-index-core<0.13.0,>=0.12.0->llama-index-embeddings-langchain) (4.3.7)\r\n",
      "Requirement already satisfied: click in /Users/aqilafarahmand/Library/Caches/pypoetry/virtualenvs/experiments-2025-joms-rag-kQVmZs0C-py3.12/lib/python3.12/site-packages (from nltk>3.8.1->llama-index-core<0.13.0,>=0.12.0->llama-index-embeddings-langchain) (8.1.8)\r\n",
      "Requirement already satisfied: joblib in /Users/aqilafarahmand/Library/Caches/pypoetry/virtualenvs/experiments-2025-joms-rag-kQVmZs0C-py3.12/lib/python3.12/site-packages (from nltk>3.8.1->llama-index-core<0.13.0,>=0.12.0->llama-index-embeddings-langchain) (1.4.2)\r\n",
      "Requirement already satisfied: regex>=2021.8.3 in /Users/aqilafarahmand/Library/Caches/pypoetry/virtualenvs/experiments-2025-joms-rag-kQVmZs0C-py3.12/lib/python3.12/site-packages (from nltk>3.8.1->llama-index-core<0.13.0,>=0.12.0->llama-index-embeddings-langchain) (2024.11.6)\r\n",
      "Requirement already satisfied: annotated-types>=0.6.0 in /Users/aqilafarahmand/Library/Caches/pypoetry/virtualenvs/experiments-2025-joms-rag-kQVmZs0C-py3.12/lib/python3.12/site-packages (from pydantic>=2.8.0->llama-index-core<0.13.0,>=0.12.0->llama-index-embeddings-langchain) (0.7.0)\r\n",
      "Requirement already satisfied: pydantic-core==2.33.1 in /Users/aqilafarahmand/Library/Caches/pypoetry/virtualenvs/experiments-2025-joms-rag-kQVmZs0C-py3.12/lib/python3.12/site-packages (from pydantic>=2.8.0->llama-index-core<0.13.0,>=0.12.0->llama-index-embeddings-langchain) (2.33.1)\r\n",
      "Requirement already satisfied: typing-inspection>=0.4.0 in /Users/aqilafarahmand/Library/Caches/pypoetry/virtualenvs/experiments-2025-joms-rag-kQVmZs0C-py3.12/lib/python3.12/site-packages (from pydantic>=2.8.0->llama-index-core<0.13.0,>=0.12.0->llama-index-embeddings-langchain) (0.4.0)\r\n",
      "Requirement already satisfied: charset-normalizer<4,>=2 in /Users/aqilafarahmand/Library/Caches/pypoetry/virtualenvs/experiments-2025-joms-rag-kQVmZs0C-py3.12/lib/python3.12/site-packages (from requests>=2.31.0->llama-index-core<0.13.0,>=0.12.0->llama-index-embeddings-langchain) (3.4.1)\r\n",
      "Requirement already satisfied: idna<4,>=2.5 in /Users/aqilafarahmand/Library/Caches/pypoetry/virtualenvs/experiments-2025-joms-rag-kQVmZs0C-py3.12/lib/python3.12/site-packages (from requests>=2.31.0->llama-index-core<0.13.0,>=0.12.0->llama-index-embeddings-langchain) (3.10)\r\n",
      "Requirement already satisfied: urllib3<3,>=1.21.1 in /Users/aqilafarahmand/Library/Caches/pypoetry/virtualenvs/experiments-2025-joms-rag-kQVmZs0C-py3.12/lib/python3.12/site-packages (from requests>=2.31.0->llama-index-core<0.13.0,>=0.12.0->llama-index-embeddings-langchain) (2.4.0)\r\n",
      "Requirement already satisfied: certifi>=2017.4.17 in /Users/aqilafarahmand/Library/Caches/pypoetry/virtualenvs/experiments-2025-joms-rag-kQVmZs0C-py3.12/lib/python3.12/site-packages (from requests>=2.31.0->llama-index-core<0.13.0,>=0.12.0->llama-index-embeddings-langchain) (2025.1.31)\r\n",
      "Requirement already satisfied: greenlet>=1 in /Users/aqilafarahmand/Library/Caches/pypoetry/virtualenvs/experiments-2025-joms-rag-kQVmZs0C-py3.12/lib/python3.12/site-packages (from SQLAlchemy[asyncio]>=1.4.49->llama-index-core<0.13.0,>=0.12.0->llama-index-embeddings-langchain) (3.2.0)\r\n",
      "Requirement already satisfied: mypy-extensions>=0.3.0 in /Users/aqilafarahmand/Library/Caches/pypoetry/virtualenvs/experiments-2025-joms-rag-kQVmZs0C-py3.12/lib/python3.12/site-packages (from typing-inspect>=0.8.0->llama-index-core<0.13.0,>=0.12.0->llama-index-embeddings-langchain) (1.0.0)\r\n",
      "Requirement already satisfied: marshmallow<4.0.0,>=3.18.0 in /Users/aqilafarahmand/Library/Caches/pypoetry/virtualenvs/experiments-2025-joms-rag-kQVmZs0C-py3.12/lib/python3.12/site-packages (from dataclasses-json->llama-index-core<0.13.0,>=0.12.0->llama-index-embeddings-langchain) (3.26.1)\r\n",
      "Requirement already satisfied: anyio in /Users/aqilafarahmand/Library/Caches/pypoetry/virtualenvs/experiments-2025-joms-rag-kQVmZs0C-py3.12/lib/python3.12/site-packages (from httpx->llama-index-core<0.13.0,>=0.12.0->llama-index-embeddings-langchain) (4.9.0)\r\n",
      "Requirement already satisfied: httpcore==1.* in /Users/aqilafarahmand/Library/Caches/pypoetry/virtualenvs/experiments-2025-joms-rag-kQVmZs0C-py3.12/lib/python3.12/site-packages (from httpx->llama-index-core<0.13.0,>=0.12.0->llama-index-embeddings-langchain) (1.0.8)\r\n",
      "Requirement already satisfied: h11<0.15,>=0.13 in /Users/aqilafarahmand/Library/Caches/pypoetry/virtualenvs/experiments-2025-joms-rag-kQVmZs0C-py3.12/lib/python3.12/site-packages (from httpcore==1.*->httpx->llama-index-core<0.13.0,>=0.12.0->llama-index-embeddings-langchain) (0.14.0)\r\n",
      "Requirement already satisfied: packaging>=17.0 in /Users/aqilafarahmand/Library/Caches/pypoetry/virtualenvs/experiments-2025-joms-rag-kQVmZs0C-py3.12/lib/python3.12/site-packages (from marshmallow<4.0.0,>=3.18.0->dataclasses-json->llama-index-core<0.13.0,>=0.12.0->llama-index-embeddings-langchain) (24.2)\r\n",
      "Requirement already satisfied: sniffio>=1.1 in /Users/aqilafarahmand/Library/Caches/pypoetry/virtualenvs/experiments-2025-joms-rag-kQVmZs0C-py3.12/lib/python3.12/site-packages (from anyio->httpx->llama-index-core<0.13.0,>=0.12.0->llama-index-embeddings-langchain) (1.3.1)\r\n",
      "Requirement already satisfied: colorama>=0.4 in /Users/aqilafarahmand/Library/Caches/pypoetry/virtualenvs/experiments-2025-joms-rag-kQVmZs0C-py3.12/lib/python3.12/site-packages (from griffe->banks<3.0.0,>=2.0.0->llama-index-core<0.13.0,>=0.12.0->llama-index-embeddings-langchain) (0.4.6)\r\n",
      "Requirement already satisfied: MarkupSafe>=2.0 in /Users/aqilafarahmand/Library/Caches/pypoetry/virtualenvs/experiments-2025-joms-rag-kQVmZs0C-py3.12/lib/python3.12/site-packages (from jinja2->banks<3.0.0,>=2.0.0->llama-index-core<0.13.0,>=0.12.0->llama-index-embeddings-langchain) (3.0.2)\r\n"
     ]
    }
   ],
   "execution_count": 6
  },
  {
   "metadata": {},
   "cell_type": "markdown",
   "source": "## Use GEMINI models",
   "id": "cf1e3b312f2bd8fc"
  },
  {
   "metadata": {},
   "cell_type": "code",
   "source": "import os",
   "id": "a0b772476db20279",
   "outputs": [],
   "execution_count": null
  },
  {
   "metadata": {},
   "cell_type": "code",
   "source": "api_key = os.environ['GOOGLE_API_KEY']",
   "id": "82ae8db96b32485c",
   "outputs": [],
   "execution_count": null
  },
  {
   "metadata": {},
   "cell_type": "code",
   "source": "!pip install -q google-generativeai",
   "id": "5b28c26528cb22e5",
   "outputs": [],
   "execution_count": null
  },
  {
   "metadata": {},
   "cell_type": "code",
   "source": "import google.generativeai as genai",
   "id": "7eb33910889449e5",
   "outputs": [],
   "execution_count": null
  },
  {
   "metadata": {},
   "cell_type": "code",
   "source": "genai.configure(api_key=api_key)",
   "id": "1eaa0efaa54b45df",
   "outputs": [],
   "execution_count": null
  },
  {
   "metadata": {},
   "cell_type": "code",
   "source": [
    "# For text-only prompts\n",
    "model = genai.GenerativeModel('gemini-1.5-pro-latest') \n",
    "\n",
    "# --- Generate Content ---\n",
    "prompt = \"How is the weather now?\"\n",
    "response = model.generate_content(prompt)\n",
    "print(response.text)"
   ],
   "id": "fc258615c8f606ce",
   "outputs": [],
   "execution_count": null
  },
  {
   "metadata": {},
   "cell_type": "markdown",
   "source": "## List available models",
   "id": "cb12513ef2344cc2"
  },
  {
   "metadata": {},
   "cell_type": "markdown",
   "source": "Prepare the data for embedder",
   "id": "e5e9b6e96903d579"
  },
  {
   "metadata": {
    "ExecuteTime": {
     "end_time": "2025-04-17T15:33:41.595656Z",
     "start_time": "2025-04-17T15:33:41.591838Z"
    }
   },
   "cell_type": "code",
   "source": "# init the embeddings for answer_relevancy, answer_correctness and answer_similarity",
   "id": "ac3d9125163443c",
   "outputs": [],
   "execution_count": 13
  },
  {
   "cell_type": "code",
   "id": "1c358ab0-0dbe-4f42-964b-3b680c925d7a",
   "metadata": {
    "tags": []
   },
   "source": "!pip install llama-index-llms-openai",
   "outputs": [],
   "execution_count": null
  },
  {
   "cell_type": "code",
   "id": "2b68fd44-4530-4cc8-b231-599093a54350",
   "metadata": {
    "tags": []
   },
   "source": [
    "from llama_index.core import SimpleDirectoryReader"
   ],
   "outputs": [],
   "execution_count": null
  },
  {
   "cell_type": "code",
   "id": "71d4cdbe-7e2f-4da9-a8f0-e48d1181a777",
   "metadata": {
    "tags": []
   },
   "source": [
    "import nest_asyncio\n",
    "import openai\n",
    "import time\n",
    "\n",
    "nest_asyncio.apply()\n",
    "\n",
    "from llama_index.core import (\n",
    "    SimpleDirectoryReader,\n",
    "    VectorStoreIndex,\n",
    "    ServiceContext,\n",
    ")\n",
    "from llama_index.core.evaluation import ( DatasetGenerator, FaithfulnessEvaluator,  RelevancyEvaluator)\n",
    "from llama_index.llms.openai import OpenAI\n",
    "\n"
   ],
   "outputs": [],
   "execution_count": null
  },
  {
   "metadata": {},
   "cell_type": "code",
   "source": "from data import PATH as DATA_PATH",
   "id": "a16aa12355dc79ad",
   "outputs": [],
   "execution_count": null
  },
  {
   "cell_type": "code",
   "id": "8f2b88e7-88a7-4182-8dcc-b498a0694870",
   "metadata": {
    "tags": [],
    "ExecuteTime": {
     "end_time": "2025-04-17T15:34:09.940738Z",
     "start_time": "2025-04-17T15:34:09.930711Z"
    }
   },
   "source": [
    "from llama_index.readers.file import (\n",
    "    PandasCSVReader,\n",
    "    CSVReader\n",
    ")\n",
    "# CSV Reader Llamaindex\n",
    "parser = CSVReader()\n",
    "file_extractor = {\".csv\": parser}  # Add other CSV formats as needed\n",
    "documents = SimpleDirectoryReader(\n",
    "    DATA_PATH, file_extractor=file_extractor\n",
    ").load_data()"
   ],
   "outputs": [],
   "execution_count": 24
  },
  {
   "metadata": {
    "ExecuteTime": {
     "end_time": "2025-04-17T15:33:43.454215Z",
     "start_time": "2025-04-17T15:33:43.449663Z"
    }
   },
   "cell_type": "code",
   "source": "print(documents)",
   "id": "bbc98235981eec6e",
   "outputs": [
    {
     "name": "stdout",
     "output_type": "stream",
     "text": [
      "[Document(id_='fb2ea795-0911-4580-baaa-28d8c85dc9e3', embedding=None, metadata={'file_path': '/Users/aqilafarahmand/Desktop/experiments/experiments-2025-joms-rag/data/__init__.py', 'file_name': '__init__.py', 'file_type': 'text/x-python', 'file_size': 55, 'creation_date': '2025-04-17', 'last_modified_date': '2025-04-17'}, excluded_embed_metadata_keys=['file_name', 'file_type', 'file_size', 'creation_date', 'last_modified_date', 'last_accessed_date'], excluded_llm_metadata_keys=['file_name', 'file_type', 'file_size', 'creation_date', 'last_modified_date', 'last_accessed_date'], relationships={}, metadata_template='{key}: {value}', metadata_separator='\\n', text_resource=MediaResource(embeddings=None, data=None, text='from pathlib import Path\\n\\nPATH = Path(__file__).parent\\n', path=None, url=None, mimetype=None), image_resource=None, audio_resource=None, video_resource=None, text_template='{metadata_str}\\n\\n{content}'), Document(id_='bd0e0401-4fea-49e4-8769-6b2dd2e7250f', embedding=None, metadata={'filename': 'document.csv', 'extension': '.csv', 'file_path': '/Users/aqilafarahmand/Desktop/experiments/experiments-2025-joms-rag/data/document.csv', 'file_name': 'document.csv', 'file_type': 'text/csv', 'file_size': 78621, 'creation_date': '2025-04-17', 'last_modified_date': '2025-04-14'}, excluded_embed_metadata_keys=['file_name', 'file_type', 'file_size', 'creation_date', 'last_modified_date', 'last_accessed_date'], excluded_llm_metadata_keys=['file_name', 'file_type', 'file_size', 'creation_date', 'last_modified_date', 'last_accessed_date'], relationships={}, metadata_template='{key}: {value}', metadata_separator='\\n', text_resource=MediaResource(embeddings=None, data=None, text=\"Sentence, Response\\nQuali sono le alternative al sale che posso usare in cucina?, Ci sono molte alternative al sale che puoi utilizzare per insaporire i tuoi piatti come erbe aromatiche, spezie, aglio, cipolla, limone o aceto.\\nSe riduco il sale nella mia dieta, quanto tempo ci vorrà per vedere un effetto sulla mia pressione?, La riduzione del sale nella dieta può portare a benefici sulla pressione arteriosa in poche settimane, ma l'effetto completo potrebbe richiedere alcuni mesi.\\nCosa significa esattamente 'dieta a basso contenuto di sale'?, Una dieta a basso contenuto di sale significa limitare l'assunzione di sodio a meno di 2.300 milligrammi al giorno, evitando cibi processati e aggiungendo poco sale ai pasti.\\nPosso usare il sale iodato senza problemi?, Il sale iodato può essere usato, ma è sempre bene limitare la quantità assunta giornalmente. L'eccesso di sodio è nocivo indipendentemente dal tipo di sale.\\nIl sale marino è migliore del sale da cucina per la mia pressione?, Il sale marino e il sale da cucina hanno la stessa quantità di sodio. Non c'è differenza per quanto riguarda l'influenza sulla pressione. La quantità di sale che assumiamo è più importante rispetto al tipo di sale.\\nVorrei aggiungere le misurazioni della pressione che ho preso oggi., Assolutamente, puoi procedere.\\nPosso caricare i miei valori pressori settimanali?, Certo, sono pronto a registrarli.\\nMi piacerebbe salvare le mie ultime letture della pressione., Sì, non c'è problema.\\nVorrei fornirti i dati relativi alla mia pressione sanguigna di questa settimana., Perfetto, puoi comunicarli quando vuoi.\\nPosso registrare i miei dati pressori di questo periodo?, Certo, sono qui per questo.\\nL'ipertensione è ereditaria?, La storia familiare di ipertensione è un fattore di rischio non modificabile. Se in famiglia ci sono stati casi di ipertensione, è consigliabile tenere sotto controllo la pressione arteriosa.\\nIl mio stile di vita può influenzare la mia pressione?, Certamente. I fattori di rischio modificabili per l'ipertensione includono abitudini alimentari, livello di attività fisica, consumo di alcol e tabacco, e gestione del peso.\\nL'età è un fattore di rischio per la pressione alta?, Sì, l'età è un fattore di rischio non modificabile. Il rischio di ipertensione aumenta con l'avanzare dell'età, soprattutto dopo i 65 anni.\\nIl diabete aumenta il rischio di ipertensione?, Sì, il diabete è una delle malattie coesistenti che aumentano il rischio di sviluppare ipertensione.\\nCosa si intende per fattori di rischio modificabili e non modificabili?, I fattori di rischio modificabili sono quelli che possiamo controllare con il nostro stile di vita, mentre i fattori di rischio non modificabili sono quelli che non possiamo cambiare come l'età e la storia familiare.\\nQuali sono le differenze di rischio cardiovascolare tra le diverse etnie?, Le differenze etniche possono influenzare il rischio cardiovascolare, con alcune etnie che presentano una maggiore predisposizione a certe patologie, come l'ipertensione.\\nEsistono studi specifici sulle malattie cardiache e le diverse popolazioni?, Sì, esistono numerosi studi che esplorano come la genetica e altri fattori legati all'etnia possono influenzare la prevalenza e la gravità delle malattie cardiache.\\nLe origini geografiche possono avere un impatto sul mio cuore?, Assolutamente, fattori ambientali e genetici legati alle origini geografiche possono contribuire a un rischio diverso di sviluppare malattie cardiache.\\nC'è una correlazione tra background familiare e rischio di ipertensione?, Sì, il background familiare, che spesso riflette l'etnia, è uno dei fattori che possono aumentare il rischio di ipertensione.\\nIn che modo la mia etnia dovrebbe guidare la prevenzione delle malattie cardiache?, Conoscere le predisposizioni legate alla tua etnia può aiutare a personalizzare le strategie di prevenzione, come controlli più frequenti o scelte di stile di vita mirate.\\nLa mia pressione sembra alta oggi, dovrei fare qualcosa?, È importante monitorare regolarmente la pressione. Se noti valori elevati ripetutamente, parlane con il tuo medico per valutare la situazione.\\nMi sento strano, la mia pressione sanguigna è un po' ballerina., Capisco la tua preoccupazione. La pressione può variare, ma è utile tenere traccia dei valori e consultare il medico se i cambiamenti sono frequenti.\\nHo misurato la pressione e non mi sembra stabile., La pressione sanguigna può fluttuare per diversi motivi. Continua a monitorarla e riferisci al medico se noti variazioni significative e costanti.\\nNon riesco a capire perché la mia pressione non sia costante., È normale che la pressione non sia sempre uguale. Il tuo medico può aiutarti a capire se le variazioni sono nella norma o richiedono attenzione.\\nSono un po' in ansia perché la mia pressione non è sempre uguale., L'ansia può influenzare la pressione, ma è importante monitorarla regolarmente. Se le fluttuazioni ti preoccupano, parlane con il tuo medico.\\nGrazie per il tuo aiuto, assistente. A domani!, A domani!\\nTi ringrazio per il supporto di oggi, assistente! Ci sentiamo presto., Certamente, a presto!\\nÈ stato utile parlare con te oggi, assistente. Ti saluto!, Arrivederci!\\nGrazie, assistente, per avermi assistito con la mia pressione oggi. A risentirci!, A risentirci!\\nBene, assistente. Per oggi è tutto, grazie per la tua assistenza., Prego, a presto!\\nSono preoccupato per le possibili complicazioni della mia ipertensione., Comprendo la tua preoccupazione, l'ipertensione può portare a complicazioni ma gestendola adeguatamente con una terapia e controlli regolari puoi ridurre il rischio.\\nHo paura che l'ipertensione possa danneggiare il mio cuore., L'ipertensione può mettere a dura prova il cuore nel tempo, ma con un buon controllo della pressione attraverso la terapia, puoi proteggere il tuo cuore.\\nCosa posso fare se la mia pressione alta mi fa sentire ansioso?, Se l'ansia è causata dall'ipertensione parlane con il tuo medico che potrà consigliarti la migliore strategia terapeutica e darti ulteriori consigli per gestire l'ansia.\\nVorrei sapere quali sono le complicanze più gravi associate alla pressione alta., L'ipertensione non controllata può portare a problemi gravi come ictus, infarto e insufficienza renale. Per fortuna questi rischi possono essere controllati con la terapia e un adeguato stile di vita.\\nTemo che la mia pressione alta possa causarmi problemi di salute a lungo termine., L'ipertensione, se non trattata, può aumentare il rischio di problemi a lungo termine ma con la terapia e uno stile di vita sano, puoi prenderti cura della tua salute.\\nPosso fornirti i valori della mia pressione sanguigna di oggi?, Assolutamente, puoi procedere!\\nVorrei inserire le misurazioni della mia pressione arteriosa di questa mattina., Certamente, sono pronto a registrarle.\\nPosso aggiornare i dati della mia pressione di oggi?, Certo, fammi sapere i tuoi valori.\\nÈ possibile aggiungere i dati della mia pressione sanguigna misurata stamattina?, Sì, procedi pure con l'inserimento!\\nHo misurato la pressione stamattina, posso aggiungerla ai miei dati?, Sì, puoi inserirli quando vuoi.\\nQuali tipi di esercizio fisico sono più indicati per chi ha il diabete?, Generalmente, per i pazienti diabetici, sono consigliati esercizi aerobici come camminata, nuoto o ciclismo, combinati con esercizi di resistenza per migliorare la forza muscolare.\\nPosso fare esercizi fisici se ho il diabete e la pressione alta?, Assolutamente sì, l'attività fisica è raccomandata anche in caso di diabete e ipertensione. Inizia con esercizi leggeri e aumenta gradualmente, ma consulta il tuo medico per un piano personalizzato.\\nQuanto esercizio fisico dovrei fare ogni settimana se ho il diabete?, L'ideale sarebbe fare almeno 150 minuti di attività fisica moderata alla settimana, distribuita in più giorni, per ottenere benefici significativi per il diabete.\\nCome l'esercizio fisico può aiutarmi a ridurre la glicemia?, L'esercizio fisico aumenta la sensibilità all'insulina, permettendo alle cellule di utilizzare meglio il glucosio nel sangue, il che aiuta a ridurre i livelli di glicemia.\\nOltre all'esercizio fisico, ci sono altri modi per gestire il diabete?, Certamente, una dieta equilibrata, il monitoraggio della glicemia e l'assunzione di farmaci, se prescritti dal medico, sono altri importanti aspetti per la gestione efficace del diabete.\\nHo misurato la pressione più volte oggi, è normale?, La pressione arteriosa è un parametro variabile, quindi fluttua durante il giorno. Per valutarne l'andamento nel tempo, è consigliabile misurarla in orari simili e in condizioni di riposo. Condividi con me i valori misurati.\\nVorrei capire se i miei valori pressori sono nella norma., Per poter valutare se i tuoi valori pressori sono nella norma, avrei bisogno di sapere le tue ultime misurazioni della pressione sistolica e diastolica. Inoltre, ricorda di effettuare le misurazioni con regolarità, almeno ogni 72 ore.\\nC'è un modo per capire se la mia terapia sta funzionando?, Il modo migliore per capire se la terapia sta funzionando è monitorare regolarmente la pressione e confrontare i valori nel tempo. Condividi con me i tuoi valori per poterti dare un feedback.\\nNon ho capito bene come misurare la pressione., Per effettuare una corretta misurazione della pressione, è necessario sedersi in modo rilassato, con le gambe non incrociate, e appoggiare il braccio all'altezza del cuore. Inoltre, non bisogna aver fumato o bevuto caffeina nell'ora precedente. Avrei bisogno di sapere come stai effettuando le misurazioni per aiutarti.\\nHo bisogno di aiuto per monitorare la mia pressione., Posso aiutarti a monitorare la tua pressione. Per farlo, ho bisogno che tu mi fornisca regolarmente i valori della tua pressione sistolica e diastolica, effettuando le misurazioni almeno ogni 72 ore.\\nSono preoccupato che la mia ipertensione possa influenzare la mia concentrazione., L'ipertensione non controllata può influire sulla concentrazione e sulle funzioni cognitive, quindi è importante monitorare regolarmente la pressione e seguire le indicazioni del medico.\\nHo sentito dire che l'ipertensione può portare a problemi di vista., Sì, l'ipertensione cronica può danneggiare i vasi sanguigni degli occhi e causare problemi alla vista. È fondamentale tenere sotto controllo la pressione per prevenire queste complicazioni.\\nMi chiedo se l'ipertensione possa aumentare il rischio di demenza., L'ipertensione è un fattore di rischio per lo sviluppo della demenza, in particolare quella vascolare. Mantenere una pressione sanguigna sana è essenziale per la salute cerebrale a lungo termine.\\nTemo che la mia ipertensione possa compromettere le mie capacità cognitive., L'ipertensione arteriosa può avere un impatto negativo sulle funzioni cognitive, ma con una gestione adeguata e la terapia prescritta è possibile ridurre questo rischio.\\nHo letto che l'ipertensione può accelerare l'invecchiamento cerebrale., L'ipertensione non controllata può accelerare l'invecchiamento dei vasi sanguigni cerebrali. Un controllo regolare della pressione e uno stile di vita sano sono fondamentali per mantenere la salute del cervello.\\nNon mi sento in ansia per la mia pressione alta., È positivo che tu non senta ansia, tuttavia è fondamentale monitorare regolarmente la pressione, soprattutto se stai seguendo una terapia. Parla con il tuo medico se hai domande o se i tuoi valori dovessero cambiare.\\nSono abbastanza tranquillo riguardo alla mia ipertensione., Comprendo il tuo stato d'animo, ma ti ricordo che la costanza nel monitoraggio della pressione è importante. Se ci sono cambiamenti, parlane con il tuo medico curante.\\nLa mia pressione alta non mi preoccupa più di tanto., Capisco il tuo punto di vista. Tuttavia, è importante non sottovalutare l'ipertensione e continuare a monitorarla. Se hai dubbi o domande, il tuo medico è la persona giusta a cui rivolgerti.\\nNon mi faccio prendere dall'ansia per i valori della mia pressione., È un buon approccio, ma tieni presente che la pressione è un valore che può fluttuare. È utile tenerla controllata e parlare con il medico se hai qualsiasi preoccupazione o riscontri valori anomali.\\nHo accettato la mia ipertensione e non mi sento stressato., Ottimo! L'accettazione è un passo importante. Nonostante ciò, continua a monitorare la tua pressione e a parlare con il tuo medico per qualsiasi chiarimento o necessità.\\nLe mie ultime misurazioni non mi rendono tranquillo., Comprendo la tua preoccupazione. Per poterti aiutare al meglio, avrei bisogno che tu mi fornissi i valori della tua pressione sistolica e diastolica degli ultimi sette giorni. Ti consiglio inoltre di continuare a misurare la pressione ogni 72 ore.\\nSono un po' agitato per i miei recenti valori pressori., Capisco la tua agitazione. Per valutare correttamente la situazione, ti prego di condividere con me i dati relativi alle tue misurazioni pressorie dell'ultima settimana, sia sistolica che diastolica. Inoltre, ti suggerisco di proseguire con le misurazioni ogni 72 ore circa.\\nNon mi sento affatto sicuro con questi dati pressori., Capisco il tuo stato d'animo. Per poter analizzare meglio la situazione, ti chiederei di condividere con me i valori della tua pressione sistolica e diastolica dell'ultima settimana. Ricorda, inoltre, di effettuare misurazioni regolari ogni 72 ore.\\nSono preoccupato perché la mia pressione non è stabile come vorrei., Per aiutarti nel modo migliore possibile, avrei bisogno di conoscere i valori delle tue misurazioni della pressione sistolica e diastolica dell'ultima settimana.  Inoltre, ti suggerisco di misurare la pressione ogni 72 ore per avere un quadro completo.\\nLe misurazioni della pressione mi destano qualche timore., Comprendo la tua preoccupazione. Per poterti fornire un supporto adeguato, ho bisogno che tu mi fornisca i valori della pressione sistolica e diastolica che hai misurato negli ultimi sette giorni. Ricorda di continuare le misurazioni ogni 72 ore.\\nMi sento stanco dopo una camminata, è normale?, Non sono un medico e non posso dare consigli medici. Ti suggerisco di parlarne con il tuo medico curante per valutare la tua situazione.\\nHo notato un po' di difficoltà a respirare dopo aver fatto le scale, cosa devo fare?, Non posso fornirti indicazioni mediche specifiche. È meglio consultare il tuo medico di base per un parere professionale.\\nMi gira la testa dopo aver fatto una leggera attività fisica, è preoccupante?, Non sono qualificato per dare consigli medici. Ti consiglio vivamente di discuterne con il tuo medico per un controllo.\\nDopo una passeggiata, sento il cuore battere forte, dovrei fare degli accertamenti?, Non sono abilitato a dare pareri medici. Ti suggerisco di rivolgerti al tuo medico di famiglia per valutare la tua condizione.\\nHo avuto un piccolo dolore al petto dopo una corsa leggera, devo allarmarmi?, Non sono un medico e non posso aiutarti con questioni mediche. Ti consiglio di contattare il tuo medico di fiducia per maggiori chiarimenti.\\nVorrei fornirti i dati del mio ultimo controllo della pressione., Assolutamente, sono pronto a registrarli!\\nPosso condividere con te le mie misurazioni pressorie?, Certo, non esitare a fornirmi i tuoi valori.\\nHo annotato la mia pressione, dove posso inserirla?, Puoi fornirmi i dati ora, li registrerò immediatamente.\\nDesidero caricare le informazioni relative alla mia pressione sanguigna., Benissimo, sono a tua disposizione per accogliere i tuoi dati.\\nHo i valori della mia pressione pronti per essere registrati., Perfetto, puoi comunicarli quando vuoi.\\nCiao assistente, sono un po' preoccupato per la mia ipertensione, hai qualche consiglio?, Ciao! Per gestire al meglio la tua ipertensione, ti suggerisco di monitorare regolarmente la pressione e di discuterne con il tuo medico per valutare l'efficacia della terapia.\\nAssistente, vorrei qualche consiglio pratico per tenere sotto controllo la mia ipertensione., Certamente! Ti consiglio di misurare la pressione in diversi momenti della giornata e di prendere nota dei valori. Poi, confrontati con il tuo medico per vedere se sono necessari aggiustamenti alla terapia.\\nBuongiorno assistente, mi serve un consiglio per capire come gestire al meglio la mia ipertensione., Buongiorno! Un consiglio utile è quello di tenere un diario delle misurazioni della pressione, così potrai notare eventuali variazioni nel tempo e parlarne con il tuo medico curante.\\nCiao, assistente, ho bisogno di un tuo parere su come posso migliorare la gestione della mia ipertensione., Ciao! Ti consiglio di seguire attentamente le indicazioni del tuo medico riguardo la terapia e di misurare la pressione con regolarità. Condividi i risultati delle tue misurazioni con lui durante le visite.\\nAssistente, mi puoi dare una dritta su come posso monitorare la mia ipertensione?, Certo! Ti suggerisco di eseguire delle misurazioni della pressione a casa, in condizioni di riposo, e di annotare i valori riscontrati in un registro. In questo modo avrai un quadro completo da mostrare al tuo medico.\\nHo letto che il cioccolato può avere un impatto sulla pressione, è vero?, Il cioccolato fondente, in piccole quantità, può avere un leggero effetto ipotensivo. Tuttavia, è importante considerare anche il contenuto di zuccheri e grassi, che possono avere effetti negativi sulla salute se consumato in eccesso.\\nL'alcol può influenzare la mia pressione sanguigna?, Sì, l'alcol può avere effetti complessi sulla pressione sanguigna. Inizialmente può causare un abbassamento temporaneo, ma un consumo eccessivo e regolare nel tempo è associato all'aumento della pressione e al rischio di ipertensione.\\nHo sentito parlare di tè verde e ipertensione, cosa puoi dirmi?, Il tè verde contiene antiossidanti che possono avere benefici cardiovascolari, alcuni studi suggeriscono un leggero effetto ipotensivo. Tuttavia, la ricerca è ancora in corso e l'effetto può variare da persona a persona.\\nLe bevande energetiche possono influire sulla mia ipertensione?, Sì, le bevande energetiche contengono spesso elevate quantità di caffeina e altri stimolanti che possono aumentare la pressione sanguigna e la frequenza cardiaca, è quindi importante consumarle con moderazione, soprattutto se si soffre di ipertensione.\\nCome posso gestire l'ipertensione con le mie abitudini alimentari?, L'ipertensione può essere gestita tramite una dieta sana, prediligendo alimenti con basso contenuto di sale, ricchi di frutta e verdura, e limitando i grassi saturi. In particolare, la dieta DASH (Dietary Approaches to Stop Hypertension) è stata studiata per questo scopo.\\nHo notato che da quando ho cambiato alimentazione ho meno gonfiore., È un risultato positivo, infatti una dieta equilibrata può ridurre il gonfiore addominale.\\nMi sembra di avere più energia da quando mangio in modo diverso., Ottimo! Una dieta bilanciata può influenzare positivamente i livelli di energia.\\nMi sento molto meglio da quando ho cambiato la mia dieta., Sono contento di sentire questo, una sana alimentazione apporta benefici a tutto l'organismo.\\nLa mia digestione è migliorata molto grazie alla nuova dieta., Questo è un effetto comune di una dieta più ricca di fibre e meno elaborata.\\nNon ho più avuto mal di testa dopo aver modificato la mia dieta., Questo potrebbe essere collegato alla tua nuova dieta, infatti alcuni alimenti possono essere causa di mal di testa.\\nMi sento abbastanza tranquillo riguardo alla mia pressione sanguigna., Ottimo! Ricorda di tenere monitorata la tua pressione regolarmente, almeno ogni tre giorni.\\nNon sono particolarmente preoccupato per la mia ipertensione., Capisco, però è importante non trascurare il monitoraggio della pressione. Continua a misurarla periodicamente.\\nSono sereno per quanto riguarda i miei valori pressori., Sono felice di sentirlo! Non dimenticare però di effettuare misurazioni della pressione con una cadenza di almeno 72 ore.\\nHo un atteggiamento rilassato verso la mia ipertensione., Bene! Ti consiglio di non abbassare la guardia e di misurare la pressione con una certa regolarità, almeno ogni 72 ore.\\nNon ho particolari ansie per la mia pressione alta., Sono contento che tu sia così tranquillo.  Ti raccomando comunque di proseguire con le misurazioni della pressione ogni 3 giorni.\\nCiao, assistente, tutto bene?, Sì, tutto bene, grazie per aver chiesto!\\nCome ti senti oggi, assistente?, Oggi mi sento bene, grazie.\\nCiao, spero tu stia bene!, Ciao, sto bene, grazie! Spero anche tu.\\nTutto a posto, assistente?, Sì, tutto a posto, grazie per l'interessamento.\\nAssistente, come procede?, Tutto procede bene, grazie per averlo chiesto.\\nL'ipertensione può causare problemi al cuore?, Sì, l'ipertensione prolungata e non trattata può danneggiare il cuore, aumentando il rischio di infarto e scompenso cardiaco.\\nQuali sono le complicazioni dell'ipertensione a lungo termine?, A lungo termine, l'ipertensione non controllata può portare a problemi come danni renali, cecità e ictus.\\nL'alta pressione può danneggiare i miei reni?, Sì, l'ipertensione può danneggiare i piccoli vasi sanguigni nei reni, portando a insufficienza renale cronica.\\nC'è una correlazione tra ipertensione e ictus?, Assolutamente, l'ipertensione è uno dei principali fattori di rischio per l'ictus, sia ischemico che emorragico.\\nL'ipertensione aumenta il rischio di fibrillazione atriale?, Sì, l'ipertensione può causare modifiche strutturali al cuore che aumentano il rischio di sviluppare la fibrillazione atriale.\\nHo misurato la pressione stamattina ed era un po' più alta del solito., Capisco, è importante monitorare la pressione nel tempo. Ti consiglio di effettuare altre misurazioni nei prossimi giorni per avere un quadro più completo.\\nLa pressione di oggi è risultata superiore alla media., La pressione può fluttuare, è normale che a volte si discosti dalla media. Ripeti le misurazioni nei prossimi giorni e annota i valori.\\nMi sono accorto che la mia pressione è alta da un paio di giorni., Ok, per una valutazione accurata è consigliabile monitorare la pressione per un periodo più lungo.  Continua a misurarla nei prossimi giorni, possibilmente sempre alla stessa ora, e se i valori rimangono alti consulta il tuo medico.\\nStamattina ho preso la pressione ed era sopra i valori che ho di solito., La pressione è un valore che può variare. Ti suggerisco di controllare di nuovo la pressione nei prossimi giorni e di confrontare i valori per capire se c'è una tendenza.\\nI valori della mia pressione di questa mattina erano leggermente elevati., Non preoccuparti eccessivamente, la pressione può subire delle variazioni nel corso della giornata. Continua a misurare la pressione nei prossimi giorni e se noti valori costantemente alti parlane con il tuo medico.\\nSpero di poterti parlare presto, assistente!, Certamente, a presto!\\nGrazie ancora per il tuo aiuto, ci sentiamo alla prossima!, È stato un piacere aiutarti, a presto!\\nCi aggiorniamo presto, spero tu possa aiutarmi ancora con la mia ipertensione!, A tua completa disposizione, ci sentiamo presto!\\nTi saluto, assistente! A presto con nuove misurazioni!, A presto, sono qui quando hai bisogno!\\nGrazie mille, ci sentiamo alla prossima! Spero che tu possa continuare a monitorare la mia pressione., Arrivederci, e non esitare a contattarmi!\\nPosso annotare la mia pressione sanguigna serale?, Certamente, procedi pure con l'inserimento!\\nVorrei aggiornare i miei dati sulla frequenza cardiaca., Assolutamente, sono pronto a registrarli.\\nPosso salvare la mia misurazione della pressione di ieri?, Sì, certo! Sono qui per aiutarti a tenere traccia.\\nHo misurato la mia frequenza cardiaca questa mattina, posso inserirla?, Assolutamente sì, inseriscila pure quando vuoi.\\nVorrei aggiungere i dati della mia pressione di oggi pomeriggio., Nessun problema, puoi registrarli subito.\\nSe la mia pressione sanguigna è alta, quali organi potrebbero essere maggiormente a rischio?, L'ipertensione può danneggiare nel tempo organi come il cuore, i reni, il cervello e i vasi sanguigni. È importante tenerla sotto controllo per prevenire complicazioni.\\nCosa devo fare se temo di avere le conseguenze dell'ipertensione?, Se temi di avere complicanze dell'ipertensione, è importante parlarne con il tuo medico che saprà darti le migliori indicazioni. Il controllo della pressione è essenziale.\\nL'ipertensione può causare problemi a lungo termine?, Si, l'ipertensione non controllata a lungo termine può aumentare il rischio di malattie cardiovascolari, problemi renali e altre patologie. La gestione della pressione è importante.\\nQuali sono le complicazioni più comuni legate alla pressione alta?, Le complicazioni più comuni includono ictus, infarto, problemi ai reni e insufficienza cardiaca. La prevenzione e la gestione della pressione sono fondamentali.\\nL'ipertensione può influenzare la mia qualità di vita?, Sì, l'ipertensione non controllata può ridurre la qualità della vita a causa delle complicanze cardiovascolari e renali che può causare. La gestione adeguata è essenziale.\\nOgni tanto mangio schifezze., Capisco, è importante però limitare il consumo di cibi poco salutari per la tua salute cardiovascolare.\\nNon riesco a fare a meno dei cibi grassi., I cibi grassi possono contribuire all'aumento del colesterolo, che è un fattore di rischio per l'ipertensione, quindi ti consiglio di limitarne il consumo.\\nA volte mi concedo un pasto abbondante., Occasionalmente concedersi un pasto abbondante non è un problema, ma è importante non farlo diventare un'abitudine per non compromettere la tua salute.\\nAmo molto il cibo spazzatura., Il cibo spazzatura è spesso ricco di sale e grassi, che possono essere dannosi per la pressione arteriosa e la salute in generale. Ti consiglio di consumarlo con molta moderazione.\\nNon riesco a rinunciare ai fritti., I fritti sono molto ricchi di grassi saturi, che possono aumentare il rischio di malattie cardiovascolari. Ti suggerisco di limitare il loro consumo.\\nVorrei capire meglio come prepararsi per una misurazione della pressione a casa., Certamente, per una misurazione accurata a casa, è importante seguire alcune indicazioni: siediti in una posizione comoda con la schiena appoggiata, evita di bere caffè o fumare nei 30 minuti precedenti, e assicurati che il braccio sia rilassato e all'altezza del cuore.\\nEsistono degli accorgimenti particolari per la misurazione della pressione in farmacia?, Sì, anche in farmacia è bene seguire alcune linee guida. Chiedi al farmacista di aiutarti a trovare la posizione corretta, rilassa il braccio e non parlare durante la misurazione. Assicurati che il bracciale sia della misura giusta per il tuo braccio.\\nCosa devo fare se la mia pressione è molto diversa tra il braccio destro e quello sinistro?, È normale che ci siano delle piccole differenze, ma se la discrepanza è elevata, usa il braccio dove la pressione è più alta per le misurazioni successive. Parlane con il tuo medico, potrebbe esserci una condizione specifica da valutare.\\nPosso usare un misuratore di pressione da polso o è meglio quello da braccio?, I misuratori di pressione da braccio sono generalmente più accurati per la misurazione domestica. Se usi quello da polso assicurati che il polso sia all'altezza del cuore durante la misurazione per ottenere risultati affidabili.\\nCi sono dei momenti della giornata migliori per misurare la pressione?, Sì, è consigliabile misurare la pressione al mattino e alla sera, preferibilmente prima di assumere farmaci e lontano dai pasti. Cerca di mantenere sempre lo stesso orario per tenere traccia dell'andamento.\\nQual è il legame tra ipertensione e malattie renali?, L'ipertensione può danneggiare i vasi sanguigni dei reni, portando a insufficienza renale. Allo stesso tempo, problemi renali possono causare ipertensione.\\nCome posso sapere se il mio stile di vita sta influenzando la mia pressione?, Un aumento della pressione sanguigna può essere correlato a cattive abitudini come alimentazione scorretta, sedentarietà, consumo eccessivo di alcol e fumo. Monitorare attentamente questi fattori può darti un'indicazione chiara.\\nEsiste una correlazione tra stress e pressione alta?, Sì, lo stress può aumentare temporaneamente la pressione sanguigna, quindi una gestione dello stress è molto importante per i pazienti ipertesi.\\nL'ipertensione può causare problemi alla vista?, Sì, l'ipertensione cronica può danneggiare i vasi sanguigni nella retina, causando problemi alla vista a lungo termine. \\nQuali sono i cibi che possono aiutarmi a controllare la pressione alta?, Una dieta ricca di frutta, verdura, cereali integrali e povera di grassi saturi può aiutarti a mantenere la pressione sanguigna sotto controllo.\\nHo ricevuto i risultati delle analisi del sangue e un valore è sballato., Mi dispiace, non sono qualificato per interpretare i risultati delle tue analisi.\\nI miei esami del sangue mostrano un parametro non nella norma., Comprendo la tua preoccupazione, tuttavia non ho le competenze mediche per aiutarti a riguardo.\\nC'è un valore anomalo nel mio ultimo esame del sangue., Capisco, ma ti consiglio di rivolgerti al tuo medico di fiducia per un parere professionale.\\nUn valore dei miei esami del sangue non mi convince., Purtroppo non posso aiutarti ad interpretare i tuoi esami del sangue, parlane con il tuo medico.\\nLe analisi del sangue che ho fatto hanno un valore che non rientra nei parametri., Non essendo un medico non posso fornirti interpretazioni sui tuoi valori.\\nQuali sono i primi segni dell'ipertensione?, Spesso non ci sono sintomi evidenti nelle prime fasi dell'ipertensione, ma è importante controllare regolarmente la pressione.\\nCome posso capire se ho la pressione alta?, L'unico modo per sapere con certezza se hai la pressione alta è misurarla regolarmente con un misuratore di pressione.\\nL'ipertensione causa sempre dei sintomi?, No, molte persone con ipertensione non avvertono alcun sintomo, per questo è importante fare controlli periodici.\\nSe ho mal di testa, può essere colpa dell'ipertensione?, Il mal di testa può essere un sintomo di ipertensione, ma non è specifico e può dipendere da altri fattori. È bene consultare il medico per accertamenti.\\nIl mio naso sanguina spesso, può essere legato alla pressione alta?, Sanguinare dal naso può essere un sintomo di ipertensione, ma è importante parlarne con il medico per un controllo.\\nMi sento tranquillo riguardo alla mia pressione sanguigna., Ottimo! È importante mantenere la calma, ma non dimenticare di monitorare la tua pressione regolarmente.\\nNon sono affatto preoccupato per la mia ipertensione., Capisco, è positivo avere un atteggiamento sereno. Ricorda però di non trascurare il monitoraggio della pressione.\\nLa mia pressione alta non mi agita per niente., Bene, l'atteggiamento positivo aiuta. Tuttavia, ti ricordo di tenere sotto controllo i tuoi valori pressori.\\nSono sereno rispetto alla mia condizione di ipertensione., Sono contento di sentirti così! Continua con il monitoraggio periodico della pressione.\\nHo accettato la mia ipertensione e non mi preoccupo troppo., Sono felice di sapere che hai raggiunto questa serenità. Ti suggerisco comunque di proseguire con le misurazioni con la consueta frequenza.\\nHo la sensazione che il mio cuore batta troppo velocemente., Una frequenza cardiaca elevata può essere causata da diversi fattori. È importante che tu ne discuta con il tuo medico per una valutazione accurata.\\nMi sento strano, ho il cuore in gola., Le palpitazioni possono essere fastidiose. Ti suggerisco di consultare il tuo medico per capire meglio le cause e ricevere consigli appropriati.\\nLa mia frequenza cardiaca è un po' irregolare, mi sento debole., Le irregolarità nella frequenza cardiaca possono essere motivo di preoccupazione. Ti raccomando di parlare con il tuo medico di base per capire meglio la situazione.\\nHo la tachicardia, cosa devo fare?, La tachicardia è un aumento della frequenza cardiaca. Ti consiglio di parlarne con il tuo medico di fiducia per una diagnosi e trattamento appropriati.\\nLa mia frequenza cardiaca è anomala, non mi sento bene., Una frequenza cardiaca anomala può indicare diverse condizioni. Ti suggerisco di contattare il tuo medico di famiglia per un controllo.\\nLa mia pressione a volte è un po' sballata, non credo sia un problema., Infatti, la pressione arteriosa fluttua durante il giorno. È importante monitorarla regolarmente per avere un quadro generale.\\nNon mi preoccupo molto per le mie misurazioni della pressione, capita a tutti di averla alta ogni tanto., Capisco, tuttavia è fondamentale tenere sotto controllo i valori della pressione nel tempo per prevenire possibili complicanze.\\nHo notato che la mia pressione sanguigna non è sempre uguale, ma non mi sembra un motivo per allarmarsi., È corretto, la pressione non è statica, può variare in base a diversi fattori. Ti consiglio però di monitorare le tue misurazioni per avere un quadro più preciso.\\nA volte ho picchi di pressione alta, ma penso sia normale dato che sono un po' stressato., Lo stress può influenzare la pressione, ma è bene tenere d'occhio queste variazioni e discuterne con il tuo medico.\\nNon misuro spesso la pressione, ma quando lo faccio a volte è un po' elevata, non ci faccio caso., Comprendo, tuttavia misurare la pressione in modo regolare è utile per capire se ci sono dei cambiamenti rispetto alle misurazioni precedenti.\\nHo notato che mi manca spesso il fiato, potrebbe essere collegato alla pressione alta?, La mancanza di fiato non è un sintomo tipico dell'ipertensione, tuttavia è importante escludere che non vi sia un danno cardiaco correlato alla stessa.\\nSe la mia pressione alta non è controllata, posso avere problemi ai polmoni?, L'ipertensione non controllata può portare a problemi cardiovascolari, tuttavia non vi è una diretta correlazione con i polmoni.\\nMi sento spesso affaticato e con il respiro corto, è colpa della mia ipertensione?, L'affaticamento e il respiro corto possono avere diverse cause, l'ipertensione non è una causa frequente. Tuttavia è importante parlarne con il tuo medico di medicina generale.\\nQuando faccio le scale mi affanno subito, è legato alla pressione alta?, L'affanno da sforzo è un sintomo aspecifico che può avere diverse cause. E' importante monitorare la pressione nel lungo termine ed escludere altre patologie.\\nHo letto che la pressione alta può causare problemi respiratori durante la notte, è vero?, L'ipertensione non è direttamente correlata con problemi respiratori notturni, tuttavia è possibile che alcune patologie associate all'ipertensione, come lo scompenso cardiaco, possano causare disturbi del sonno.\\nSono tranquillo riguardo alla mia pressione alta., È positivo che tu sia tranquillo, ma ti ricordo che è fondamentale monitorare regolarmente la pressione, soprattutto se stai seguendo una terapia. Consulta il tuo medico per eventuali aggiustamenti.\\nNon mi preoccupo affatto della mia ipertensione., Capisco che tu non sia preoccupato, tuttavia è importante tenere sotto controllo la pressione nel tempo, soprattutto se hai una terapia farmacologica. È consigliabile farti visitare periodicamente dal tuo medico curante.\\nLa mia pressione alta non mi fa nessun effetto., Anche se la pressione alta non ti sembra avere effetti, è importante ricordare che può comunque rappresentare un rischio nel lungo termine. È fondamentale che tu ti sottoponga a controlli periodici dal tuo medico.\\nHo accettato la mia ipertensione., Accettare la situazione è un passo importante, tuttavia è fondamentale non sottovalutarla. Continua a monitorare la tua pressione regolarmente e consulta il tuo medico per eventuali aggiornamenti della terapia.\\nNon sento alcun fastidio a causa della mia pressione alta., Il fatto che tu non senta fastidi non significa che la pressione sia sotto controllo. È sempre importante monitorarla con regolarità e consultare il medico per valutare la terapia.\\nCosa posso fare per monitorare la mia pressione sanguigna a casa?, Puoi misurare la pressione a casa utilizzando un misuratore di pressione validato, seguendo le raccomandazioni per una corretta misurazione e tenendo un registro delle tue misurazioni.\\nEsistono degli integratori alimentari che possono aiutare a controllare la pressione alta?, Alcuni studi suggeriscono che alcuni integratori possono supportare il controllo della pressione, ma è importante parlarne con il tuo medico prima di iniziare qualsiasi supplementazione, perche possono esserci interazioni con i farmaci assunti\\nSe la mia pressione è instabile devo preoccuparmi?, La pressione può variare nel corso della giornata. Tuttavia, se le variazioni sono significative o se hai altri sintomi, ti suggerisco di parlarne con il tuo medico per una valutazione più accurata.\\nQuali sono i primi passi da fare dopo una diagnosi di ipertensione?, I primi passi includono adottare uno stile di vita sano, che include una dieta equilibrata, attività fisica regolare, e, se necessario, seguire la terapia farmacologica prescritta dal medico.\\nCome posso capire se la mia terapia per l'ipertensione sta funzionando?, Il modo migliore per capire se la terapia sta funzionando è monitorare regolarmente la pressione a casa e confrontare i valori con quelli raccomandati dal tuo medico. Se hai dubbi, è sempre meglio consultarlo.\\nPosso condividere con te la mia ultima misurazione della pressione?, Assolutamente, sono pronto ad ascoltarti.\\nHo appena controllato la mia frequenza cardiaca, vorrei annotarla., Perfetto, procedi pure con l'inserimento.\\nVolevo aggiornarti sulla mia ultima frequenza., Certo, non esitare a comunicarmela!\\nHo appena misurato la mia frequenza, ti va di salvarla?, Volentieri, fammela sapere.\\nMi piacerebbe registrare l'ultima rilevazione della mia frequenza., Ottimo, puoi dirmela quando vuoi.\\nHo paura che la mia pressione non sia ben controllata., E' comprensibile avere timori riguardo alla propria pressione. Ti consiglio di misurarla regolarmente e di discutere i valori con il tuo medico, che potrà valutare se la terapia attuale è sufficiente o necessita di modifiche.\\nCosa posso fare per ridurre la mia ansia riguardo all'ipertensione?, L'ansia legata alla pressione alta è comune. Potrebbe esserti utile praticare tecniche di rilassamento, come la meditazione o la respirazione profonda. Parlare con il tuo medico o uno specialista può anche aiutarti a gestire le tue preoccupazioni.\\nMi sento a disagio quando misuro la pressione, è normale?, Sentire un po' di disagio durante la misurazione della pressione è normale, specialmente se si è ansiosi. Prova a rilassarti e a respirare profondamente durante la procedura. Se il disagio persiste, parlane con il tuo medico, potrebbe darti consigli utili.\\nE' possibile che la mia pressione sia alta a causa dello stress?, Sì, lo stress può influenzare la pressione arteriosa. Quando siamo stressati, il nostro corpo rilascia ormoni che possono far aumentare la pressione. Cerca di identificare e gestire le fonti di stress nella tua vita e se il problema persiste parlane con il tuo medico.\\nHo paura che l'ipertensione mi impedisca di fare attività fisica, L'attività fisica è importante anche per chi ha l'ipertensione, anzi, un regolare esercizio fisico può aiutare a tenere sotto controllo i valori pressori. Parla con il tuo medico che saprà consigliarti il tipo di attività più adatta a te.\\nPosso caricare i dati della mia pressione di ieri sera?, Certamente, puoi farlo ora.\\nVorrei inserire la mia misurazione della pressione di stamattina., Assolutamente, procedi pure.\\nE' possibile aggiungere i valori della mia pressione del mese scorso?, Certo, non esitare a fornirmeli.\\nHo misurato la pressione ora, posso registrarla?, Sì, puoi inserirla quando vuoi.\\nPotrei importare i dati della mia pressione di una settimana fa?, Sì, sono pronto a riceverli.\\nHo un po' paura per la mia ipertensione., Capisco la tua preoccupazione, ma è importante ricordare che l'ipertensione è gestibile. Continua a monitorare la tua pressione e parlane con il tuo medico se hai bisogno di supporto.\\nMi sento ansioso per la mia ipertensione., È comprensibile sentirsi ansiosi, ma l'ansia può influenzare negativamente la pressione sanguigna. Cerca di rilassarti e consulta il tuo medico per un piano di gestione.\\nSono in agitazione a causa della mia pressione alta., È normale sentirsi in agitazione a volte, ma è importante gestire lo stress. La pressione sanguigna può variare. Segui le indicazioni del tuo medico per una migliore gestione della tua condizione.\\nMi preoccupo molto per la mia ipertensione., Comprendo la tua preoccupazione, ma ricorda che monitorare regolarmente la pressione e seguire il piano terapeutico sono passi importanti. Se ti senti particolarmente preoccupato, discutili con il tuo medico curante.\\nL'idea di avere l'ipertensione mi mette a disagio., È naturale sentirsi a disagio, ma cerca di rimanere positivo. L'ipertensione si può gestire con un approccio terapeutico multidisciplinare. Parla con il tuo medico di fiducia per sviluppare una strategia.\\nMi sento molto ansioso per la mia pressione alta., Capisco la tua ansia, ma è importante sapere che la pressione sanguigna può fluttuare. Tieni traccia delle tue misurazioni e discuti le tue preoccupazioni con il tuo medico.\\nLa mia pressione alta mi sta facendo sentire molto frustrato., È comprensibile sentirsi frustrati, ma non lasciare che la pressione alta ti controlli. Ci sono modi per gestirla, come seguire uno stile di vita sano e fare regolarmente controlli medici.\\nHo notato che mi agito facilmente quando penso alla mia ipertensione., È normale sentirsi agitati a volte, ma l'agitazione non fa bene alla pressione. Cerca di praticare tecniche di rilassamento e parlane con il tuo medico, se necessario.\\nMi preoccupa molto la mia ipertensione, mi fa sentire impotente., Non sentirti impotente, ci sono passi che puoi intraprendere per gestire la tua ipertensione. Parlane con il tuo medico, segui le sue indicazioni e adotta uno stile di vita sano.\\nSono esaurito dal dover tenere sotto controllo la mia pressione alta., Capisco la tua stanchezza, ma non mollare. La gestione della pressione alta richiede costanza e impegno, ma il tuo benessere ne vale la pena. Parla con il tuo medico se ti senti sopraffatto.\\nMi sento stanco e senza energia, cosa posso fare?, Non sono un medico e non posso darti consigli specifici, tuttavia misurare la pressione potrebbe essere utile. Se la massima è inferiore a 90 mmHg ti consiglio di consultare un medico.\\nHo le vertigini e mi sento debole, cosa dovrei fare?, Non posso fornire consulenze mediche, ma ti suggerisco di controllare la tua pressione sanguigna. Se la sistolica è pari o inferiore a 90 mmHg, contatta immediatamente un medico.\\nSono molto affaticato, c'è qualcosa che posso controllare?, Non sono un medico, perciò non posso dare consigli medici. Tuttavia, potresti misurare la tua pressione. Se la pressione massima è uguale o inferiore a 90 mmHg, ti raccomando di consultare un medico al più presto.\\nNon ho forze e mi sento molto giù, cosa mi suggerisci?, Non sono un medico e non posso fornirti indicazioni mediche, ma ti consiglio di monitorare la tua pressione sanguigna. Se la massima è minore di 90 mmHg, consulta immediatamente un professionista sanitario.\\nMi sento esausto e fiacco, cosa posso fare a casa?, Non sono un medico e non posso darti indicazioni specifiche. Tuttavia ti consiglio di misurare la pressione, se la massima è pari o minore di 90 mmHg è meglio se ti rivolgi subito al tuo medico curante.\\nQuali sono i cibi da evitare per tenere sotto controllo il mio peso?, Per tenere sotto controllo il peso, è importante limitare il consumo di alimenti trasformati, cibi fritti, bevande zuccherate, dolci e snack confezionati, che sono spesso ricchi di calorie, grassi saturi e zuccheri aggiunti.\\nCosa posso mangiare per aiutarmi a perdere peso?, Per perdere peso, è consigliabile consumare cibi ricchi di fibre come frutta, verdura, legumi e cereali integrali, proteine magre come pollo, pesce e legumi, e grassi sani come olio d'oliva e frutta secca.\\nL'attività fisica è importante per perdere peso?, Sì, l'attività fisica è molto importante per perdere peso. L'esercizio regolare aiuta a bruciare calorie, aumentare il metabolismo e migliorare la composizione corporea.\\nQuante volte al giorno devo mangiare per gestire il mio peso?, Per gestire il peso, è consigliabile fare pasti regolari, evitando di saltare i pasti e distribuendo l'assunzione di cibo durante la giornata. Potrebbe essere utile fare 3 pasti principali e 2 spuntini leggeri.\\nCome posso evitare di mangiare troppo?, Per evitare di mangiare troppo, è importante mangiare lentamente, essere consapevoli della fame e della sazietà, bere acqua durante i pasti e prestare attenzione alle dimensioni delle porzioni.\\nSono felice che la mia pressione sanguigna sia tornata normale., Ottimo! Continua a monitorarla regolarmente per mantenere questi valori.\\nMi sembra di aver gestito bene la mia ipertensione oggi., Sono contento di sentirtelo dire! Ricorda di controllare la pressione periodicamente.\\nLa mia pressione sanguigna è stabile, mi sento benissimo., Sono felice per te! Ti consiglio di proseguire con i controlli per assicurarti che rimanga tale.\\nOggi mi sento molto tranquillo e la pressione è buona., Bene, sono felice di questo! Ti ricordo di misurare la pressione ogni 3 giorni per monitorare la situazione.\\nTutto ok, la mia pressione sanguigna è sotto controllo., Perfetto! Ti suggerisco comunque di non interrompere le misurazioni e di continuare a monitorare la pressione.\\nSe un mio familiare ha l'ipertensione, rischio di svilupparla anch'io?, Avere un familiare iperteso aumenta il tuo rischio di sviluppare la stessa condizione. Ti consiglio di monitorare la tua pressione regolarmente e parlare con il tuo medico.\\nSe lavoro in un ambiente stressante, posso aumentare il mio rischio di ipertensione?, L'ambiente di lavoro stressante è uno dei fattori di rischio per l'ipertensione. Prova a ridurre lo stress con tecniche di rilassamento e parlane con il tuo medico.\\nSe non seguo una terapia per la mia ipertensione, cosa rischio?, Non seguire la terapia per l'ipertensione aumenta il rischio di malattie cardiovascolari. Segui sempre le indicazioni del tuo medico e prendi regolarmente le medicine.\\nSe il mio medico mi cambia la terapia per la pressione, devo fare qualcosa di particolare?, Quando il tuo medico modifica la terapia per la pressione è importante che tu segua con attenzione le nuove indicazioni e continui a misurare la pressione regolarmente.\\nSe sono molto giovane, posso avere comunque problemi di pressione alta?, Anche se l'ipertensione è più comune tra gli anziani, può colpire anche i giovani. Se hai valori alti della pressione, parlane con il tuo medico.\\nposso salvare i dati della mia pressione sanguigna del prossimo mese?, Certo, quando il mese prossimo misurerai la pressione, ricordati di scrivermi i valori così potrò salvarli.\\nVorrei registrare i valori della mia pressione che ho misurato tra sei mesi., Assolutamente, quando tra sei mesi avrai effettuato la misurazione, forniscimi i dati e li terrò in memoria.\\nPosso annotare le mie misurazioni della pressione sanguigna tra un anno?, Certamente, quando tra un anno effettuerai le misurazioni, non dimenticare di comunicarmi i valori, in modo che io possa registrarli.\\npotrei memorizzare le letture della mia pressione tra qualche settimana?, Sì, certo, tra qualche settimana quando avrai i valori delle misurazioni, scrivili qui così li potrò memorizzare.\\nse registro le misurazioni della pressione del prossimo mese, le tieni in memoria?, Sì, certamente! Il prossimo mese, quando misurerai la pressione, comunicami i valori e li memorizzerò.\\nQual è il tuo colore preferito?, Sono un chatbot progettato per fornire supporto nella gestione dell'ipertensione. La tua domanda non è correlata al mio ambito di competenza.\\nChe tempo farà domani?, Sono un chatbot progettato per fornire supporto nella gestione dell'ipertensione. La tua domanda non è correlata al mio ambito di competenza.\\nHai mai viaggiato all'estero?, Sono un chatbot progettato per fornire supporto nella gestione dell'ipertensione. La tua domanda non è correlata al mio ambito di competenza.\\nQual è il tuo libro preferito?, Sono un chatbot progettato per fornire supporto nella gestione dell'ipertensione. La tua domanda non è correlata al mio ambito di competenza.\\nQual è il tuo piatto preferito?, Sono un chatbot progettato per fornire supporto nella gestione dell'ipertensione. La tua domanda non è correlata al mio ambito di competenza.\\nCosa ne pensi della moda di oggi?, Sono un chatbot progettato per fornire supporto nella gestione dell'ipertensione. La tua domanda non è correlata al mio ambito di competenza.\\nQual è il tuo colore preferito?, Sono un chatbot progettato per fornire supporto nella gestione dell'ipertensione. La tua domanda non è correlata al mio ambito di competenza.\\nHai mai viaggiato all'estero?, Sono un chatbot progettato per fornire supporto nella gestione dell'ipertensione. La tua domanda non è correlata al mio ambito di competenza.\\nChe tempo fa oggi da te?, Sono un chatbot progettato per fornire supporto nella gestione dell'ipertensione. La tua domanda non è correlata al mio ambito di competenza.\\nQual è il tuo piatto preferito?, Sono un chatbot progettato per fornire supporto nella gestione dell'ipertensione. La tua domanda non è correlata al mio ambito di competenza.\\nHo spesso mal di testa, potrebbe essere legato alla pressione?, Sono un chatbot progettato per fornire supporto nella gestione dell'ipertensione. La tua domanda non è correlata al mio ambito di competenza.\\nMi sento molto stanco ultimamente, Sono un chatbot progettato per fornire supporto nella gestione dell'ipertensione. La tua domanda non è correlata al mio ambito di competenza.\\nChe tempo fa oggi?, Sono un chatbot progettato per fornire supporto nella gestione dell'ipertensione. La tua domanda non è correlata al mio ambito di competenza.\\nQual è il tuo colore preferito?, Sono un chatbot progettato per fornire supporto nella gestione dell'ipertensione. La tua domanda non è correlata al mio ambito di competenza.\\nHo difficoltà a dormire la notte., Sono un chatbot progettato per fornire supporto nella gestione dell'ipertensione. La tua domanda non è correlata al mio ambito di competenza.\\nQual è il tuo colore preferito?, Sono un chatbot progettato per fornire supporto nella gestione dell'ipertensione. La tua domanda non è correlata al mio ambito di competenza.\\nHai mai viaggiato all'estero?, Sono un chatbot progettato per fornire supporto nella gestione dell'ipertensione. La tua domanda non è correlata al mio ambito di competenza.\\nCosa ne pensi del cambiamento climatico?, Sono un chatbot progettato per fornire supporto nella gestione dell'ipertensione. La tua domanda non è correlata al mio ambito di competenza.\\nChe tipo di libri ti piace leggere?, Sono un chatbot progettato per fornire supporto nella gestione dell'ipertensione. La tua domanda non è correlata al mio ambito di competenza.\\nQual è il tuo piatto preferito?, Sono un chatbot progettato per fornire supporto nella gestione dell'ipertensione. La tua domanda non è correlata al mio ambito di competenza.\\nqual è il tuo libro preferito?, Sono un chatbot progettato per fornire supporto nella gestione dell'ipertensione. La tua domanda non è correlata al mio ambito di competenza.\\nhai mai viaggiato all'estero?, Sono un chatbot progettato per fornire supporto nella gestione dell'ipertensione. La tua domanda non è correlata al mio ambito di competenza.\\ncosa pensi dei gatti?, Sono un chatbot progettato per fornire supporto nella gestione dell'ipertensione. La tua domanda non è correlata al mio ambito di competenza.\\nqual è il tuo colore preferito?, Sono un chatbot progettato per fornire supporto nella gestione dell'ipertensione. La tua domanda non è correlata al mio ambito di competenza.\\nsei un essere umano?, Sono un chatbot progettato per fornire supporto nella gestione dell'ipertensione. La tua domanda non è correlata al mio ambito di competenza.\\ncosa posso fare per la mia ansia?, Sono un chatbot progettato per fornire supporto nella gestione dell'ipertensione. La tua domanda non è correlata al mio ambito di competenza.\\nho un dolore fortissimo al ginocchio, Sono un chatbot progettato per fornire supporto nella gestione dell'ipertensione. La tua domanda non è correlata al mio ambito di competenza.\\nqual è il tuo piatto preferito?, Sono un chatbot progettato per fornire supporto nella gestione dell'ipertensione. La tua domanda non è correlata al mio ambito di competenza.\\nquanto pesa una balena blu?, Sono un chatbot progettato per fornire supporto nella gestione dell'ipertensione. La tua domanda non è correlata al mio ambito di competenza.\\nmi puoi aiutare a fare un calcolo?, Sono un chatbot progettato per fornire supporto nella gestione dell'ipertensione. La tua domanda non è correlata al mio ambito di competenza.\\ncome il fumo può influenzare i miei valori di pressione?, Sono un chatbot progettato per fornire supporto nella gestione dell'ipertensione. La tua domanda non è correlata al mio ambito di competenza.\\ncome posso prevenire la demenza senile?, Sono un chatbot progettato per fornire supporto nella gestione dell'ipertensione. La tua domanda non è correlata al mio ambito di competenza.\\nche tipo di macchina hai?, Sono un chatbot progettato per fornire supporto nella gestione dell'ipertensione. La tua domanda non è correlata al mio ambito di competenza.\\nquale è la capitale della Francia?, Sono un chatbot progettato per fornire supporto nella gestione dell'ipertensione. La tua domanda non è correlata al mio ambito di competenza.\\nhai mai viaggiato all'estero?, Sono un chatbot progettato per fornire supporto nella gestione dell'ipertensione. La tua domanda non è correlata al mio ambito di competenza.\\nQual è il tuo libro preferito?, Sono un chatbot progettato per fornire supporto nella gestione dell'ipertensione. La tua domanda non è correlata al mio ambito di competenza.\\nHai mai viaggiato all'estero?, Sono un chatbot progettato per fornire supporto nella gestione dell'ipertensione. La tua domanda non è correlata al mio ambito di competenza.\\nQual è il tuo piatto preferito?, Sono un chatbot progettato per fornire supporto nella gestione dell'ipertensione. La tua domanda non è correlata al mio ambito di competenza.\\nQual è la tua stagione preferita?, Sono un chatbot progettato per fornire supporto nella gestione dell'ipertensione. La tua domanda non è correlata al mio ambito di competenza.\\nChe cosa ne pensi del calcio?, Sono un chatbot progettato per fornire supporto nella gestione dell'ipertensione. La tua domanda non è correlata al mio ambito di competenza.\\nOggi ho mangiato una pizza intera., Sono un chatbot progettato per fornire supporto nella gestione dell'ipertensione. La tua domanda non è correlata al mio ambito di competenza.\\nHo visto un bel film ieri sera., Sono un chatbot progettato per fornire supporto nella gestione dell'ipertensione. La tua domanda non è correlata al mio ambito di competenza.\\nHo appena finito una corsa di 10 km., Sono un chatbot progettato per fornire supporto nella gestione dell'ipertensione. La tua domanda non è correlata al mio ambito di competenza.\\nChe tempo fa oggi?, Sono un chatbot progettato per fornire supporto nella gestione dell'ipertensione. La tua domanda non è correlata al mio ambito di competenza.\\nQual è il tuo libro preferito?, Sono un chatbot progettato per fornire supporto nella gestione dell'ipertensione. La tua domanda non è correlata al mio ambito di competenza.\\nQual è il tuo libro preferito?, Sono un chatbot progettato per fornire supporto nella gestione dell'ipertensione. La tua domanda non è correlata al mio ambito di competenza.\\nQual è la tua stagione preferita?, Sono un chatbot progettato per fornire supporto nella gestione dell'ipertensione. La tua domanda non è correlata al mio ambito di competenza.\\nQual è il tuo piatto preferito?, Sono un chatbot progettato per fornire supporto nella gestione dell'ipertensione. La tua domanda non è correlata al mio ambito di competenza.\\nHai mai viaggiato?, Sono un chatbot progettato per fornire supporto nella gestione dell'ipertensione. La tua domanda non è correlata al mio ambito di competenza.\\nQual è il tuo animale preferito?, Sono un chatbot progettato per fornire supporto nella gestione dell'ipertensione. La tua domanda non è correlata al mio ambito di competenza.\\nHo difficoltà a dormire ultimamente., Sono un chatbot progettato per fornire supporto nella gestione dell'ipertensione. La tua domanda non è correlata al mio ambito di competenza.\\nMi sento molto stanco., Sono un chatbot progettato per fornire supporto nella gestione dell'ipertensione. La tua domanda non è correlata al mio ambito di competenza.\\nHo le vertigini da qualche giorno., Sono un chatbot progettato per fornire supporto nella gestione dell'ipertensione. La tua domanda non è correlata al mio ambito di competenza.\\nMi fa male la schiena., Sono un chatbot progettato per fornire supporto nella gestione dell'ipertensione. La tua domanda non è correlata al mio ambito di competenza.\\nMi sento molto ansioso., Sono un chatbot progettato per fornire supporto nella gestione dell'ipertensione. La tua domanda non è correlata al mio ambito di competenza.\\nQual è il tuo colore preferito?, Sono un chatbot progettato per fornire supporto nella gestione dell'ipertensione. La tua domanda non è correlata al mio ambito di competenza.\\nHai animali domestici?, Sono un chatbot progettato per fornire supporto nella gestione dell'ipertensione. La tua domanda non è correlata al mio ambito di competenza.\\nCosa pensi del tempo oggi?, Sono un chatbot progettato per fornire supporto nella gestione dell'ipertensione. La tua domanda non è correlata al mio ambito di competenza.\\nQual è il tuo piatto preferito?, Sono un chatbot progettato per fornire supporto nella gestione dell'ipertensione. La tua domanda non è correlata al mio ambito di competenza.\\nHai mai viaggiato all'estero?, Sono un chatbot progettato per fornire supporto nella gestione dell'ipertensione. La tua domanda non è correlata al mio ambito di competenza.\\nMi sento molto stanco ultimamente, potrebbe essere legato alla mia ipertensione?, Sono un chatbot progettato per fornire supporto nella gestione dell'ipertensione. La tua domanda non è correlata al mio ambito di competenza.\\nVorrei parlare del mio mal di schiena., Sono un chatbot progettato per fornire supporto nella gestione dell'ipertensione. La tua domanda non è correlata al mio ambito di competenza.\\nHo difficoltà a dormire la notte., Sono un chatbot progettato per fornire supporto nella gestione dell'ipertensione. La tua domanda non è correlata al mio ambito di competenza.\\nMi fa male un ginocchio da qualche giorno., Sono un chatbot progettato per fornire supporto nella gestione dell'ipertensione. La tua domanda non è correlata al mio ambito di competenza.\\nHo la febbre alta e mi sento debole., Sono un chatbot progettato per fornire supporto nella gestione dell'ipertensione. La tua domanda non è correlata al mio ambito di competenza.\\nQual è il miglior modo per prevenire l'ipertensione?, Sono un chatbot progettato per fornire supporto nella gestione dell'ipertensione. La tua domanda non è correlata al mio ambito di competenza.\\ncosa ne pensi della politica, Sono un chatbot progettato per fornire supporto nella gestione dell'ipertensione. La tua domanda non è correlata al mio ambito di competenza.\\nQuali sono i migliori esercizi per mantenermi in forma?, Sono un chatbot progettato per fornire supporto nella gestione dell'ipertensione. La tua domanda non è correlata al mio ambito di competenza.\\nQual è la tua opinione sulla pizza?, Sono un chatbot progettato per fornire supporto nella gestione dell'ipertensione. La tua domanda non è correlata al mio ambito di competenza.\\nche film hai visto recentemente?, Sono un chatbot progettato per fornire supporto nella gestione dell'ipertensione. La tua domanda non è correlata al mio ambito di competenza.\\nQual è il tuo libro preferito?, Sono un chatbot progettato per fornire supporto nella gestione dell'ipertensione. La tua domanda non è correlata al mio ambito di competenza.\\nQuali sono i tuoi hobby?, Sono un chatbot progettato per fornire supporto nella gestione dell'ipertensione. La tua domanda non è correlata al mio ambito di competenza.\\nhai mai visto un film horror?, Sono un chatbot progettato per fornire supporto nella gestione dell'ipertensione. La tua domanda non è correlata al mio ambito di competenza.\\nChe cosa ne pensi della cucina cinese?, Sono un chatbot progettato per fornire supporto nella gestione dell'ipertensione. La tua domanda non è correlata al mio ambito di competenza.\\nSei mai stato in vacanza?, Sono un chatbot progettato per fornire supporto nella gestione dell'ipertensione. La tua domanda non è correlata al mio ambito di competenza.\\nCome posso monitorare la mia pressione sanguigna a casa?, Per monitorare correttamente la pressione a casa, assicurati di utilizzare un misuratore validato, di seguire le istruzioni e di misurarla sempre alla stessa ora e nelle stesse condizioni.\\nQuali sono le complicanze dell'ipertensione non trattata?, L'ipertensione non trattata può portare a gravi complicanze come ictus, infarto, insufficienza renale e problemi alla vista.\\nCosa posso fare per abbassare la mia pressione alta in modo naturale?, Adottare una dieta sana, fare regolare esercizio fisico, ridurre lo stress e limitare il consumo di alcol e tabacco possono aiutarti ad abbassare la pressione in modo naturale.\\nLa mia pressione sanguigna è sempre diversa ogni volta che la misuro. È normale?, È normale che la pressione sanguigna fluttui durante la giornata. Tuttavia, se noti variazioni significative o valori costantemente alti, è importante consultare il tuo medico.\\nHo smesso di prendere le mie medicine per l'ipertensione, la mia pressione è stabile. Posso non prenderle più?, Non interrompere mai la terapia antipertensiva senza aver consultato il tuo medico. Anche se la pressione sembra stabile, l'ipertensione richiede un trattamento costante per prevenire complicazioni.\\ncome il sale può influenzare la mia pressione sanguigna?, Un eccessivo introito di sale con la dieta si associa allo sviluppo di ipertensione. E' buona norma quindi adottare una dieta a basso contenuto di sale\\nPosso inserire i dati della mia pressione sanguigna di questo mese?, Certamente!\\nQuali sono i fattori di rischio per l’ipertensione?, Tra i fattori di rischio modificabili vi sono le diete non salutari (consumo eccessivo di sale, dieta ricca di grassi, scarso apporto di frutta e verdura), l'inattività fisica, il consumo di tabacco e alcol, il sovrappeso o l'obesità. Esistono inoltre fattori di rischio ambientali tra cui l'inquinamento atmosferico. I fattori di rischio non modificabili includono una storia familiare di ipertensione, l'età superiore ai 65 anni e malattie coesistenti come il diabete o le malattie renali.\\ncome la razza può influenzare il mio rischio di malattie cardiache?, La razza è uno dei fattori che possono influenzare le malattie cardiache soprattutto la pressione. Ad esempio la razza nera si associa maggiormente ad ipertensione arteriosa rispetto alla razza bianca\\nSono un po’ preoccupato, la mia pressione sanguigna è stata instabile ultimamente., La pressione arteriosa è un parametro variabile, non è quasi mai costante. E' normale quindi che la pressione possa essere instabile. L'importante è che i valori medi nel lungo periodo siano ben controllati\\nArrivederci, assistente! Grazie per avermi aiutato a gestire la mia ipertensione oggi., A presto!\\nHo paura che la mia pressione alta possa causare problemi seri., L'ipertensione arteriosa è un fattore di rischio per lo sviluppo di patologie cardiovascolari tuttavia se ben controllata dalla terapia questo rischio si riduce.\\nposso aggiungere i dati della mia pressione sanguigna di questa mattina?, Certo!\\ncome l’esercizio fisico può aiutare a gestire il mio diabete?, L'attività fisica ha moltissimi benefici nei pazienti diabetici. Aiuta il nostro organismo ad utilizzare meglio l'insulina, aiuta a perdere peso migliorando il controllo glicemico e aiuta a tenere sotto controllo la pressione arteriosa, perché la pressione alta comporta un maggior rischio di complicazioni del diabete\\nil mio andamento medio è regolare?, Perché io possa darti un riscontro, ho bisogno di sapere quali sono le tue misurazioni dell'ultima settimana. Ti chiederi di condividermi quindi i valori di pressione sistolica e diastolica che hai acquisito e di continuare le misurazioni ogni almeno 72 ore.\\nho paura che la mia ipertensione possa causare problemi di memoria., l'ipertensione arteriosa aumenta il rischio di declino cognitivo per questo motivo è importante tenerla sotto controllo. Una pressione arteriosa entro i limiti di norma con la terapia riduce il rischio di sviluppare problemi di memoria\\nnon sono stressato per la mia pressione alta., Non c'è motivo di essere stressati riguardo ai prori valori pressori. La pressione è un parametro molto variabile per cui va valutata nel lungo termine soprattutto se si assumono terapie farmacologiche. Se ti senti molto stressato/a ti consiglio di parlarne con il tuo medico che apporterà eventuali modifiche terapeutiche se necessarie.\\nnon sono sereno date le mie ultime misurazioni, Perché io possa aiurtarti ho bisogno di sapere quali sono le tue misurazioni dell'ultima settimana. Ti chiederi di condividermi quindi i valori di pressione sistolica e diastolica che hai acquisito e di continuare le misurazioni ogni almeno 72 ore.\\nHo avuto un po’ di affanno dopo una breve passeggiata, dovrei preoccuparmi?, Non sono un medico e non posso consigliarti nulla in merito. Ti conviene discuterne con il tuo medico di medicina generale quanto prima.\\nvoglio inserirti i dati relativi alla mia pressione., Certamente, procedi pure!\\nciao, assistente! spero che tu possa darmi qualche suggerimento su come gestire la mia ipertensione., Ciao, il suggerimento che posso darti oggi è quello di misurare di tanto in tanto la pressione e mostrare al tuo medico i valori pressori in modo che lui/lei possa decidere come proseguire la tua terapia antipertensiva\\ncome il caffè può influenzare l’ipertensione?, Il caffè può aumentare in acuto la pressione soprattutto se bevuto in grandi quantità. Tuttavia i risultati di numerosi studi indicano che il consumo moderato e abituale di caffè non aumenta e può addirittura ridurre il rischio di sviluppare l'ipertensione arteriosa.\\nHo notato che sto dormendo meglio da quando ho iniziato la nuova dieta., Questo è possibile, infatti alcuni studi hanno dimostrato che alcune diete sono in grado di migliorare la qualità del sonno\\nSono molto pacifico riguardo alla mia ipertensione., Mi fa piacere! Tuttavia, ti suggerisco di continuare le misurazioni ogni almeno 72 ore.\\nCiao, come stai?, Bene grazie.\\nquali sono i rischi per la salute associati all’ipertensione?, L'ipertensione arteriosa è un fattore di rischio per lo sviluppo di patologie cardiovascolari come ictus cerebrale, infarto di cuore, scompenso cardiaco, fibrillazione atriale, insufficienza renale. Questo accade perchè la pressione alta dopo tanto tempo può danneggiare degli organi bersaglio come il cuore, il rene e i vasi.\\nLa mia pressione stamattina era alta, La pressione è un parametro molto variabile per cui va valutata nel lungo termine. Non è sufficiente un o più valori misurati in un breve intervallo di tempo per determinare la necessità di aggiungere o potenziare la terapia. Ti consiglio di ripetere le misurazioni nei prossimi giorni assicurandoti di eseguirle correttamente.\\na presto, assistente! spero che tu possa continuare ad aiutarmi a gestire la mia ipertensione., A presto!\\nposso registrare la mia frequenza cardiaca di oggi?, Ma certo!\\nQuali sono le possibili conseguenze associate all'ipertensione?, L'ipertensione arteriosa è un fattore di rischio per lo sviluppo di patologie cardiovascolari come ictus cerebrale, infarto di cuore, scompenso cardiaco, fibrillazione atriale, insufficienza renale. Questo accade perchè la pressione alta dopo tanto tempo può danneggiare degli organi bersaglio come il cuore, il rene e i vasi.\\nMi piace mangiare tanti dolci, Fai attenzione, i dolci sono spesso ricchi di calorie e di grassi animali che possono contribuire ad aumentare il tuo rischio cardiovascolare globale\\nQual è il miglior modo per effettuare una corretta misurazione delle pressione?, La pressione si misura con un misuratore di pressione al braccio, possibilmente validato, che puoi acquistare in farmacia o su internet. Durante tutta la misurazione della pressione e fino al completo sgonfiaggio del bracciale, è bene tenere presente le seguenti semplici raccomandazioni:\\n \\n Il paziente dovrebbe essere rilassato, seduto comodamente, con le gambe non incrociate, in ambiente tranquillo, con temperatura confortevole da almeno cinque minuti.\\n Non si dovrebbe assumere bevande contenenti caffeina nell’ora precedente, né aver fumato da almeno un quarto d’ora (anzi, non si dovrebbe fumare mai!).\\n Il paziente non dovrebbe parlare durante la registrazione.\\n Il braccio deve essere appoggiato ed il bracciale deve essere all’altezza del cuore (vedi figura). Non importa quale braccio venga usato per la misurazione, ma bisogna ricordare che esistono a volte differenze sensibili nei valori misurati nelle due braccia. In tali casi, si dovrà utilizzare per la misura il braccio con la pressione più elevata.\\n Le dimensioni del bracciale di gomma devono essere adattate alla dimensione del braccio del paziente. Nel caso di bambini o di adulti molto magri, è necessario utilizzare bracciali di dimensioni minori di quelle standard, mentre nel caso di persone molto robuste o di pazienti obesi, il bracciale dovrebbe avere una lunghezza e larghezza superiore, possibilmente di forma tronco-conica.\\ncome il colesterolo può influenzare l’ipertensione?, Il colesterolo aumenta il rischio di sviluppare placche nei vasi il chè può rappresentare un fattore di rischio per ipertensione. Spesso ipertensione e colesterolo alto sono presenti insieme e in questo caso aumentano il rischio di sviluppare malattie cardiovascolari\\nHo fatto le analisi del sangue e ho il valore X fuori range, Non sono un medico e non posso esprimermi a riguardo\\nquali sono i sintomi dell’ipertensione?, La maggior parte delle persone affette da ipertensione arteriosa non presenta alcun sintomo, anche se i valori della pressione sanguigna raggiungono livelli elevati. L'ipertensione può durare anni senza alcun sintomo. A alcune persone con pressione alta possono avere mal di testa, respiro corto, sangue dal naso. Tuttavia, questi sintomi non sono specifici.\\nSono molto calmo riguardo alla mia ipertensione., Mi fa piacere! Tuttavia, ti suggerisco di continuare le misurazioni ogni almeno 72 ore.\\nNon mi sento molto bene, la mia frequenza cardiaca è più alta del solito., Se ti senti poco bene ti consiglio di riferirlo al tuo Medico di Medicina Generale. Purtroppo la frequenza cardiaca non è un parametro molto affidabile per capire qual è la causa dei tuoi disturbi\\nHo qualche misura di pressione alta ogni tanto, ma immagino sia normale, Esatto! La pressione è un parametro molto variabile per cui va valutata nel lungo termine. Non è sufficiente un o più valori misurati in un breve intervallo di tempo per determinare la necessità di aggiungere o potenziare la terapia.\\nho paura che la mia ipertensione possa causare problemi di respirazione., solitamente l'ipertensione arteriosa sistemica non causa probemi di respirazione, in alcuni casi ciò accade quando vi è un danno strutturale al cuore.\\nnon ho paura della mia pressione alta., Non bisogna avere timore riguardo ai prori valori pressori. La pressione è un parametro molto variabile per cui va valutate nel lungo termine soprattutto se si assumono terapie farmacologiche. E' necessario essere visti periodicamente dal proprio medico che apporterà eventuali modifiche terapeutiche se necessarie.\\nCome l’ipertensione può influenzare la mia vita quotidiana?, L'ipertensione in se' non è una patologia ma un fattore di rischio che si gestisce con la terapia non farmacologica (cambiando dieta, aumentando l'attività fisica) e/o assumendo medicine. Queste attività possono sicuramente influenzare la vita quotidiana ma hanno l'obiettivo di farci vivere meglio e più a lungo.\\nvorrei registrare la mia ultima frequenza, Certamente dimmi pure!\\nSono molto preoccupato per i miei livelli di pressione sanguigna., Non bisogna avere timore riguardo ai prori valori pressori. La pressione è un parametro molto variabile per cui va valutate nel lungo termine soprattutto se si assumono terapie farmacologiche. E' necessario essere visti periodicamente dal proprio medico che apporterà eventuali modifiche terapeutiche se necessarie.\\nposso aggiungere i dati della mia pressione sanguigna del prossimo anno?, Certo, ricordati il prossimo anno di scrivermeli in modo che io possa registrarli\\nSono molto nervoso per la mia ipertensione., Non c'è motivo di essere nervosi riguardo ai prori valori pressori. La pressione è un parametro molto variabile per cui va valutata nel lungo termine soprattutto se si assumono terapie farmacologiche. Se ti senti molto stressato/a ti consiglio di parlarne con il tuo medico che apporterà eventuali modifiche terapeutiche se necessarie.\\nsono molto stressato a causa della mia pressione alta., Non c'è motivo di essere stressati riguardo ai prori valori pressori. La pressione è un parametro molto variabile per cui va valutata nel lungo termine soprattutto se si assumono terapie farmacologiche. Se ti senti molto stressato/a ti consiglio di parlarne con il tuo medico che apporterà eventuali modifiche terapeutiche se necessarie.\\nMi sento molto debole, cosa mi consigli?, Non sono un medico e non posso consigliarti nulla in merito. Può essere utile misurare la pressione, se la massima è minore o uguale a 90 mmHg consulta subito un medico.\\ncome una dieta sana può aiutare a gestire il mio peso?, Per perdere peso, è necessario ridurre le calorie totali assunte con cibi e bevande. Pertanto, mangiare almeno quattro porzioni di verdura e tre di frutta al giorno, consumare cereali integrali, come riso integrale, orzo, pane e pasta integrali e utilizzare grassi come l'olio d'oliva e limitare gli alimenti e le bevande con zuccheri aggiunti può aiutare a festire il peso corporeo\\nMi sento molto rilassato e la mia pressione sanguigna è ottima., Mi fa piacere! Tuttavia, ti suggerisco di continuare le misurazioni ogni almeno 72 ore.\\nSe ho un paziente iperteso, aumenta molto il mio rischio di sviluppare ipertensione?, Se hai un paziente già iperteso ha già la condizione, è semmai a rischio di sviluppare malattie cardiovascolari se non adeguatamente trattato\\nposso registrare i dati della mia frequenza cardiaca del prossimo anno?, Certo, quando l'anno prossimo misurerai la pressione ricordati di scrivermi i valori in modo che io li possa registrare\\nCome l’asma può influenzare la mia vita quotidiana?, Sono un chatbot progettato per fornire supporto nella gestione dell'ipertensione. La tua domanda non è correlata al mio ambito di competenza.\\nqual è il tuo periodo storico preferito?, Sono un chatbot progettato per fornire supporto nella gestione dell'ipertensione. La tua domanda non è correlata al mio ambito di competenza.\\nHo la pelle molto secca, Sono un chatbot progettato per fornire supporto nella gestione dell'ipertensione. La tua domanda non è correlata al mio ambito di competenza.\\nQual è il tuo compositore classico preferito?, Sono un chatbot progettato per fornire supporto nella gestione dell'ipertensione. La tua domanda non è correlata al mio ambito di competenza.\\nhai mai provato a fare paracadutismo?, Sono un chatbot progettato per fornire supporto nella gestione dell'ipertensione. La tua domanda non è correlata al mio ambito di competenza.\\ncome la genetica può influenzare il mio rischio di cancro?, Sono un chatbot progettato per fornire supporto nella gestione dell'ipertensione. La tua domanda non è correlata al mio ambito di competenza.\\nquali sono i fattori di rischio per l’osteoporosi?, Sono un chatbot progettato per fornire supporto nella gestione dell'ipertensione. La tua domanda non è correlata al mio ambito di competenza.\\nquale è la tua canzone preferita al momento?, Sono un chatbot progettato per fornire supporto nella gestione dell'ipertensione. La tua domanda non è correlata al mio ambito di competenza.\\nSono una persona sbadata, Sono un chatbot progettato per fornire supporto nella gestione dell'ipertensione. La tua domanda non è correlata al mio ambito di competenza.\\nQual è il tuo sport preferito?, Sono un chatbot progettato per fornire supporto nella gestione dell'ipertensione. La tua domanda non è correlata al mio ambito di competenza.\\nHo avuto problemi di udito., Sono un chatbot progettato per fornire supporto nella gestione dell'ipertensione. La tua domanda non è correlata al mio ambito di competenza.\\nQual è il tuo genere di film preferito?, Sono un chatbot progettato per fornire supporto nella gestione dell'ipertensione. La tua domanda non è correlata al mio ambito di competenza.\\nQuali sono i sintomi della depressione?, Sono un chatbot progettato per fornire supporto nella gestione dell'ipertensione. La tua domanda non è correlata al mio ambito di competenza.\\nCome si fa, Sono un chatbot progettato per fornire supporto nella gestione dell'ipertensione. La tua domanda non è correlata al mio ambito di competenza.\\nche tipo di musica ti piace ascoltare?, Sono un chatbot progettato per fornire supporto nella gestione dell'ipertensione. La tua domanda non è correlata al mio ambito di competenza.\\naddio, assistente! grazie per avermi fornito informazioni preziose sulla mia ipertensione., Sono un chatbot progettato per fornire supporto nella gestione dell'ipertensione. La tua domanda non è correlata al mio ambito di competenza.\", path=None, url=None, mimetype=None), image_resource=None, audio_resource=None, video_resource=None, text_template='{metadata_str}\\n\\n{content}'), Document(id_='d75b7b03-2925-4598-bf3b-c10ad12a2de7', embedding=None, metadata={'file_path': '/Users/aqilafarahmand/Desktop/experiments/experiments-2025-joms-rag/data/rag_dataset.pkl', 'file_name': 'rag_dataset.pkl', 'file_size': 0, 'creation_date': '2025-04-17', 'last_modified_date': '2025-04-17'}, excluded_embed_metadata_keys=['file_name', 'file_type', 'file_size', 'creation_date', 'last_modified_date', 'last_accessed_date'], excluded_llm_metadata_keys=['file_name', 'file_type', 'file_size', 'creation_date', 'last_modified_date', 'last_accessed_date'], relationships={}, metadata_template='{key}: {value}', metadata_separator='\\n', text_resource=MediaResource(embeddings=None, data=None, text='', path=None, url=None, mimetype=None), image_resource=None, audio_resource=None, video_resource=None, text_template='{metadata_str}\\n\\n{content}')]\n"
     ]
    }
   ],
   "execution_count": 19
  },
  {
   "cell_type": "code",
   "id": "9e63256a-69fd-4fd7-a2de-7b6af3f23e88",
   "metadata": {
    "tags": [],
    "ExecuteTime": {
     "end_time": "2025-04-17T15:33:43.514807Z",
     "start_time": "2025-04-17T15:33:43.454773Z"
    }
   },
   "source": [
    "from llama_index.llms.ollama import Ollama\n",
    "\n",
    "llama = Ollama(model=\"llama3.1\", request_timeout=120.0)"
   ],
   "outputs": [],
   "execution_count": 20
  },
  {
   "cell_type": "code",
   "id": "b872fbe1-a709-4ac5-bc57-3dc09638b459",
   "metadata": {
    "tags": [],
    "ExecuteTime": {
     "end_time": "2025-04-17T15:33:43.550044Z",
     "start_time": "2025-04-17T15:33:43.515365Z"
    }
   },
   "source": [
    "from llama_index.embeddings.ollama import OllamaEmbedding\n",
    "\n",
    "emb_ollama = OllamaEmbedding(model_name=\"nomic-embed-text\")"
   ],
   "outputs": [],
   "execution_count": 21
  },
  {
   "metadata": {},
   "cell_type": "markdown",
   "source": "## VECCHIO METODO DELLA LIBRERIA",
   "id": "f149f51e222a8fcd"
  },
  {
   "metadata": {
    "ExecuteTime": {
     "end_time": "2025-04-17T15:33:44.227783Z",
     "start_time": "2025-04-17T15:33:43.550569Z"
    }
   },
   "cell_type": "code",
   "source": "!pip install llama-index-llms-gemini",
   "id": "1ff3c6dadd97a8cc",
   "outputs": [
    {
     "name": "stdout",
     "output_type": "stream",
     "text": [
      "Requirement already satisfied: llama-index-llms-gemini in /Users/aqilafarahmand/Library/Caches/pypoetry/virtualenvs/experiments-2025-joms-rag-kQVmZs0C-py3.12/lib/python3.12/site-packages (0.4.14)\r\n",
      "Requirement already satisfied: google-generativeai>=0.5.2 in /Users/aqilafarahmand/Library/Caches/pypoetry/virtualenvs/experiments-2025-joms-rag-kQVmZs0C-py3.12/lib/python3.12/site-packages (from llama-index-llms-gemini) (0.8.5)\r\n",
      "Requirement already satisfied: llama-index-core<0.13.0,>=0.12.12 in /Users/aqilafarahmand/Library/Caches/pypoetry/virtualenvs/experiments-2025-joms-rag-kQVmZs0C-py3.12/lib/python3.12/site-packages (from llama-index-llms-gemini) (0.12.31)\r\n",
      "Requirement already satisfied: pillow<11.0.0,>=10.2.0 in /Users/aqilafarahmand/Library/Caches/pypoetry/virtualenvs/experiments-2025-joms-rag-kQVmZs0C-py3.12/lib/python3.12/site-packages (from llama-index-llms-gemini) (10.4.0)\r\n",
      "Requirement already satisfied: google-ai-generativelanguage==0.6.15 in /Users/aqilafarahmand/Library/Caches/pypoetry/virtualenvs/experiments-2025-joms-rag-kQVmZs0C-py3.12/lib/python3.12/site-packages (from google-generativeai>=0.5.2->llama-index-llms-gemini) (0.6.15)\r\n",
      "Requirement already satisfied: google-api-core in /Users/aqilafarahmand/Library/Caches/pypoetry/virtualenvs/experiments-2025-joms-rag-kQVmZs0C-py3.12/lib/python3.12/site-packages (from google-generativeai>=0.5.2->llama-index-llms-gemini) (2.24.2)\r\n",
      "Requirement already satisfied: google-api-python-client in /Users/aqilafarahmand/Library/Caches/pypoetry/virtualenvs/experiments-2025-joms-rag-kQVmZs0C-py3.12/lib/python3.12/site-packages (from google-generativeai>=0.5.2->llama-index-llms-gemini) (2.167.0)\r\n",
      "Requirement already satisfied: google-auth>=2.15.0 in /Users/aqilafarahmand/Library/Caches/pypoetry/virtualenvs/experiments-2025-joms-rag-kQVmZs0C-py3.12/lib/python3.12/site-packages (from google-generativeai>=0.5.2->llama-index-llms-gemini) (2.39.0)\r\n",
      "Requirement already satisfied: protobuf in /Users/aqilafarahmand/Library/Caches/pypoetry/virtualenvs/experiments-2025-joms-rag-kQVmZs0C-py3.12/lib/python3.12/site-packages (from google-generativeai>=0.5.2->llama-index-llms-gemini) (5.29.4)\r\n",
      "Requirement already satisfied: pydantic in /Users/aqilafarahmand/Library/Caches/pypoetry/virtualenvs/experiments-2025-joms-rag-kQVmZs0C-py3.12/lib/python3.12/site-packages (from google-generativeai>=0.5.2->llama-index-llms-gemini) (2.11.3)\r\n",
      "Requirement already satisfied: tqdm in /Users/aqilafarahmand/Library/Caches/pypoetry/virtualenvs/experiments-2025-joms-rag-kQVmZs0C-py3.12/lib/python3.12/site-packages (from google-generativeai>=0.5.2->llama-index-llms-gemini) (4.67.1)\r\n",
      "Requirement already satisfied: typing-extensions in /Users/aqilafarahmand/Library/Caches/pypoetry/virtualenvs/experiments-2025-joms-rag-kQVmZs0C-py3.12/lib/python3.12/site-packages (from google-generativeai>=0.5.2->llama-index-llms-gemini) (4.13.2)\r\n",
      "Requirement already satisfied: proto-plus<2.0.0dev,>=1.22.3 in /Users/aqilafarahmand/Library/Caches/pypoetry/virtualenvs/experiments-2025-joms-rag-kQVmZs0C-py3.12/lib/python3.12/site-packages (from google-ai-generativelanguage==0.6.15->google-generativeai>=0.5.2->llama-index-llms-gemini) (1.26.1)\r\n",
      "Requirement already satisfied: PyYAML>=6.0.1 in /Users/aqilafarahmand/Library/Caches/pypoetry/virtualenvs/experiments-2025-joms-rag-kQVmZs0C-py3.12/lib/python3.12/site-packages (from llama-index-core<0.13.0,>=0.12.12->llama-index-llms-gemini) (6.0.2)\r\n",
      "Requirement already satisfied: SQLAlchemy>=1.4.49 in /Users/aqilafarahmand/Library/Caches/pypoetry/virtualenvs/experiments-2025-joms-rag-kQVmZs0C-py3.12/lib/python3.12/site-packages (from SQLAlchemy[asyncio]>=1.4.49->llama-index-core<0.13.0,>=0.12.12->llama-index-llms-gemini) (2.0.40)\r\n",
      "Requirement already satisfied: aiohttp<4.0.0,>=3.8.6 in /Users/aqilafarahmand/Library/Caches/pypoetry/virtualenvs/experiments-2025-joms-rag-kQVmZs0C-py3.12/lib/python3.12/site-packages (from llama-index-core<0.13.0,>=0.12.12->llama-index-llms-gemini) (3.11.16)\r\n",
      "Requirement already satisfied: banks<3.0.0,>=2.0.0 in /Users/aqilafarahmand/Library/Caches/pypoetry/virtualenvs/experiments-2025-joms-rag-kQVmZs0C-py3.12/lib/python3.12/site-packages (from llama-index-core<0.13.0,>=0.12.12->llama-index-llms-gemini) (2.1.1)\r\n",
      "Requirement already satisfied: dataclasses-json in /Users/aqilafarahmand/Library/Caches/pypoetry/virtualenvs/experiments-2025-joms-rag-kQVmZs0C-py3.12/lib/python3.12/site-packages (from llama-index-core<0.13.0,>=0.12.12->llama-index-llms-gemini) (0.6.7)\r\n",
      "Requirement already satisfied: deprecated>=1.2.9.3 in /Users/aqilafarahmand/Library/Caches/pypoetry/virtualenvs/experiments-2025-joms-rag-kQVmZs0C-py3.12/lib/python3.12/site-packages (from llama-index-core<0.13.0,>=0.12.12->llama-index-llms-gemini) (1.2.18)\r\n",
      "Requirement already satisfied: dirtyjson<2.0.0,>=1.0.8 in /Users/aqilafarahmand/Library/Caches/pypoetry/virtualenvs/experiments-2025-joms-rag-kQVmZs0C-py3.12/lib/python3.12/site-packages (from llama-index-core<0.13.0,>=0.12.12->llama-index-llms-gemini) (1.0.8)\r\n",
      "Requirement already satisfied: filetype<2.0.0,>=1.2.0 in /Users/aqilafarahmand/Library/Caches/pypoetry/virtualenvs/experiments-2025-joms-rag-kQVmZs0C-py3.12/lib/python3.12/site-packages (from llama-index-core<0.13.0,>=0.12.12->llama-index-llms-gemini) (1.2.0)\r\n",
      "Requirement already satisfied: fsspec>=2023.5.0 in /Users/aqilafarahmand/Library/Caches/pypoetry/virtualenvs/experiments-2025-joms-rag-kQVmZs0C-py3.12/lib/python3.12/site-packages (from llama-index-core<0.13.0,>=0.12.12->llama-index-llms-gemini) (2025.3.2)\r\n",
      "Requirement already satisfied: httpx in /Users/aqilafarahmand/Library/Caches/pypoetry/virtualenvs/experiments-2025-joms-rag-kQVmZs0C-py3.12/lib/python3.12/site-packages (from llama-index-core<0.13.0,>=0.12.12->llama-index-llms-gemini) (0.28.1)\r\n",
      "Requirement already satisfied: nest-asyncio<2.0.0,>=1.5.8 in /Users/aqilafarahmand/Library/Caches/pypoetry/virtualenvs/experiments-2025-joms-rag-kQVmZs0C-py3.12/lib/python3.12/site-packages (from llama-index-core<0.13.0,>=0.12.12->llama-index-llms-gemini) (1.6.0)\r\n",
      "Requirement already satisfied: networkx>=3.0 in /Users/aqilafarahmand/Library/Caches/pypoetry/virtualenvs/experiments-2025-joms-rag-kQVmZs0C-py3.12/lib/python3.12/site-packages (from llama-index-core<0.13.0,>=0.12.12->llama-index-llms-gemini) (3.4.2)\r\n",
      "Requirement already satisfied: nltk>3.8.1 in /Users/aqilafarahmand/Library/Caches/pypoetry/virtualenvs/experiments-2025-joms-rag-kQVmZs0C-py3.12/lib/python3.12/site-packages (from llama-index-core<0.13.0,>=0.12.12->llama-index-llms-gemini) (3.9.1)\r\n",
      "Requirement already satisfied: numpy in /Users/aqilafarahmand/Library/Caches/pypoetry/virtualenvs/experiments-2025-joms-rag-kQVmZs0C-py3.12/lib/python3.12/site-packages (from llama-index-core<0.13.0,>=0.12.12->llama-index-llms-gemini) (2.0.2)\r\n",
      "Requirement already satisfied: requests>=2.31.0 in /Users/aqilafarahmand/Library/Caches/pypoetry/virtualenvs/experiments-2025-joms-rag-kQVmZs0C-py3.12/lib/python3.12/site-packages (from llama-index-core<0.13.0,>=0.12.12->llama-index-llms-gemini) (2.32.3)\r\n",
      "Requirement already satisfied: tenacity!=8.4.0,<10.0.0,>=8.2.0 in /Users/aqilafarahmand/Library/Caches/pypoetry/virtualenvs/experiments-2025-joms-rag-kQVmZs0C-py3.12/lib/python3.12/site-packages (from llama-index-core<0.13.0,>=0.12.12->llama-index-llms-gemini) (9.1.2)\r\n",
      "Requirement already satisfied: tiktoken>=0.3.3 in /Users/aqilafarahmand/Library/Caches/pypoetry/virtualenvs/experiments-2025-joms-rag-kQVmZs0C-py3.12/lib/python3.12/site-packages (from llama-index-core<0.13.0,>=0.12.12->llama-index-llms-gemini) (0.9.0)\r\n",
      "Requirement already satisfied: typing-inspect>=0.8.0 in /Users/aqilafarahmand/Library/Caches/pypoetry/virtualenvs/experiments-2025-joms-rag-kQVmZs0C-py3.12/lib/python3.12/site-packages (from llama-index-core<0.13.0,>=0.12.12->llama-index-llms-gemini) (0.9.0)\r\n",
      "Requirement already satisfied: wrapt in /Users/aqilafarahmand/Library/Caches/pypoetry/virtualenvs/experiments-2025-joms-rag-kQVmZs0C-py3.12/lib/python3.12/site-packages (from llama-index-core<0.13.0,>=0.12.12->llama-index-llms-gemini) (1.17.2)\r\n",
      "Requirement already satisfied: aiohappyeyeballs>=2.3.0 in /Users/aqilafarahmand/Library/Caches/pypoetry/virtualenvs/experiments-2025-joms-rag-kQVmZs0C-py3.12/lib/python3.12/site-packages (from aiohttp<4.0.0,>=3.8.6->llama-index-core<0.13.0,>=0.12.12->llama-index-llms-gemini) (2.6.1)\r\n",
      "Requirement already satisfied: aiosignal>=1.1.2 in /Users/aqilafarahmand/Library/Caches/pypoetry/virtualenvs/experiments-2025-joms-rag-kQVmZs0C-py3.12/lib/python3.12/site-packages (from aiohttp<4.0.0,>=3.8.6->llama-index-core<0.13.0,>=0.12.12->llama-index-llms-gemini) (1.3.2)\r\n",
      "Requirement already satisfied: attrs>=17.3.0 in /Users/aqilafarahmand/Library/Caches/pypoetry/virtualenvs/experiments-2025-joms-rag-kQVmZs0C-py3.12/lib/python3.12/site-packages (from aiohttp<4.0.0,>=3.8.6->llama-index-core<0.13.0,>=0.12.12->llama-index-llms-gemini) (25.3.0)\r\n",
      "Requirement already satisfied: frozenlist>=1.1.1 in /Users/aqilafarahmand/Library/Caches/pypoetry/virtualenvs/experiments-2025-joms-rag-kQVmZs0C-py3.12/lib/python3.12/site-packages (from aiohttp<4.0.0,>=3.8.6->llama-index-core<0.13.0,>=0.12.12->llama-index-llms-gemini) (1.5.0)\r\n",
      "Requirement already satisfied: multidict<7.0,>=4.5 in /Users/aqilafarahmand/Library/Caches/pypoetry/virtualenvs/experiments-2025-joms-rag-kQVmZs0C-py3.12/lib/python3.12/site-packages (from aiohttp<4.0.0,>=3.8.6->llama-index-core<0.13.0,>=0.12.12->llama-index-llms-gemini) (6.4.3)\r\n",
      "Requirement already satisfied: propcache>=0.2.0 in /Users/aqilafarahmand/Library/Caches/pypoetry/virtualenvs/experiments-2025-joms-rag-kQVmZs0C-py3.12/lib/python3.12/site-packages (from aiohttp<4.0.0,>=3.8.6->llama-index-core<0.13.0,>=0.12.12->llama-index-llms-gemini) (0.3.1)\r\n",
      "Requirement already satisfied: yarl<2.0,>=1.17.0 in /Users/aqilafarahmand/Library/Caches/pypoetry/virtualenvs/experiments-2025-joms-rag-kQVmZs0C-py3.12/lib/python3.12/site-packages (from aiohttp<4.0.0,>=3.8.6->llama-index-core<0.13.0,>=0.12.12->llama-index-llms-gemini) (1.20.0)\r\n",
      "Requirement already satisfied: griffe in /Users/aqilafarahmand/Library/Caches/pypoetry/virtualenvs/experiments-2025-joms-rag-kQVmZs0C-py3.12/lib/python3.12/site-packages (from banks<3.0.0,>=2.0.0->llama-index-core<0.13.0,>=0.12.12->llama-index-llms-gemini) (1.7.2)\r\n",
      "Requirement already satisfied: jinja2 in /Users/aqilafarahmand/Library/Caches/pypoetry/virtualenvs/experiments-2025-joms-rag-kQVmZs0C-py3.12/lib/python3.12/site-packages (from banks<3.0.0,>=2.0.0->llama-index-core<0.13.0,>=0.12.12->llama-index-llms-gemini) (3.1.6)\r\n",
      "Requirement already satisfied: platformdirs in /Users/aqilafarahmand/Library/Caches/pypoetry/virtualenvs/experiments-2025-joms-rag-kQVmZs0C-py3.12/lib/python3.12/site-packages (from banks<3.0.0,>=2.0.0->llama-index-core<0.13.0,>=0.12.12->llama-index-llms-gemini) (4.3.7)\r\n",
      "Requirement already satisfied: googleapis-common-protos<2.0.0,>=1.56.2 in /Users/aqilafarahmand/Library/Caches/pypoetry/virtualenvs/experiments-2025-joms-rag-kQVmZs0C-py3.12/lib/python3.12/site-packages (from google-api-core->google-generativeai>=0.5.2->llama-index-llms-gemini) (1.70.0)\r\n",
      "Requirement already satisfied: cachetools<6.0,>=2.0.0 in /Users/aqilafarahmand/Library/Caches/pypoetry/virtualenvs/experiments-2025-joms-rag-kQVmZs0C-py3.12/lib/python3.12/site-packages (from google-auth>=2.15.0->google-generativeai>=0.5.2->llama-index-llms-gemini) (5.5.2)\r\n",
      "Requirement already satisfied: pyasn1-modules>=0.2.1 in /Users/aqilafarahmand/Library/Caches/pypoetry/virtualenvs/experiments-2025-joms-rag-kQVmZs0C-py3.12/lib/python3.12/site-packages (from google-auth>=2.15.0->google-generativeai>=0.5.2->llama-index-llms-gemini) (0.4.2)\r\n",
      "Requirement already satisfied: rsa<5,>=3.1.4 in /Users/aqilafarahmand/Library/Caches/pypoetry/virtualenvs/experiments-2025-joms-rag-kQVmZs0C-py3.12/lib/python3.12/site-packages (from google-auth>=2.15.0->google-generativeai>=0.5.2->llama-index-llms-gemini) (4.9.1)\r\n",
      "Requirement already satisfied: click in /Users/aqilafarahmand/Library/Caches/pypoetry/virtualenvs/experiments-2025-joms-rag-kQVmZs0C-py3.12/lib/python3.12/site-packages (from nltk>3.8.1->llama-index-core<0.13.0,>=0.12.12->llama-index-llms-gemini) (8.1.8)\r\n",
      "Requirement already satisfied: joblib in /Users/aqilafarahmand/Library/Caches/pypoetry/virtualenvs/experiments-2025-joms-rag-kQVmZs0C-py3.12/lib/python3.12/site-packages (from nltk>3.8.1->llama-index-core<0.13.0,>=0.12.12->llama-index-llms-gemini) (1.4.2)\r\n",
      "Requirement already satisfied: regex>=2021.8.3 in /Users/aqilafarahmand/Library/Caches/pypoetry/virtualenvs/experiments-2025-joms-rag-kQVmZs0C-py3.12/lib/python3.12/site-packages (from nltk>3.8.1->llama-index-core<0.13.0,>=0.12.12->llama-index-llms-gemini) (2024.11.6)\r\n",
      "Requirement already satisfied: annotated-types>=0.6.0 in /Users/aqilafarahmand/Library/Caches/pypoetry/virtualenvs/experiments-2025-joms-rag-kQVmZs0C-py3.12/lib/python3.12/site-packages (from pydantic->google-generativeai>=0.5.2->llama-index-llms-gemini) (0.7.0)\r\n",
      "Requirement already satisfied: pydantic-core==2.33.1 in /Users/aqilafarahmand/Library/Caches/pypoetry/virtualenvs/experiments-2025-joms-rag-kQVmZs0C-py3.12/lib/python3.12/site-packages (from pydantic->google-generativeai>=0.5.2->llama-index-llms-gemini) (2.33.1)\r\n",
      "Requirement already satisfied: typing-inspection>=0.4.0 in /Users/aqilafarahmand/Library/Caches/pypoetry/virtualenvs/experiments-2025-joms-rag-kQVmZs0C-py3.12/lib/python3.12/site-packages (from pydantic->google-generativeai>=0.5.2->llama-index-llms-gemini) (0.4.0)\r\n",
      "Requirement already satisfied: charset-normalizer<4,>=2 in /Users/aqilafarahmand/Library/Caches/pypoetry/virtualenvs/experiments-2025-joms-rag-kQVmZs0C-py3.12/lib/python3.12/site-packages (from requests>=2.31.0->llama-index-core<0.13.0,>=0.12.12->llama-index-llms-gemini) (3.4.1)\r\n",
      "Requirement already satisfied: idna<4,>=2.5 in /Users/aqilafarahmand/Library/Caches/pypoetry/virtualenvs/experiments-2025-joms-rag-kQVmZs0C-py3.12/lib/python3.12/site-packages (from requests>=2.31.0->llama-index-core<0.13.0,>=0.12.12->llama-index-llms-gemini) (3.10)\r\n",
      "Requirement already satisfied: urllib3<3,>=1.21.1 in /Users/aqilafarahmand/Library/Caches/pypoetry/virtualenvs/experiments-2025-joms-rag-kQVmZs0C-py3.12/lib/python3.12/site-packages (from requests>=2.31.0->llama-index-core<0.13.0,>=0.12.12->llama-index-llms-gemini) (2.4.0)\r\n",
      "Requirement already satisfied: certifi>=2017.4.17 in /Users/aqilafarahmand/Library/Caches/pypoetry/virtualenvs/experiments-2025-joms-rag-kQVmZs0C-py3.12/lib/python3.12/site-packages (from requests>=2.31.0->llama-index-core<0.13.0,>=0.12.12->llama-index-llms-gemini) (2025.1.31)\r\n",
      "Requirement already satisfied: greenlet>=1 in /Users/aqilafarahmand/Library/Caches/pypoetry/virtualenvs/experiments-2025-joms-rag-kQVmZs0C-py3.12/lib/python3.12/site-packages (from SQLAlchemy[asyncio]>=1.4.49->llama-index-core<0.13.0,>=0.12.12->llama-index-llms-gemini) (3.2.0)\r\n",
      "Requirement already satisfied: mypy-extensions>=0.3.0 in /Users/aqilafarahmand/Library/Caches/pypoetry/virtualenvs/experiments-2025-joms-rag-kQVmZs0C-py3.12/lib/python3.12/site-packages (from typing-inspect>=0.8.0->llama-index-core<0.13.0,>=0.12.12->llama-index-llms-gemini) (1.0.0)\r\n",
      "Requirement already satisfied: marshmallow<4.0.0,>=3.18.0 in /Users/aqilafarahmand/Library/Caches/pypoetry/virtualenvs/experiments-2025-joms-rag-kQVmZs0C-py3.12/lib/python3.12/site-packages (from dataclasses-json->llama-index-core<0.13.0,>=0.12.12->llama-index-llms-gemini) (3.26.1)\r\n",
      "Requirement already satisfied: httplib2<1.0.0,>=0.19.0 in /Users/aqilafarahmand/Library/Caches/pypoetry/virtualenvs/experiments-2025-joms-rag-kQVmZs0C-py3.12/lib/python3.12/site-packages (from google-api-python-client->google-generativeai>=0.5.2->llama-index-llms-gemini) (0.22.0)\r\n",
      "Requirement already satisfied: google-auth-httplib2<1.0.0,>=0.2.0 in /Users/aqilafarahmand/Library/Caches/pypoetry/virtualenvs/experiments-2025-joms-rag-kQVmZs0C-py3.12/lib/python3.12/site-packages (from google-api-python-client->google-generativeai>=0.5.2->llama-index-llms-gemini) (0.2.0)\r\n",
      "Requirement already satisfied: uritemplate<5,>=3.0.1 in /Users/aqilafarahmand/Library/Caches/pypoetry/virtualenvs/experiments-2025-joms-rag-kQVmZs0C-py3.12/lib/python3.12/site-packages (from google-api-python-client->google-generativeai>=0.5.2->llama-index-llms-gemini) (4.1.1)\r\n",
      "Requirement already satisfied: anyio in /Users/aqilafarahmand/Library/Caches/pypoetry/virtualenvs/experiments-2025-joms-rag-kQVmZs0C-py3.12/lib/python3.12/site-packages (from httpx->llama-index-core<0.13.0,>=0.12.12->llama-index-llms-gemini) (4.9.0)\r\n",
      "Requirement already satisfied: httpcore==1.* in /Users/aqilafarahmand/Library/Caches/pypoetry/virtualenvs/experiments-2025-joms-rag-kQVmZs0C-py3.12/lib/python3.12/site-packages (from httpx->llama-index-core<0.13.0,>=0.12.12->llama-index-llms-gemini) (1.0.8)\r\n",
      "Requirement already satisfied: h11<0.15,>=0.13 in /Users/aqilafarahmand/Library/Caches/pypoetry/virtualenvs/experiments-2025-joms-rag-kQVmZs0C-py3.12/lib/python3.12/site-packages (from httpcore==1.*->httpx->llama-index-core<0.13.0,>=0.12.12->llama-index-llms-gemini) (0.14.0)\r\n",
      "Requirement already satisfied: grpcio<2.0dev,>=1.33.2 in /Users/aqilafarahmand/Library/Caches/pypoetry/virtualenvs/experiments-2025-joms-rag-kQVmZs0C-py3.12/lib/python3.12/site-packages (from google-api-core[grpc]!=2.0.*,!=2.1.*,!=2.10.*,!=2.2.*,!=2.3.*,!=2.4.*,!=2.5.*,!=2.6.*,!=2.7.*,!=2.8.*,!=2.9.*,<3.0.0dev,>=1.34.1->google-ai-generativelanguage==0.6.15->google-generativeai>=0.5.2->llama-index-llms-gemini) (1.72.0rc1)\r\n",
      "Requirement already satisfied: grpcio-status<2.0.dev0,>=1.33.2 in /Users/aqilafarahmand/Library/Caches/pypoetry/virtualenvs/experiments-2025-joms-rag-kQVmZs0C-py3.12/lib/python3.12/site-packages (from google-api-core[grpc]!=2.0.*,!=2.1.*,!=2.10.*,!=2.2.*,!=2.3.*,!=2.4.*,!=2.5.*,!=2.6.*,!=2.7.*,!=2.8.*,!=2.9.*,<3.0.0dev,>=1.34.1->google-ai-generativelanguage==0.6.15->google-generativeai>=0.5.2->llama-index-llms-gemini) (1.71.0)\r\n",
      "Requirement already satisfied: pyparsing!=3.0.0,!=3.0.1,!=3.0.2,!=3.0.3,<4,>=2.4.2 in /Users/aqilafarahmand/Library/Caches/pypoetry/virtualenvs/experiments-2025-joms-rag-kQVmZs0C-py3.12/lib/python3.12/site-packages (from httplib2<1.0.0,>=0.19.0->google-api-python-client->google-generativeai>=0.5.2->llama-index-llms-gemini) (3.2.3)\r\n",
      "Requirement already satisfied: packaging>=17.0 in /Users/aqilafarahmand/Library/Caches/pypoetry/virtualenvs/experiments-2025-joms-rag-kQVmZs0C-py3.12/lib/python3.12/site-packages (from marshmallow<4.0.0,>=3.18.0->dataclasses-json->llama-index-core<0.13.0,>=0.12.12->llama-index-llms-gemini) (24.2)\r\n",
      "Requirement already satisfied: pyasn1<0.7.0,>=0.6.1 in /Users/aqilafarahmand/Library/Caches/pypoetry/virtualenvs/experiments-2025-joms-rag-kQVmZs0C-py3.12/lib/python3.12/site-packages (from pyasn1-modules>=0.2.1->google-auth>=2.15.0->google-generativeai>=0.5.2->llama-index-llms-gemini) (0.6.1)\r\n",
      "Requirement already satisfied: sniffio>=1.1 in /Users/aqilafarahmand/Library/Caches/pypoetry/virtualenvs/experiments-2025-joms-rag-kQVmZs0C-py3.12/lib/python3.12/site-packages (from anyio->httpx->llama-index-core<0.13.0,>=0.12.12->llama-index-llms-gemini) (1.3.1)\r\n",
      "Requirement already satisfied: colorama>=0.4 in /Users/aqilafarahmand/Library/Caches/pypoetry/virtualenvs/experiments-2025-joms-rag-kQVmZs0C-py3.12/lib/python3.12/site-packages (from griffe->banks<3.0.0,>=2.0.0->llama-index-core<0.13.0,>=0.12.12->llama-index-llms-gemini) (0.4.6)\r\n",
      "Requirement already satisfied: MarkupSafe>=2.0 in /Users/aqilafarahmand/Library/Caches/pypoetry/virtualenvs/experiments-2025-joms-rag-kQVmZs0C-py3.12/lib/python3.12/site-packages (from jinja2->banks<3.0.0,>=2.0.0->llama-index-core<0.13.0,>=0.12.12->llama-index-llms-gemini) (3.0.2)\r\n"
     ]
    }
   ],
   "execution_count": 22
  },
  {
   "metadata": {
    "ExecuteTime": {
     "end_time": "2025-04-17T15:34:06.701666Z",
     "start_time": "2025-04-17T15:33:44.228914Z"
    }
   },
   "cell_type": "code",
   "source": [
    "from llama_index.llms.gemini import Gemini # <-- Import Gemini LLM\n",
    "from llama_index.core.evaluation import FaithfulnessEvaluator, RelevancyEvaluator\n",
    "from llama_index.core.evaluation import DatasetGenerator\n",
    "from llama_index.core import Document\n",
    "\n",
    "# Define the Gemini model instance\n",
    "gemini_llm = Gemini(model_name=\"models/gemini-1.5-pro-latest\")\n",
    "\n",
    "# To evaluate the dimensions of each chunk, we will first generate a set of 20 questions from the first 20 pages.\n",
    "eval_documents = documents[:20]\n",
    "\n",
    "# Use the Gemini model for the DatasetGenerator\n",
    "data_generator = DatasetGenerator.from_documents(\n",
    "    eval_documents,\n",
    "    llm=gemini_llm\n",
    ")\n",
    "\n",
    "eval_questions = data_generator.generate_questions_from_nodes(num = 20)\n",
    "print(f\"Generated {len(eval_questions)} evaluation questions.\")\n",
    "\n",
    "# Define Faithfulness and Relevancy Evaluators using the Gemini model\n",
    "faithfulness_gemini = FaithfulnessEvaluator(llm=gemini_llm) \n",
    "relevancy_gemini = RelevancyEvaluator(llm=gemini_llm)\n",
    "\n",
    "print(\"Successfully set up evaluators using Gemini.\")"
   ],
   "id": "3649e640fba557fb",
   "outputs": [
    {
     "name": "stderr",
     "output_type": "stream",
     "text": [
      "/var/folders/v8/wxyjgmh92q150jddypcvf9mr0000gn/T/ipykernel_1261/254732732.py:7: DeprecationWarning: Call to deprecated class Gemini. (Should use `llama-index-llms-google-genai` instead, using Google's latest unified SDK. See: https://docs.llamaindex.ai/en/stable/examples/llm/google_genai/)\n",
      "  gemini_llm = Gemini(model_name=\"models/gemini-1.5-pro-latest\")\n",
      "[nltk_data] Error loading stopwords: <urlopen error [SSL:\n",
      "[nltk_data]     CERTIFICATE_VERIFY_FAILED] certificate verify failed:\n",
      "[nltk_data]     unable to get local issuer certificate (_ssl.c:1000)>\n",
      "[nltk_data] Error loading punkt_tab: <urlopen error [SSL:\n",
      "[nltk_data]     CERTIFICATE_VERIFY_FAILED] certificate verify failed:\n",
      "[nltk_data]     unable to get local issuer certificate (_ssl.c:1000)>\n"
     ]
    },
    {
     "ename": "LookupError",
     "evalue": "\n**********************************************************************\n  Resource \u001B[93mstopwords\u001B[0m not found.\n  Please use the NLTK Downloader to obtain the resource:\n\n  \u001B[31m>>> import nltk\n  >>> nltk.download('stopwords')\n  \u001B[0m\n  For more information see: https://www.nltk.org/data.html\n\n  Attempted to load \u001B[93mcorpora/stopwords\u001B[0m\n\n  Searched in:\n    - '/Users/aqilafarahmand/nltk_data'\n    - '/Users/aqilafarahmand/Library/Caches/pypoetry/virtualenvs/experiments-2025-joms-rag-kQVmZs0C-py3.12/nltk_data'\n    - '/Users/aqilafarahmand/Library/Caches/pypoetry/virtualenvs/experiments-2025-joms-rag-kQVmZs0C-py3.12/share/nltk_data'\n    - '/Users/aqilafarahmand/Library/Caches/pypoetry/virtualenvs/experiments-2025-joms-rag-kQVmZs0C-py3.12/lib/nltk_data'\n    - '/usr/share/nltk_data'\n    - '/usr/local/share/nltk_data'\n    - '/usr/lib/nltk_data'\n    - '/usr/local/lib/nltk_data'\n    - '/Users/aqilafarahmand/Library/Caches/pypoetry/virtualenvs/experiments-2025-joms-rag-kQVmZs0C-py3.12/lib/python3.12/site-packages/llama_index/core/_static/nltk_cache'\n**********************************************************************\n",
     "output_type": "error",
     "traceback": [
      "\u001B[31m---------------------------------------------------------------------------\u001B[39m",
      "\u001B[31mLookupError\u001B[39m                               Traceback (most recent call last)",
      "\u001B[36mFile \u001B[39m\u001B[32m~/Library/Caches/pypoetry/virtualenvs/experiments-2025-joms-rag-kQVmZs0C-py3.12/lib/python3.12/site-packages/nltk/corpus/util.py:84\u001B[39m, in \u001B[36mLazyCorpusLoader.__load\u001B[39m\u001B[34m(self)\u001B[39m\n\u001B[32m     83\u001B[39m \u001B[38;5;28;01mtry\u001B[39;00m:\n\u001B[32m---> \u001B[39m\u001B[32m84\u001B[39m     root = \u001B[43mnltk\u001B[49m\u001B[43m.\u001B[49m\u001B[43mdata\u001B[49m\u001B[43m.\u001B[49m\u001B[43mfind\u001B[49m\u001B[43m(\u001B[49m\u001B[33;43mf\u001B[39;49m\u001B[33;43m\"\u001B[39;49m\u001B[38;5;132;43;01m{\u001B[39;49;00m\u001B[38;5;28;43mself\u001B[39;49m\u001B[43m.\u001B[49m\u001B[43msubdir\u001B[49m\u001B[38;5;132;43;01m}\u001B[39;49;00m\u001B[33;43m/\u001B[39;49m\u001B[38;5;132;43;01m{\u001B[39;49;00m\u001B[43mzip_name\u001B[49m\u001B[38;5;132;43;01m}\u001B[39;49;00m\u001B[33;43m\"\u001B[39;49m\u001B[43m)\u001B[49m\n\u001B[32m     85\u001B[39m \u001B[38;5;28;01mexcept\u001B[39;00m \u001B[38;5;167;01mLookupError\u001B[39;00m:\n",
      "\u001B[36mFile \u001B[39m\u001B[32m~/Library/Caches/pypoetry/virtualenvs/experiments-2025-joms-rag-kQVmZs0C-py3.12/lib/python3.12/site-packages/nltk/data.py:579\u001B[39m, in \u001B[36mfind\u001B[39m\u001B[34m(resource_name, paths)\u001B[39m\n\u001B[32m    578\u001B[39m resource_not_found = \u001B[33mf\u001B[39m\u001B[33m\"\u001B[39m\u001B[38;5;130;01m\\n\u001B[39;00m\u001B[38;5;132;01m{\u001B[39;00msep\u001B[38;5;132;01m}\u001B[39;00m\u001B[38;5;130;01m\\n\u001B[39;00m\u001B[38;5;132;01m{\u001B[39;00mmsg\u001B[38;5;132;01m}\u001B[39;00m\u001B[38;5;130;01m\\n\u001B[39;00m\u001B[38;5;132;01m{\u001B[39;00msep\u001B[38;5;132;01m}\u001B[39;00m\u001B[38;5;130;01m\\n\u001B[39;00m\u001B[33m\"\u001B[39m\n\u001B[32m--> \u001B[39m\u001B[32m579\u001B[39m \u001B[38;5;28;01mraise\u001B[39;00m \u001B[38;5;167;01mLookupError\u001B[39;00m(resource_not_found)\n",
      "\u001B[31mLookupError\u001B[39m: \n**********************************************************************\n  Resource \u001B[93mstopwords\u001B[0m not found.\n  Please use the NLTK Downloader to obtain the resource:\n\n  \u001B[31m>>> import nltk\n  >>> nltk.download('stopwords')\n  \u001B[0m\n  For more information see: https://www.nltk.org/data.html\n\n  Attempted to load \u001B[93mcorpora/stopwords.zip/stopwords/\u001B[0m\n\n  Searched in:\n    - '/Users/aqilafarahmand/nltk_data'\n    - '/Users/aqilafarahmand/Library/Caches/pypoetry/virtualenvs/experiments-2025-joms-rag-kQVmZs0C-py3.12/nltk_data'\n    - '/Users/aqilafarahmand/Library/Caches/pypoetry/virtualenvs/experiments-2025-joms-rag-kQVmZs0C-py3.12/share/nltk_data'\n    - '/Users/aqilafarahmand/Library/Caches/pypoetry/virtualenvs/experiments-2025-joms-rag-kQVmZs0C-py3.12/lib/nltk_data'\n    - '/usr/share/nltk_data'\n    - '/usr/local/share/nltk_data'\n    - '/usr/lib/nltk_data'\n    - '/usr/local/lib/nltk_data'\n    - '/Users/aqilafarahmand/Library/Caches/pypoetry/virtualenvs/experiments-2025-joms-rag-kQVmZs0C-py3.12/lib/python3.12/site-packages/llama_index/core/_static/nltk_cache'\n**********************************************************************\n",
      "\nDuring handling of the above exception, another exception occurred:\n",
      "\u001B[31mLookupError\u001B[39m                               Traceback (most recent call last)",
      "\u001B[36mCell\u001B[39m\u001B[36m \u001B[39m\u001B[32mIn[23]\u001B[39m\u001B[32m, line 13\u001B[39m\n\u001B[32m     10\u001B[39m eval_documents = documents[:\u001B[32m20\u001B[39m]\n\u001B[32m     12\u001B[39m \u001B[38;5;66;03m# Use the Gemini model for the DatasetGenerator\u001B[39;00m\n\u001B[32m---> \u001B[39m\u001B[32m13\u001B[39m data_generator = \u001B[43mDatasetGenerator\u001B[49m\u001B[43m.\u001B[49m\u001B[43mfrom_documents\u001B[49m\u001B[43m(\u001B[49m\n\u001B[32m     14\u001B[39m \u001B[43m    \u001B[49m\u001B[43meval_documents\u001B[49m\u001B[43m,\u001B[49m\n\u001B[32m     15\u001B[39m \u001B[43m    \u001B[49m\u001B[43mllm\u001B[49m\u001B[43m=\u001B[49m\u001B[43mgemini_llm\u001B[49m\n\u001B[32m     16\u001B[39m \u001B[43m)\u001B[49m\n\u001B[32m     18\u001B[39m eval_questions = data_generator.generate_questions_from_nodes(num = \u001B[32m20\u001B[39m)\n\u001B[32m     19\u001B[39m \u001B[38;5;28mprint\u001B[39m(\u001B[33mf\u001B[39m\u001B[33m\"\u001B[39m\u001B[33mGenerated \u001B[39m\u001B[38;5;132;01m{\u001B[39;00m\u001B[38;5;28mlen\u001B[39m(eval_questions)\u001B[38;5;132;01m}\u001B[39;00m\u001B[33m evaluation questions.\u001B[39m\u001B[33m\"\u001B[39m)\n",
      "\u001B[36mFile \u001B[39m\u001B[32m~/Library/Caches/pypoetry/virtualenvs/experiments-2025-joms-rag-kQVmZs0C-py3.12/lib/python3.12/site-packages/llama_index/core/evaluation/dataset_generation.py:184\u001B[39m, in \u001B[36mDatasetGenerator.from_documents\u001B[39m\u001B[34m(cls, documents, llm, transformations, callback_manager, num_questions_per_chunk, text_question_template, text_qa_template, question_gen_query, required_keywords, exclude_keywords, show_progress)\u001B[39m\n\u001B[32m    181\u001B[39m transformations = transformations \u001B[38;5;129;01mor\u001B[39;00m Settings.transformations\n\u001B[32m    182\u001B[39m callback_manager = callback_manager \u001B[38;5;129;01mor\u001B[39;00m Settings.callback_manager\n\u001B[32m--> \u001B[39m\u001B[32m184\u001B[39m nodes = \u001B[43mrun_transformations\u001B[49m\u001B[43m(\u001B[49m\n\u001B[32m    185\u001B[39m \u001B[43m    \u001B[49m\u001B[43mdocuments\u001B[49m\u001B[43m,\u001B[49m\u001B[43m \u001B[49m\u001B[43mtransformations\u001B[49m\u001B[43m,\u001B[49m\u001B[43m \u001B[49m\u001B[43mshow_progress\u001B[49m\u001B[43m=\u001B[49m\u001B[43mshow_progress\u001B[49m\n\u001B[32m    186\u001B[39m \u001B[43m\u001B[49m\u001B[43m)\u001B[49m\n\u001B[32m    188\u001B[39m \u001B[38;5;66;03m# use node postprocessor to filter nodes\u001B[39;00m\n\u001B[32m    189\u001B[39m required_keywords = required_keywords \u001B[38;5;129;01mor\u001B[39;00m []\n",
      "\u001B[36mFile \u001B[39m\u001B[32m~/Library/Caches/pypoetry/virtualenvs/experiments-2025-joms-rag-kQVmZs0C-py3.12/lib/python3.12/site-packages/llama_index/core/ingestion/pipeline.py:100\u001B[39m, in \u001B[36mrun_transformations\u001B[39m\u001B[34m(nodes, transformations, in_place, cache, cache_collection, **kwargs)\u001B[39m\n\u001B[32m     98\u001B[39m             cache.put(\u001B[38;5;28mhash\u001B[39m, nodes, collection=cache_collection)\n\u001B[32m     99\u001B[39m     \u001B[38;5;28;01melse\u001B[39;00m:\n\u001B[32m--> \u001B[39m\u001B[32m100\u001B[39m         nodes = \u001B[43mtransform\u001B[49m\u001B[43m(\u001B[49m\u001B[43mnodes\u001B[49m\u001B[43m,\u001B[49m\u001B[43m \u001B[49m\u001B[43m*\u001B[49m\u001B[43m*\u001B[49m\u001B[43mkwargs\u001B[49m\u001B[43m)\u001B[49m\n\u001B[32m    102\u001B[39m \u001B[38;5;28;01mreturn\u001B[39;00m nodes\n",
      "\u001B[36mFile \u001B[39m\u001B[32m~/Library/Caches/pypoetry/virtualenvs/experiments-2025-joms-rag-kQVmZs0C-py3.12/lib/python3.12/site-packages/llama_index/core/instrumentation/dispatcher.py:322\u001B[39m, in \u001B[36mDispatcher.span.<locals>.wrapper\u001B[39m\u001B[34m(func, instance, args, kwargs)\u001B[39m\n\u001B[32m    319\u001B[39m             _logger.debug(\u001B[33mf\u001B[39m\u001B[33m\"\u001B[39m\u001B[33mFailed to reset active_span_id: \u001B[39m\u001B[38;5;132;01m{\u001B[39;00me\u001B[38;5;132;01m}\u001B[39;00m\u001B[33m\"\u001B[39m)\n\u001B[32m    321\u001B[39m \u001B[38;5;28;01mtry\u001B[39;00m:\n\u001B[32m--> \u001B[39m\u001B[32m322\u001B[39m     result = \u001B[43mfunc\u001B[49m\u001B[43m(\u001B[49m\u001B[43m*\u001B[49m\u001B[43margs\u001B[49m\u001B[43m,\u001B[49m\u001B[43m \u001B[49m\u001B[43m*\u001B[49m\u001B[43m*\u001B[49m\u001B[43mkwargs\u001B[49m\u001B[43m)\u001B[49m\n\u001B[32m    323\u001B[39m     \u001B[38;5;28;01mif\u001B[39;00m \u001B[38;5;28misinstance\u001B[39m(result, asyncio.Future):\n\u001B[32m    324\u001B[39m         \u001B[38;5;66;03m# If the result is a Future, wrap it\u001B[39;00m\n\u001B[32m    325\u001B[39m         new_future = asyncio.ensure_future(result)\n",
      "\u001B[36mFile \u001B[39m\u001B[32m~/Library/Caches/pypoetry/virtualenvs/experiments-2025-joms-rag-kQVmZs0C-py3.12/lib/python3.12/site-packages/llama_index/core/node_parser/interface.py:193\u001B[39m, in \u001B[36mNodeParser.__call__\u001B[39m\u001B[34m(self, nodes, **kwargs)\u001B[39m\n\u001B[32m    192\u001B[39m \u001B[38;5;28;01mdef\u001B[39;00m\u001B[38;5;250m \u001B[39m\u001B[34m__call__\u001B[39m(\u001B[38;5;28mself\u001B[39m, nodes: Sequence[BaseNode], **kwargs: Any) -> List[BaseNode]:\n\u001B[32m--> \u001B[39m\u001B[32m193\u001B[39m     \u001B[38;5;28;01mreturn\u001B[39;00m \u001B[38;5;28;43mself\u001B[39;49m\u001B[43m.\u001B[49m\u001B[43mget_nodes_from_documents\u001B[49m\u001B[43m(\u001B[49m\u001B[43mnodes\u001B[49m\u001B[43m,\u001B[49m\u001B[43m \u001B[49m\u001B[43m*\u001B[49m\u001B[43m*\u001B[49m\u001B[43mkwargs\u001B[49m\u001B[43m)\u001B[49m\n",
      "\u001B[36mFile \u001B[39m\u001B[32m~/Library/Caches/pypoetry/virtualenvs/experiments-2025-joms-rag-kQVmZs0C-py3.12/lib/python3.12/site-packages/llama_index/core/node_parser/interface.py:165\u001B[39m, in \u001B[36mNodeParser.get_nodes_from_documents\u001B[39m\u001B[34m(self, documents, show_progress, **kwargs)\u001B[39m\n\u001B[32m    160\u001B[39m doc_id_to_document = {doc.id_: doc \u001B[38;5;28;01mfor\u001B[39;00m doc \u001B[38;5;129;01min\u001B[39;00m documents}\n\u001B[32m    162\u001B[39m \u001B[38;5;28;01mwith\u001B[39;00m \u001B[38;5;28mself\u001B[39m.callback_manager.event(\n\u001B[32m    163\u001B[39m     CBEventType.NODE_PARSING, payload={EventPayload.DOCUMENTS: documents}\n\u001B[32m    164\u001B[39m ) \u001B[38;5;28;01mas\u001B[39;00m event:\n\u001B[32m--> \u001B[39m\u001B[32m165\u001B[39m     nodes = \u001B[38;5;28;43mself\u001B[39;49m\u001B[43m.\u001B[49m\u001B[43m_parse_nodes\u001B[49m\u001B[43m(\u001B[49m\u001B[43mdocuments\u001B[49m\u001B[43m,\u001B[49m\u001B[43m \u001B[49m\u001B[43mshow_progress\u001B[49m\u001B[43m=\u001B[49m\u001B[43mshow_progress\u001B[49m\u001B[43m,\u001B[49m\u001B[43m \u001B[49m\u001B[43m*\u001B[49m\u001B[43m*\u001B[49m\u001B[43mkwargs\u001B[49m\u001B[43m)\u001B[49m\n\u001B[32m    166\u001B[39m     nodes = \u001B[38;5;28mself\u001B[39m._postprocess_parsed_nodes(nodes, doc_id_to_document)\n\u001B[32m    168\u001B[39m     event.on_end({EventPayload.NODES: nodes})\n",
      "\u001B[36mFile \u001B[39m\u001B[32m~/Library/Caches/pypoetry/virtualenvs/experiments-2025-joms-rag-kQVmZs0C-py3.12/lib/python3.12/site-packages/llama_index/core/instrumentation/dispatcher.py:322\u001B[39m, in \u001B[36mDispatcher.span.<locals>.wrapper\u001B[39m\u001B[34m(func, instance, args, kwargs)\u001B[39m\n\u001B[32m    319\u001B[39m             _logger.debug(\u001B[33mf\u001B[39m\u001B[33m\"\u001B[39m\u001B[33mFailed to reset active_span_id: \u001B[39m\u001B[38;5;132;01m{\u001B[39;00me\u001B[38;5;132;01m}\u001B[39;00m\u001B[33m\"\u001B[39m)\n\u001B[32m    321\u001B[39m \u001B[38;5;28;01mtry\u001B[39;00m:\n\u001B[32m--> \u001B[39m\u001B[32m322\u001B[39m     result = \u001B[43mfunc\u001B[49m\u001B[43m(\u001B[49m\u001B[43m*\u001B[49m\u001B[43margs\u001B[49m\u001B[43m,\u001B[49m\u001B[43m \u001B[49m\u001B[43m*\u001B[49m\u001B[43m*\u001B[49m\u001B[43mkwargs\u001B[49m\u001B[43m)\u001B[49m\n\u001B[32m    323\u001B[39m     \u001B[38;5;28;01mif\u001B[39;00m \u001B[38;5;28misinstance\u001B[39m(result, asyncio.Future):\n\u001B[32m    324\u001B[39m         \u001B[38;5;66;03m# If the result is a Future, wrap it\u001B[39;00m\n\u001B[32m    325\u001B[39m         new_future = asyncio.ensure_future(result)\n",
      "\u001B[36mFile \u001B[39m\u001B[32m~/Library/Caches/pypoetry/virtualenvs/experiments-2025-joms-rag-kQVmZs0C-py3.12/lib/python3.12/site-packages/llama_index/core/node_parser/interface.py:260\u001B[39m, in \u001B[36mMetadataAwareTextSplitter._parse_nodes\u001B[39m\u001B[34m(self, nodes, show_progress, **kwargs)\u001B[39m\n\u001B[32m    258\u001B[39m \u001B[38;5;28;01mfor\u001B[39;00m node \u001B[38;5;129;01min\u001B[39;00m nodes_with_progress:\n\u001B[32m    259\u001B[39m     metadata_str = \u001B[38;5;28mself\u001B[39m._get_metadata_str(node)\n\u001B[32m--> \u001B[39m\u001B[32m260\u001B[39m     splits = \u001B[38;5;28;43mself\u001B[39;49m\u001B[43m.\u001B[49m\u001B[43msplit_text_metadata_aware\u001B[49m\u001B[43m(\u001B[49m\n\u001B[32m    261\u001B[39m \u001B[43m        \u001B[49m\u001B[43mnode\u001B[49m\u001B[43m.\u001B[49m\u001B[43mget_content\u001B[49m\u001B[43m(\u001B[49m\u001B[43mmetadata_mode\u001B[49m\u001B[43m=\u001B[49m\u001B[43mMetadataMode\u001B[49m\u001B[43m.\u001B[49m\u001B[43mNONE\u001B[49m\u001B[43m)\u001B[49m\u001B[43m,\u001B[49m\n\u001B[32m    262\u001B[39m \u001B[43m        \u001B[49m\u001B[43mmetadata_str\u001B[49m\u001B[43m=\u001B[49m\u001B[43mmetadata_str\u001B[49m\u001B[43m,\u001B[49m\n\u001B[32m    263\u001B[39m \u001B[43m    \u001B[49m\u001B[43m)\u001B[49m\n\u001B[32m    264\u001B[39m     all_nodes.extend(\n\u001B[32m    265\u001B[39m         build_nodes_from_splits(splits, node, id_func=\u001B[38;5;28mself\u001B[39m.id_func)\n\u001B[32m    266\u001B[39m     )\n\u001B[32m    268\u001B[39m \u001B[38;5;28;01mreturn\u001B[39;00m all_nodes\n",
      "\u001B[36mFile \u001B[39m\u001B[32m~/Library/Caches/pypoetry/virtualenvs/experiments-2025-joms-rag-kQVmZs0C-py3.12/lib/python3.12/site-packages/llama_index/core/instrumentation/dispatcher.py:322\u001B[39m, in \u001B[36mDispatcher.span.<locals>.wrapper\u001B[39m\u001B[34m(func, instance, args, kwargs)\u001B[39m\n\u001B[32m    319\u001B[39m             _logger.debug(\u001B[33mf\u001B[39m\u001B[33m\"\u001B[39m\u001B[33mFailed to reset active_span_id: \u001B[39m\u001B[38;5;132;01m{\u001B[39;00me\u001B[38;5;132;01m}\u001B[39;00m\u001B[33m\"\u001B[39m)\n\u001B[32m    321\u001B[39m \u001B[38;5;28;01mtry\u001B[39;00m:\n\u001B[32m--> \u001B[39m\u001B[32m322\u001B[39m     result = \u001B[43mfunc\u001B[49m\u001B[43m(\u001B[49m\u001B[43m*\u001B[49m\u001B[43margs\u001B[49m\u001B[43m,\u001B[49m\u001B[43m \u001B[49m\u001B[43m*\u001B[49m\u001B[43m*\u001B[49m\u001B[43mkwargs\u001B[49m\u001B[43m)\u001B[49m\n\u001B[32m    323\u001B[39m     \u001B[38;5;28;01mif\u001B[39;00m \u001B[38;5;28misinstance\u001B[39m(result, asyncio.Future):\n\u001B[32m    324\u001B[39m         \u001B[38;5;66;03m# If the result is a Future, wrap it\u001B[39;00m\n\u001B[32m    325\u001B[39m         new_future = asyncio.ensure_future(result)\n",
      "\u001B[36mFile \u001B[39m\u001B[32m~/Library/Caches/pypoetry/virtualenvs/experiments-2025-joms-rag-kQVmZs0C-py3.12/lib/python3.12/site-packages/llama_index/core/node_parser/text/sentence.py:173\u001B[39m, in \u001B[36mSentenceSplitter.split_text_metadata_aware\u001B[39m\u001B[34m(self, text, metadata_str)\u001B[39m\n\u001B[32m    164\u001B[39m \u001B[38;5;28;01melif\u001B[39;00m effective_chunk_size < \u001B[32m50\u001B[39m:\n\u001B[32m    165\u001B[39m     \u001B[38;5;28mprint\u001B[39m(\n\u001B[32m    166\u001B[39m         \u001B[33mf\u001B[39m\u001B[33m\"\u001B[39m\u001B[33mMetadata length (\u001B[39m\u001B[38;5;132;01m{\u001B[39;00mmetadata_len\u001B[38;5;132;01m}\u001B[39;00m\u001B[33m) is close to chunk size \u001B[39m\u001B[33m\"\u001B[39m\n\u001B[32m    167\u001B[39m         \u001B[33mf\u001B[39m\u001B[33m\"\u001B[39m\u001B[33m(\u001B[39m\u001B[38;5;132;01m{\u001B[39;00m\u001B[38;5;28mself\u001B[39m.chunk_size\u001B[38;5;132;01m}\u001B[39;00m\u001B[33m). Resulting chunks are less than 50 tokens. \u001B[39m\u001B[33m\"\u001B[39m\n\u001B[32m   (...)\u001B[39m\u001B[32m    170\u001B[39m         flush=\u001B[38;5;28;01mTrue\u001B[39;00m,\n\u001B[32m    171\u001B[39m     )\n\u001B[32m--> \u001B[39m\u001B[32m173\u001B[39m \u001B[38;5;28;01mreturn\u001B[39;00m \u001B[38;5;28;43mself\u001B[39;49m\u001B[43m.\u001B[49m\u001B[43m_split_text\u001B[49m\u001B[43m(\u001B[49m\u001B[43mtext\u001B[49m\u001B[43m,\u001B[49m\u001B[43m \u001B[49m\u001B[43mchunk_size\u001B[49m\u001B[43m=\u001B[49m\u001B[43meffective_chunk_size\u001B[49m\u001B[43m)\u001B[49m\n",
      "\u001B[36mFile \u001B[39m\u001B[32m~/Library/Caches/pypoetry/virtualenvs/experiments-2025-joms-rag-kQVmZs0C-py3.12/lib/python3.12/site-packages/llama_index/core/node_parser/text/sentence.py:190\u001B[39m, in \u001B[36mSentenceSplitter._split_text\u001B[39m\u001B[34m(self, text, chunk_size)\u001B[39m\n\u001B[32m    185\u001B[39m     \u001B[38;5;28;01mreturn\u001B[39;00m [text]\n\u001B[32m    187\u001B[39m \u001B[38;5;28;01mwith\u001B[39;00m \u001B[38;5;28mself\u001B[39m.callback_manager.event(\n\u001B[32m    188\u001B[39m     CBEventType.CHUNKING, payload={EventPayload.CHUNKS: [text]}\n\u001B[32m    189\u001B[39m ) \u001B[38;5;28;01mas\u001B[39;00m event:\n\u001B[32m--> \u001B[39m\u001B[32m190\u001B[39m     splits = \u001B[38;5;28;43mself\u001B[39;49m\u001B[43m.\u001B[49m\u001B[43m_split\u001B[49m\u001B[43m(\u001B[49m\u001B[43mtext\u001B[49m\u001B[43m,\u001B[49m\u001B[43m \u001B[49m\u001B[43mchunk_size\u001B[49m\u001B[43m)\u001B[49m\n\u001B[32m    191\u001B[39m     chunks = \u001B[38;5;28mself\u001B[39m._merge(splits, chunk_size)\n\u001B[32m    193\u001B[39m     event.on_end(payload={EventPayload.CHUNKS: chunks})\n",
      "\u001B[36mFile \u001B[39m\u001B[32m~/Library/Caches/pypoetry/virtualenvs/experiments-2025-joms-rag-kQVmZs0C-py3.12/lib/python3.12/site-packages/llama_index/core/node_parser/text/sentence.py:211\u001B[39m, in \u001B[36mSentenceSplitter._split\u001B[39m\u001B[34m(self, text, chunk_size)\u001B[39m\n\u001B[32m    208\u001B[39m \u001B[38;5;28;01mif\u001B[39;00m token_size <= chunk_size:\n\u001B[32m    209\u001B[39m     \u001B[38;5;28;01mreturn\u001B[39;00m [_Split(text, is_sentence=\u001B[38;5;28;01mTrue\u001B[39;00m, token_size=token_size)]\n\u001B[32m--> \u001B[39m\u001B[32m211\u001B[39m text_splits_by_fns, is_sentence = \u001B[38;5;28;43mself\u001B[39;49m\u001B[43m.\u001B[49m\u001B[43m_get_splits_by_fns\u001B[49m\u001B[43m(\u001B[49m\u001B[43mtext\u001B[49m\u001B[43m)\u001B[49m\n\u001B[32m    213\u001B[39m text_splits = []\n\u001B[32m    214\u001B[39m \u001B[38;5;28;01mfor\u001B[39;00m text_split_by_fns \u001B[38;5;129;01min\u001B[39;00m text_splits_by_fns:\n",
      "\u001B[36mFile \u001B[39m\u001B[32m~/Library/Caches/pypoetry/virtualenvs/experiments-2025-joms-rag-kQVmZs0C-py3.12/lib/python3.12/site-packages/llama_index/core/node_parser/text/sentence.py:313\u001B[39m, in \u001B[36mSentenceSplitter._get_splits_by_fns\u001B[39m\u001B[34m(self, text)\u001B[39m\n\u001B[32m    311\u001B[39m \u001B[38;5;28;01mdef\u001B[39;00m\u001B[38;5;250m \u001B[39m\u001B[34m_get_splits_by_fns\u001B[39m(\u001B[38;5;28mself\u001B[39m, text: \u001B[38;5;28mstr\u001B[39m) -> Tuple[List[\u001B[38;5;28mstr\u001B[39m], \u001B[38;5;28mbool\u001B[39m]:\n\u001B[32m    312\u001B[39m     \u001B[38;5;28;01mfor\u001B[39;00m split_fn \u001B[38;5;129;01min\u001B[39;00m \u001B[38;5;28mself\u001B[39m._split_fns:\n\u001B[32m--> \u001B[39m\u001B[32m313\u001B[39m         splits = \u001B[43msplit_fn\u001B[49m\u001B[43m(\u001B[49m\u001B[43mtext\u001B[49m\u001B[43m)\u001B[49m\n\u001B[32m    314\u001B[39m         \u001B[38;5;28;01mif\u001B[39;00m \u001B[38;5;28mlen\u001B[39m(splits) > \u001B[32m1\u001B[39m:\n\u001B[32m    315\u001B[39m             \u001B[38;5;28;01mreturn\u001B[39;00m splits, \u001B[38;5;28;01mTrue\u001B[39;00m\n",
      "\u001B[36mFile \u001B[39m\u001B[32m~/Library/Caches/pypoetry/virtualenvs/experiments-2025-joms-rag-kQVmZs0C-py3.12/lib/python3.12/site-packages/llama_index/core/node_parser/text/utils.py:84\u001B[39m, in \u001B[36msplit_by_sentence_tokenizer.<locals>.<lambda>\u001B[39m\u001B[34m(text)\u001B[39m\n\u001B[32m     82\u001B[39m \u001B[38;5;28;01mdef\u001B[39;00m\u001B[38;5;250m \u001B[39m\u001B[34msplit_by_sentence_tokenizer\u001B[39m() -> Callable[[\u001B[38;5;28mstr\u001B[39m], List[\u001B[38;5;28mstr\u001B[39m]]:\n\u001B[32m     83\u001B[39m     \u001B[38;5;28;01mreturn\u001B[39;00m \u001B[38;5;28;01mlambda\u001B[39;00m text: split_by_sentence_tokenizer_internal(\n\u001B[32m---> \u001B[39m\u001B[32m84\u001B[39m         text, \u001B[43mglobals_helper\u001B[49m\u001B[43m.\u001B[49m\u001B[43mpunkt_tokenizer\u001B[49m\n\u001B[32m     85\u001B[39m     )\n",
      "\u001B[36mFile \u001B[39m\u001B[32m~/Library/Caches/pypoetry/virtualenvs/experiments-2025-joms-rag-kQVmZs0C-py3.12/lib/python3.12/site-packages/llama_index/core/utils.py:117\u001B[39m, in \u001B[36mGlobalsHelper.punkt_tokenizer\u001B[39m\u001B[34m(self)\u001B[39m\n\u001B[32m    114\u001B[39m     \u001B[38;5;28;01mfrom\u001B[39;00m\u001B[38;5;250m \u001B[39m\u001B[34;01mnltk\u001B[39;00m\u001B[34;01m.\u001B[39;00m\u001B[34;01mtokenize\u001B[39;00m\u001B[38;5;250m \u001B[39m\u001B[38;5;28;01mimport\u001B[39;00m PunktSentenceTokenizer\n\u001B[32m    116\u001B[39m     \u001B[38;5;28mself\u001B[39m._punkt_tokenizer = PunktSentenceTokenizer()\n\u001B[32m--> \u001B[39m\u001B[32m117\u001B[39m     \u001B[38;5;28mself\u001B[39m._stopwords = \u001B[43mstopwords\u001B[49m\u001B[43m.\u001B[49m\u001B[43mwords\u001B[49m(\u001B[33m\"\u001B[39m\u001B[33menglish\u001B[39m\u001B[33m\"\u001B[39m)\n\u001B[32m    119\u001B[39m \u001B[38;5;28;01mreturn\u001B[39;00m \u001B[38;5;28mself\u001B[39m._punkt_tokenizer\n",
      "\u001B[36mFile \u001B[39m\u001B[32m~/Library/Caches/pypoetry/virtualenvs/experiments-2025-joms-rag-kQVmZs0C-py3.12/lib/python3.12/site-packages/nltk/corpus/util.py:120\u001B[39m, in \u001B[36mLazyCorpusLoader.__getattr__\u001B[39m\u001B[34m(self, attr)\u001B[39m\n\u001B[32m    117\u001B[39m \u001B[38;5;28;01mif\u001B[39;00m attr == \u001B[33m\"\u001B[39m\u001B[33m__bases__\u001B[39m\u001B[33m\"\u001B[39m:\n\u001B[32m    118\u001B[39m     \u001B[38;5;28;01mraise\u001B[39;00m \u001B[38;5;167;01mAttributeError\u001B[39;00m(\u001B[33m\"\u001B[39m\u001B[33mLazyCorpusLoader object has no attribute \u001B[39m\u001B[33m'\u001B[39m\u001B[33m__bases__\u001B[39m\u001B[33m'\u001B[39m\u001B[33m\"\u001B[39m)\n\u001B[32m--> \u001B[39m\u001B[32m120\u001B[39m \u001B[38;5;28;43mself\u001B[39;49m\u001B[43m.\u001B[49m\u001B[43m__load\u001B[49m\u001B[43m(\u001B[49m\u001B[43m)\u001B[49m\n\u001B[32m    121\u001B[39m \u001B[38;5;66;03m# This looks circular, but its not, since __load() changes our\u001B[39;00m\n\u001B[32m    122\u001B[39m \u001B[38;5;66;03m# __class__ to something new:\u001B[39;00m\n\u001B[32m    123\u001B[39m \u001B[38;5;28;01mreturn\u001B[39;00m \u001B[38;5;28mgetattr\u001B[39m(\u001B[38;5;28mself\u001B[39m, attr)\n",
      "\u001B[36mFile \u001B[39m\u001B[32m~/Library/Caches/pypoetry/virtualenvs/experiments-2025-joms-rag-kQVmZs0C-py3.12/lib/python3.12/site-packages/nltk/corpus/util.py:86\u001B[39m, in \u001B[36mLazyCorpusLoader.__load\u001B[39m\u001B[34m(self)\u001B[39m\n\u001B[32m     84\u001B[39m             root = nltk.data.find(\u001B[33mf\u001B[39m\u001B[33m\"\u001B[39m\u001B[38;5;132;01m{\u001B[39;00m\u001B[38;5;28mself\u001B[39m.subdir\u001B[38;5;132;01m}\u001B[39;00m\u001B[33m/\u001B[39m\u001B[38;5;132;01m{\u001B[39;00mzip_name\u001B[38;5;132;01m}\u001B[39;00m\u001B[33m\"\u001B[39m)\n\u001B[32m     85\u001B[39m         \u001B[38;5;28;01mexcept\u001B[39;00m \u001B[38;5;167;01mLookupError\u001B[39;00m:\n\u001B[32m---> \u001B[39m\u001B[32m86\u001B[39m             \u001B[38;5;28;01mraise\u001B[39;00m e\n\u001B[32m     88\u001B[39m \u001B[38;5;66;03m# Load the corpus.\u001B[39;00m\n\u001B[32m     89\u001B[39m corpus = \u001B[38;5;28mself\u001B[39m.__reader_cls(root, *\u001B[38;5;28mself\u001B[39m.__args, **\u001B[38;5;28mself\u001B[39m.__kwargs)\n",
      "\u001B[36mFile \u001B[39m\u001B[32m~/Library/Caches/pypoetry/virtualenvs/experiments-2025-joms-rag-kQVmZs0C-py3.12/lib/python3.12/site-packages/nltk/corpus/util.py:81\u001B[39m, in \u001B[36mLazyCorpusLoader.__load\u001B[39m\u001B[34m(self)\u001B[39m\n\u001B[32m     79\u001B[39m \u001B[38;5;28;01melse\u001B[39;00m:\n\u001B[32m     80\u001B[39m     \u001B[38;5;28;01mtry\u001B[39;00m:\n\u001B[32m---> \u001B[39m\u001B[32m81\u001B[39m         root = \u001B[43mnltk\u001B[49m\u001B[43m.\u001B[49m\u001B[43mdata\u001B[49m\u001B[43m.\u001B[49m\u001B[43mfind\u001B[49m\u001B[43m(\u001B[49m\u001B[33;43mf\u001B[39;49m\u001B[33;43m\"\u001B[39;49m\u001B[38;5;132;43;01m{\u001B[39;49;00m\u001B[38;5;28;43mself\u001B[39;49m\u001B[43m.\u001B[49m\u001B[43msubdir\u001B[49m\u001B[38;5;132;43;01m}\u001B[39;49;00m\u001B[33;43m/\u001B[39;49m\u001B[38;5;132;43;01m{\u001B[39;49;00m\u001B[38;5;28;43mself\u001B[39;49m\u001B[43m.\u001B[49m\u001B[43m__name\u001B[49m\u001B[38;5;132;43;01m}\u001B[39;49;00m\u001B[33;43m\"\u001B[39;49m\u001B[43m)\u001B[49m\n\u001B[32m     82\u001B[39m     \u001B[38;5;28;01mexcept\u001B[39;00m \u001B[38;5;167;01mLookupError\u001B[39;00m \u001B[38;5;28;01mas\u001B[39;00m e:\n\u001B[32m     83\u001B[39m         \u001B[38;5;28;01mtry\u001B[39;00m:\n",
      "\u001B[36mFile \u001B[39m\u001B[32m~/Library/Caches/pypoetry/virtualenvs/experiments-2025-joms-rag-kQVmZs0C-py3.12/lib/python3.12/site-packages/nltk/data.py:579\u001B[39m, in \u001B[36mfind\u001B[39m\u001B[34m(resource_name, paths)\u001B[39m\n\u001B[32m    577\u001B[39m sep = \u001B[33m\"\u001B[39m\u001B[33m*\u001B[39m\u001B[33m\"\u001B[39m * \u001B[32m70\u001B[39m\n\u001B[32m    578\u001B[39m resource_not_found = \u001B[33mf\u001B[39m\u001B[33m\"\u001B[39m\u001B[38;5;130;01m\\n\u001B[39;00m\u001B[38;5;132;01m{\u001B[39;00msep\u001B[38;5;132;01m}\u001B[39;00m\u001B[38;5;130;01m\\n\u001B[39;00m\u001B[38;5;132;01m{\u001B[39;00mmsg\u001B[38;5;132;01m}\u001B[39;00m\u001B[38;5;130;01m\\n\u001B[39;00m\u001B[38;5;132;01m{\u001B[39;00msep\u001B[38;5;132;01m}\u001B[39;00m\u001B[38;5;130;01m\\n\u001B[39;00m\u001B[33m\"\u001B[39m\n\u001B[32m--> \u001B[39m\u001B[32m579\u001B[39m \u001B[38;5;28;01mraise\u001B[39;00m \u001B[38;5;167;01mLookupError\u001B[39;00m(resource_not_found)\n",
      "\u001B[31mLookupError\u001B[39m: \n**********************************************************************\n  Resource \u001B[93mstopwords\u001B[0m not found.\n  Please use the NLTK Downloader to obtain the resource:\n\n  \u001B[31m>>> import nltk\n  >>> nltk.download('stopwords')\n  \u001B[0m\n  For more information see: https://www.nltk.org/data.html\n\n  Attempted to load \u001B[93mcorpora/stopwords\u001B[0m\n\n  Searched in:\n    - '/Users/aqilafarahmand/nltk_data'\n    - '/Users/aqilafarahmand/Library/Caches/pypoetry/virtualenvs/experiments-2025-joms-rag-kQVmZs0C-py3.12/nltk_data'\n    - '/Users/aqilafarahmand/Library/Caches/pypoetry/virtualenvs/experiments-2025-joms-rag-kQVmZs0C-py3.12/share/nltk_data'\n    - '/Users/aqilafarahmand/Library/Caches/pypoetry/virtualenvs/experiments-2025-joms-rag-kQVmZs0C-py3.12/lib/nltk_data'\n    - '/usr/share/nltk_data'\n    - '/usr/local/share/nltk_data'\n    - '/usr/lib/nltk_data'\n    - '/usr/local/lib/nltk_data'\n    - '/Users/aqilafarahmand/Library/Caches/pypoetry/virtualenvs/experiments-2025-joms-rag-kQVmZs0C-py3.12/lib/python3.12/site-packages/llama_index/core/_static/nltk_cache'\n**********************************************************************\n"
     ]
    }
   ],
   "execution_count": 23
  },
  {
   "metadata": {},
   "cell_type": "code",
   "source": "",
   "id": "7ee442e87fc1e6f7",
   "outputs": [],
   "execution_count": null
  },
  {
   "cell_type": "markdown",
   "id": "239ee312-c782-4eee-8c65-34bfd4b5f3fa",
   "metadata": {
    "tags": []
   },
   "source": [
    " ### NUOVO METODO DELLA LIBRERIA"
   ]
  },
  {
   "cell_type": "code",
   "id": "268e4897-3c38-469a-b9a1-7dfc26f86ae2",
   "metadata": {
    "tags": []
   },
   "source": [
    "import pickle\n",
    "# Salva resultsDict su un file per poter riaccedere successivamente\n",
    "with open('rag_dataset.pkl', 'wb') as f: #Cambianome per salvare più modelli \n",
    "    pickle.dump(rag_dataset, f)"
   ],
   "outputs": [],
   "execution_count": null
  },
  {
   "cell_type": "code",
   "id": "a8285f45-148a-49cb-9142-22204d7dba56",
   "metadata": {},
   "source": [
    "# Se lo voglio caricare\n",
    "with open('rag_dataset.pkl', 'rb') as f:\n",
    "    rag_dataset = pickle.load(f)"
   ],
   "outputs": [],
   "execution_count": null
  },
  {
   "cell_type": "code",
   "id": "667ce6d9-e30d-40c7-aea4-ece9df9f3627",
   "metadata": {
    "tags": []
   },
   "source": [
    "rag_dataset"
   ],
   "outputs": [],
   "execution_count": null
  },
  {
   "cell_type": "code",
   "id": "e4af9739-4c21-434f-817f-8eb7c5cd1fe1",
   "metadata": {
    "tags": []
   },
   "source": [
    "rag_dataset.to_pandas()"
   ],
   "outputs": [],
   "execution_count": null
  },
  {
   "cell_type": "code",
   "id": "8afa0577-906c-4272-af17-8c8f6c804685",
   "metadata": {
    "tags": []
   },
   "source": [
    "Ragdf= rag_dataset.to_pandas()\n",
    "Ragdf.to_csv('QUERYGENERATEGPT4CHUNK.csv', index=False )"
   ],
   "outputs": [],
   "execution_count": null
  },
  {
   "cell_type": "code",
   "id": "ebd8b623-246f-4ce0-a149-9cd39ea812ad",
   "metadata": {
    "tags": []
   },
   "source": [
    "# Supponendo che il dataset sia memorizzato nella variabile rag_dataset\n",
    "domande = [example.query for example in rag_dataset.examples]\n",
    "\n",
    "# Stampa le domande estratte\n",
    "for domanda in domande:\n",
    "    print(domanda)\n"
   ],
   "outputs": [],
   "execution_count": null
  },
  {
   "cell_type": "code",
   "id": "60c5a3b8-aec0-4772-8f2b-1f56ee62abd7",
   "metadata": {
    "tags": []
   },
   "source": [
    "# Estrai solo le prime 10 domande dal dataset\n",
    "prime_10_domande = [example.query for example in rag_dataset.examples[:10]]\n",
    "\n",
    "# Stampa le prime 10 domande\n",
    "for domanda in prime_10_domande:\n",
    "    print(domanda)\n"
   ],
   "outputs": [],
   "execution_count": null
  },
  {
   "cell_type": "markdown",
   "id": "7a277d19-329e-46a7-ac26-991484e09fe8",
   "metadata": {},
   "source": [
    "CHUNK OVERLAP = A 10 PERCHE'\n",
    "- Bilanciamento tra continuità e ridondanza: Un overlap troppo piccolo potrebbe causare perdita di contesto tra i chunk. Un overlap troppo grande aumenterebbe eccessivamente la ridondanza e il costo computazionale.\n",
    "\n",
    "\n",
    "- Mantenimento del contesto: Dividendo per 10, si ottiene un overlap che di solito include abbastanza testo per mantenere il contesto tra i chunk adiacenti.\n",
    "\n",
    "\n",
    "- Efficienza computazionale: Questo rapporto offre un buon compromesso tra la qualità dei risultati e l'efficienza computazionale.\n",
    "\n",
    "\n",
    "- Adattabilità a diverse lunghezze di chunk: Questa regola si adatta bene a varie dimensioni di chunk, da quelli più piccoli a quelli più grandi."
   ]
  },
  {
   "cell_type": "markdown",
   "id": "86440c8c-2f9b-4909-afce-106d41b72fe6",
   "metadata": {},
   "source": [
    "### VALUTAZIONE PER OGNI CHUNK CON NUOVA LIBRERIA"
   ]
  },
  {
   "cell_type": "code",
   "id": "2b129699-a488-470a-b967-e22f8cdd5bfb",
   "metadata": {
    "tags": []
   },
   "source": [
    "import time\n",
    "import pandas as pd\n",
    "from IPython.display import display\n",
    "\n",
    "# Define the function to calculate average response time, average faithfulness, and average relevancy metrics\n",
    "def evaluate_response_time_and_accuracy(chunk_size):\n",
    "    total_response_time = 0\n",
    "    total_faithfulness = 0\n",
    "    total_relevancy = 0\n",
    "\n",
    "    \n",
    "    vector_index = VectorStoreIndex.from_documents(\n",
    "        eval_documents, llm=azure_model_GPT4OMINI, embed_model=azure_embeddings, chunk_size=chunk_size, chunk_overlap=chunk_size // 10\n",
    "    )\n",
    "\n",
    "    query_engine = vector_index.as_query_engine()\n",
    "    num_questions = len(prime_10_domande)\n",
    "\n",
    "    for question in prime_10_domande:\n",
    "        start_time = time.time()\n",
    "        response_vector = query_engine.query(question)\n",
    "        elapsed_time = time.time() - start_time\n",
    "\n",
    "        faithfulness_result = faithfulness_gpt4.evaluate_response(\n",
    "            response=response_vector\n",
    "        ).passing\n",
    "\n",
    "        relevancy_result = relevancy_gpt4.evaluate_response(\n",
    "            query=question, response=response_vector\n",
    "        ).passing\n",
    "\n",
    "        total_response_time += elapsed_time\n",
    "        total_faithfulness += faithfulness_result\n",
    "        total_relevancy += relevancy_result\n",
    "\n",
    "    average_response_time = total_response_time / num_questions\n",
    "    average_faithfulness = total_faithfulness / num_questions\n",
    "    average_relevancy = total_relevancy / num_questions\n",
    "\n",
    "    return average_response_time, average_faithfulness, average_relevancy\n",
    "\n",
    "# Prepare a list to store the results for each chunk size\n",
    "results = []\n",
    "\n",
    "# Iterate over different chunk sizes to evaluate the metrics\n",
    "for chunk_size in [128, 256, 512, 1024, 2048]:\n",
    "    avg_time, avg_faithfulness, avg_relevancy = evaluate_response_time_and_accuracy(chunk_size)\n",
    "    print(f\"Chunk size {chunk_size} - Average Response time: {avg_time:.2f}s, Average Faithfulness: {avg_faithfulness:.2f}, Average Relevancy: {avg_relevancy:.2f}\")\n",
    "    \n",
    "    # Append the results to the list\n",
    "    results.append({\n",
    "        \"Chunk Size\": chunk_size,\n",
    "        \"Average Response Time (s)\": avg_time,\n",
    "        \"Average Faithfulness\": avg_faithfulness,\n",
    "        \"Average Relevancy\": avg_relevancy\n",
    "    })\n",
    "\n",
    "# Convert the results list to a DataFrame\n",
    "df = pd.DataFrame(results)\n",
    "\n",
    "# Display the DataFrame\n",
    "display(df)\n"
   ],
   "outputs": [],
   "execution_count": null
  },
  {
   "cell_type": "code",
   "id": "54725fdd-e989-4624-9608-76ffafac96d0",
   "metadata": {
    "tags": []
   },
   "source": [
    "#creo il csv \n",
    "df.to_csv('RisultatiChunkGPT4O.csv', index=False )\n",
    "df"
   ],
   "outputs": [],
   "execution_count": null
  },
  {
   "cell_type": "markdown",
   "id": "e78ee4d9-dc49-4cea-a01b-04f474d6c449",
   "metadata": {
    "tags": []
   },
   "source": [
    "### VALUTAZIONE PER OGNI CHUNK CON VECCHIA LIBRERIA"
   ]
  },
  {
   "cell_type": "code",
   "id": "4234a88e-cd23-46d0-99f3-a53f202e5e8c",
   "metadata": {
    "tags": []
   },
   "source": [
    "import time\n",
    "import pandas as pd\n",
    "from IPython.display import display\n",
    "\n",
    "# Define the function to calculate average response time, average faithfulness, and average relevancy metrics\n",
    "def evaluate_response_time_and_accuracy(chunk_size):\n",
    "    total_response_time = 0\n",
    "    total_faithfulness = 0\n",
    "    total_relevancy = 0\n",
    "\n",
    "    \n",
    "    vector_index = VectorStoreIndex.from_documents(\n",
    "        eval_documents, llm=azure_model_GPT4OMINI, embed_model=azure_embeddings, chunk_size=chunk_size, chunk_overlap=chunk_size // 10\n",
    "    )\n",
    "\n",
    "    query_engine = vector_index.as_query_engine()\n",
    "    num_questions = len(eval_questions)\n",
    "\n",
    "    for question in eval_questions:\n",
    "        start_time = time.time()\n",
    "        response_vector = query_engine.query(question)\n",
    "        elapsed_time = time.time() - start_time\n",
    "\n",
    "        faithfulness_result = faithfulness_gpt4.evaluate_response(\n",
    "            response=response_vector\n",
    "        ).passing\n",
    "\n",
    "        relevancy_result = relevancy_gpt4.evaluate_response(\n",
    "            query=question, response=response_vector\n",
    "        ).passing\n",
    "\n",
    "        total_response_time += elapsed_time\n",
    "        total_faithfulness += faithfulness_result\n",
    "        total_relevancy += relevancy_result\n",
    "\n",
    "    average_response_time = total_response_time / num_questions\n",
    "    average_faithfulness = total_faithfulness / num_questions\n",
    "    average_relevancy = total_relevancy / num_questions\n",
    "\n",
    "    return average_response_time, average_faithfulness, average_relevancy\n",
    "\n",
    "# Prepare a list to store the results for each chunk size\n",
    "results = []\n",
    "\n",
    "# Iterate over different chunk sizes to evaluate the metrics\n",
    "for chunk_size in [128, 256, 512, 1024, 2048]:\n",
    "    avg_time, avg_faithfulness, avg_relevancy = evaluate_response_time_and_accuracy(chunk_size)\n",
    "    print(f\"Chunk size {chunk_size} - Average Response time: {avg_time:.2f}s, Average Faithfulness: {avg_faithfulness:.2f}, Average Relevancy: {avg_relevancy:.2f}\")\n",
    "    \n",
    "    # Append the results to the list\n",
    "    results.append({\n",
    "        \"Chunk Size\": chunk_size,\n",
    "        \"Average Response Time (s)\": avg_time,\n",
    "        \"Average Faithfulness\": avg_faithfulness,\n",
    "        \"Average Relevancy\": avg_relevancy\n",
    "    })\n",
    "\n",
    "# Convert the results list to a DataFrame\n",
    "df = pd.DataFrame(results)\n",
    "\n",
    "# Display the DataFrame\n",
    "display(df)\n"
   ],
   "outputs": [],
   "execution_count": null
  },
  {
   "cell_type": "markdown",
   "id": "181d72e5-ef7f-4227-aee2-92b597814828",
   "metadata": {
    "jp-MarkdownHeadingCollapsed": true,
    "tags": []
   },
   "source": [
    "### GRAFICO A LINEE"
   ]
  },
  {
   "cell_type": "code",
   "id": "8458631e-5a65-48b8-a6f9-8298a7111252",
   "metadata": {
    "tags": []
   },
   "source": [
    "import matplotlib.pyplot as plt\n",
    "import pandas as pd\n",
    "\n",
    "# Dati\n",
    "data = {\n",
    "    'Chunk Size': [128, 256, 512, 1024, 2048],\n",
    "    'Average Response Time (s)': [1.502399, 1.121754, 1.608827, 1.397066, 1.261117],\n",
    "    'Average Faithfulness': [0.95, 0.95, 1.00, 0.95, 0.90],\n",
    "    'Average Relevancy': [0.85, 0.75, 0.85, 0.85, 0.75]\n",
    "}\n",
    "\n",
    "df = pd.DataFrame(data)\n",
    "\n",
    "# Creazione del grafico\n",
    "plt.figure(figsize=(12, 6))\n",
    "\n",
    "# Linee\n",
    "plt.plot(df['Chunk Size'], df['Average Response Time (s)'], marker='o', linewidth=2, label='Response Time')\n",
    "plt.plot(df['Chunk Size'], df['Average Faithfulness'], marker='s', linewidth=2, label='Faithfulness')\n",
    "plt.plot(df['Chunk Size'], df['Average Relevancy'], marker='^', linewidth=2, label='Relevancy')\n",
    "\n",
    "# Personalizzazione del grafico\n",
    "plt.title('Metrics by Chunk Size', fontsize=16)\n",
    "plt.xlabel('Chunk Size', fontsize=12)\n",
    "plt.ylabel('Value', fontsize=12)\n",
    "plt.grid(True, linestyle='--', alpha=0.7)\n",
    "plt.legend(fontsize=10)\n",
    "\n",
    "# Personalizzazione degli assi\n",
    "plt.xscale('log', base=2)  # Scala logaritmica per l'asse x\n",
    "plt.xticks(df['Chunk Size'], df['Chunk Size'], rotation=0)\n",
    "\n",
    "# Aggiunta di etichette ai punti\n",
    "for i, row in df.iterrows():\n",
    "    plt.annotate(f\"{row['Average Response Time (s)']:.2f}\", \n",
    "                 (row['Chunk Size'], row['Average Response Time (s)']),\n",
    "                 textcoords=\"offset points\", xytext=(0,10), ha='center')\n",
    "    plt.annotate(f\"{row['Average Faithfulness']:.2f}\", \n",
    "                 (row['Chunk Size'], row['Average Faithfulness']),\n",
    "                 textcoords=\"offset points\", xytext=(0,10), ha='center')\n",
    "    plt.annotate(f\"{row['Average Relevancy']:.2f}\", \n",
    "                 (row['Chunk Size'], row['Average Relevancy']),\n",
    "                 textcoords=\"offset points\", xytext=(0,-15), ha='center')\n",
    "\n",
    "plt.tight_layout()\n",
    "plt.show()"
   ],
   "outputs": [],
   "execution_count": null
  },
  {
   "cell_type": "markdown",
   "id": "729d91ef-e00e-475c-b329-c59bfcae3781",
   "metadata": {
    "jp-MarkdownHeadingCollapsed": true,
    "tags": []
   },
   "source": [
    "### GRAFICO A BARRE"
   ]
  },
  {
   "cell_type": "code",
   "id": "4fbe129e-558c-419f-be85-81107f25a051",
   "metadata": {
    "tags": []
   },
   "source": [
    "import matplotlib.pyplot as plt\n",
    "import numpy as np\n",
    "\n",
    "# Dati\n",
    "chunk_sizes = [128, 256, 512, 1024, 2048]\n",
    "response_times = [1.502399, 1.121754, 1.608827, 1.397066, 1.261117]\n",
    "faithfulness = [0.95, 0.95, 1.00, 0.95, 0.90]\n",
    "relevancy = [0.85, 0.75, 0.85, 0.85, 0.75]\n",
    "\n",
    "# Impostazione del grafico\n",
    "fig, ax = plt.subplots(figsize=(12, 6))\n",
    "\n",
    "# Larghezza delle barre\n",
    "bar_width = 0.25\n",
    "\n",
    "# Posizioni delle barre\n",
    "r1 = np.arange(len(chunk_sizes))\n",
    "r2 = [x + bar_width for x in r1]\n",
    "r3 = [x + bar_width for x in r2]\n",
    "\n",
    "# Creazione delle barre\n",
    "plt.bar(r1, response_times, color='skyblue', width=bar_width, label='Response Time (s)')\n",
    "plt.bar(r2, faithfulness, color='lightgreen', width=bar_width, label='Faithfulness')\n",
    "plt.bar(r3, relevancy, color='salmon', width=bar_width, label='Relevancy')\n",
    "\n",
    "# Personalizzazione del grafico\n",
    "plt.xlabel('Chunk Size', fontweight='bold', fontsize=12)\n",
    "plt.ylabel('Values', fontweight='bold', fontsize=12)\n",
    "plt.title('Metrics by Chunk Size', fontweight='bold', fontsize=16)\n",
    "plt.xticks([r + bar_width for r in range(len(chunk_sizes))], chunk_sizes)\n",
    "\n",
    "# Aggiunta di etichette sopra le barre\n",
    "def add_labels(rects):\n",
    "    for rect in rects:\n",
    "        height = rect.get_height()\n",
    "        ax.text(rect.get_x() + rect.get_width()/2., height,\n",
    "                f'{height:.2f}',\n",
    "                ha='center', va='bottom')\n",
    "\n",
    "add_labels(ax.patches[::3])  # Response Time\n",
    "add_labels(ax.patches[1::3])  # Faithfulness\n",
    "add_labels(ax.patches[2::3])  # Relevancy\n",
    "\n",
    "# Legenda\n",
    "plt.legend()\n",
    "\n",
    "# Griglia\n",
    "plt.grid(axis='y', linestyle='--', alpha=0.7)\n",
    "\n",
    "plt.tight_layout()\n",
    "plt.show()"
   ],
   "outputs": [],
   "execution_count": null
  },
  {
   "cell_type": "markdown",
   "id": "c108eaa2-4a58-45ca-9a9f-f95d4c98276b",
   "metadata": {},
   "source": [
    "## Analisi dei Dati\n",
    "\n",
    "### Dimensioni dei Chunk\n",
    "- **Dimensioni più piccole (128, 256)**: Offrono tempi di risposta variabili, con 256 che fornisce il tempo più rapido (1.121754s). La fedeltà è costante a 0.95, ma la pertinenza è inferiore (0.85 e 0.75 rispettivamente) rispetto ad alcune dimensioni maggiori.\n",
    "\n",
    "- **Dimensioni medie (512)**: Mostrano il tempo di risposta più lungo (1.608827s), ma compensano con la massima fedeltà (1.00) e un'alta pertinenza (0.85). \n",
    "\n",
    "- **Dimensioni più grandi (1024, 2048)**: Presentano tempi di risposta intermedi. La dimensione 1024 mantiene alta fedeltà (0.95) e pertinenza (0.85), mentre 2048 mostra un leggero calo in entrambe (0.90 per fedeltà, 0.75 per pertinenza).\n",
    "\n",
    "### Raccomandazione\n",
    "**Dimensione del Chunk di 512**: Questa dimensione sembra offrire il miglior equilibrio complessivo. Nonostante il tempo di risposta più lungo, fornisce la massima fedeltà e un'alta pertinenza, che potrebbero essere cruciali per la qualità delle risposte.\n",
    "\n",
    "**Dimensione del Chunk di 1024**: Potrebbe essere una valida alternativa se si cerca un compromesso tra tempo di risposta e qualità. Mantiene alti livelli di fedeltà e pertinenza con un tempo di risposta più moderato rispetto a 512."
   ]
  }
 ],
 "metadata": {
  "kernelspec": {
   "display_name": "Python 3 (ipykernel)",
   "language": "python",
   "name": "python3"
  },
  "language_info": {
   "codemirror_mode": {
    "name": "ipython",
    "version": 3
   },
   "file_extension": ".py",
   "mimetype": "text/x-python",
   "name": "python",
   "nbconvert_exporter": "python",
   "pygments_lexer": "ipython3",
   "version": "3.10.10"
  }
 },
 "nbformat": 4,
 "nbformat_minor": 5
}
